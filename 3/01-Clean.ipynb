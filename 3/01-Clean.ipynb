{
 "cells": [
  {
   "cell_type": "markdown",
   "id": "32ea664a-f71f-42b6-a956-b3ccdf9f9e63",
   "metadata": {},
   "source": [
    "## 01-Clean"
   ]
  },
  {
   "cell_type": "markdown",
   "id": "4ca5c089-fc07-4f0a-9338-7a703227de7f",
   "metadata": {},
   "source": [
    "The first step I had to do was to import some libraries and download the dataset"
   ]
  },
  {
   "cell_type": "code",
   "execution_count": 1,
   "id": "933da865-4efc-4975-8c22-f986333e39b2",
   "metadata": {},
   "outputs": [],
   "source": [
    "import pandas as pd\n",
    "import numpy as np\n",
    "import matplotlib.pyplot as plt\n",
    "import seaborn as sns\n",
    "import math\n",
    "\n",
    "from IPython.display import display, Markdown\n",
    "plt.style.use(\"seaborn-darkgrid\")\n",
    "pd.set_option('display.max_columns', None)  \n",
    "\n",
    "import sys, os, yaml\n",
    "\n",
    "DATASET = \"NASA\"\n",
    "\n",
    "COLAB = 'google.colab' in sys.modules\n",
    "if COLAB:\n",
    "    ROOT = f\"/content/gdrive/MyDrive/datasets/{DATASET.replace(' ','_')}/\"\n",
    "else:\n",
    "    ROOT = \"./\"\n",
    "\n",
    "DEBUG = False\n",
    "SEED = 1612"
   ]
  },
  {
   "cell_type": "code",
   "execution_count": 2,
   "id": "bcd03142-5149-4a36-b3e0-a988bcd20f32",
   "metadata": {},
   "outputs": [],
   "source": [
    "if COLAB:\n",
    "    from google.colab import drive\n",
    "    if not os.path.isdir(\"/content/gdrive\"):\n",
    "        drive.mount(\"/content/gdrive\")\n",
    "        d = \"/content/gdrive/MyDrive/datasets\"\n",
    "        if not os.path.isdir(d): os.makedirs(d)\n",
    "        if not os.path.isdir(ROOT): os.makedirs(ROOT)\n",
    "\n",
    "def makedirs(d):\n",
    "    if COLAB:\n",
    "        if not os.path.isdir(ROOT+d): os.makedirs(ROOT+d)\n",
    "    else:\n",
    "        if not os.path.isdir(ROOT+d): os.makedirs(ROOT+d, mode=0o777, exist_ok=True)\n",
    "\n",
    "for d in ['orig','data','output']: makedirs(d)"
   ]
  },
  {
   "cell_type": "markdown",
   "id": "8629c899-adb9-4664-84f2-9377c9dcf2e4",
   "metadata": {},
   "source": [
    "I then created the variable df which holds the dataframe of the csv dataset"
   ]
  },
  {
   "cell_type": "code",
   "execution_count": 3,
   "id": "184f6b44-e19a-4bea-8d04-20a194255ddc",
   "metadata": {},
   "outputs": [
    {
     "name": "stdout",
     "output_type": "stream",
     "text": [
      "Loading Local Copy...\n",
      "(5589, 37)\n"
     ]
    },
    {
     "data": {
      "text/html": [
       "<div>\n",
       "<style scoped>\n",
       "    .dataframe tbody tr th:only-of-type {\n",
       "        vertical-align: middle;\n",
       "    }\n",
       "\n",
       "    .dataframe tbody tr th {\n",
       "        vertical-align: top;\n",
       "    }\n",
       "\n",
       "    .dataframe thead th {\n",
       "        text-align: right;\n",
       "    }\n",
       "</style>\n",
       "<table border=\"1\" class=\"dataframe\">\n",
       "  <thead>\n",
       "    <tr style=\"text-align: right;\">\n",
       "      <th></th>\n",
       "      <th>BRANCH_COUNT</th>\n",
       "      <th>CALL_PAIRS</th>\n",
       "      <th>LOC_CODE_AND_COMMENT</th>\n",
       "      <th>LOC_COMMENTS</th>\n",
       "      <th>CONDITION_COUNT</th>\n",
       "      <th>CYCLOMATIC_COMPLEXITY</th>\n",
       "      <th>CYCLOMATIC_DENSITY</th>\n",
       "      <th>DECISION_COUNT</th>\n",
       "      <th>DECISION_DENSITY</th>\n",
       "      <th>DESIGN_COMPLEXITY</th>\n",
       "      <th>DESIGN_DENSITY</th>\n",
       "      <th>EDGE_COUNT</th>\n",
       "      <th>ESSENTIAL_COMPLEXITY</th>\n",
       "      <th>ESSENTIAL_DENSITY</th>\n",
       "      <th>LOC_EXECUTABLE</th>\n",
       "      <th>PARAMETER_COUNT</th>\n",
       "      <th>HALSTEAD_CONTENT</th>\n",
       "      <th>HALSTEAD_DIFFICULTY</th>\n",
       "      <th>HALSTEAD_EFFORT</th>\n",
       "      <th>HALSTEAD_ERROR_EST</th>\n",
       "      <th>HALSTEAD_LENGTH</th>\n",
       "      <th>HALSTEAD_LEVEL</th>\n",
       "      <th>HALSTEAD_PROG_TIME</th>\n",
       "      <th>HALSTEAD_VOLUME</th>\n",
       "      <th>MAINTENANCE_SEVERITY</th>\n",
       "      <th>MODIFIED_CONDITION_COUNT</th>\n",
       "      <th>MULTIPLE_CONDITION_COUNT</th>\n",
       "      <th>NODE_COUNT</th>\n",
       "      <th>NORMALIZED_CYLOMATIC_COMPLEXITY</th>\n",
       "      <th>NUM_OPERANDS</th>\n",
       "      <th>NUM_OPERATORS</th>\n",
       "      <th>NUM_UNIQUE_OPERANDS</th>\n",
       "      <th>NUM_UNIQUE_OPERATORS</th>\n",
       "      <th>NUMBER_OF_LINES</th>\n",
       "      <th>PERCENT_COMMENTS</th>\n",
       "      <th>LOC_TOTAL</th>\n",
       "      <th>defects</th>\n",
       "    </tr>\n",
       "  </thead>\n",
       "  <tbody>\n",
       "    <tr>\n",
       "      <th>0</th>\n",
       "      <td>1.0</td>\n",
       "      <td>0.0</td>\n",
       "      <td>0.0</td>\n",
       "      <td>0.0</td>\n",
       "      <td>0.0</td>\n",
       "      <td>1.0</td>\n",
       "      <td>1.00</td>\n",
       "      <td>0.0</td>\n",
       "      <td>0.0</td>\n",
       "      <td>1.0</td>\n",
       "      <td>1.0</td>\n",
       "      <td>1.0</td>\n",
       "      <td>1.0</td>\n",
       "      <td>0.0</td>\n",
       "      <td>0.0</td>\n",
       "      <td>2.0</td>\n",
       "      <td>5.33</td>\n",
       "      <td>1.50</td>\n",
       "      <td>12.00</td>\n",
       "      <td>0.00</td>\n",
       "      <td>4.0</td>\n",
       "      <td>0.67</td>\n",
       "      <td>0.67</td>\n",
       "      <td>8.00</td>\n",
       "      <td>1.0</td>\n",
       "      <td>0.0</td>\n",
       "      <td>0.0</td>\n",
       "      <td>2.0</td>\n",
       "      <td>0.50</td>\n",
       "      <td>1.0</td>\n",
       "      <td>3.0</td>\n",
       "      <td>1.0</td>\n",
       "      <td>3.0</td>\n",
       "      <td>2.0</td>\n",
       "      <td>0.00</td>\n",
       "      <td>0.0</td>\n",
       "      <td>False</td>\n",
       "    </tr>\n",
       "    <tr>\n",
       "      <th>1</th>\n",
       "      <td>1.0</td>\n",
       "      <td>1.0</td>\n",
       "      <td>0.0</td>\n",
       "      <td>0.0</td>\n",
       "      <td>0.0</td>\n",
       "      <td>1.0</td>\n",
       "      <td>1.00</td>\n",
       "      <td>0.0</td>\n",
       "      <td>0.0</td>\n",
       "      <td>1.0</td>\n",
       "      <td>1.0</td>\n",
       "      <td>2.0</td>\n",
       "      <td>1.0</td>\n",
       "      <td>0.0</td>\n",
       "      <td>0.0</td>\n",
       "      <td>1.0</td>\n",
       "      <td>0.00</td>\n",
       "      <td>0.00</td>\n",
       "      <td>0.00</td>\n",
       "      <td>0.00</td>\n",
       "      <td>1.0</td>\n",
       "      <td>0.00</td>\n",
       "      <td>0.00</td>\n",
       "      <td>0.00</td>\n",
       "      <td>1.0</td>\n",
       "      <td>0.0</td>\n",
       "      <td>0.0</td>\n",
       "      <td>3.0</td>\n",
       "      <td>1.00</td>\n",
       "      <td>1.0</td>\n",
       "      <td>0.0</td>\n",
       "      <td>1.0</td>\n",
       "      <td>0.0</td>\n",
       "      <td>1.0</td>\n",
       "      <td>0.00</td>\n",
       "      <td>0.0</td>\n",
       "      <td>False</td>\n",
       "    </tr>\n",
       "    <tr>\n",
       "      <th>2</th>\n",
       "      <td>1.0</td>\n",
       "      <td>4.0</td>\n",
       "      <td>7.0</td>\n",
       "      <td>24.0</td>\n",
       "      <td>0.0</td>\n",
       "      <td>1.0</td>\n",
       "      <td>0.13</td>\n",
       "      <td>0.0</td>\n",
       "      <td>0.0</td>\n",
       "      <td>1.0</td>\n",
       "      <td>1.0</td>\n",
       "      <td>6.0</td>\n",
       "      <td>1.0</td>\n",
       "      <td>0.0</td>\n",
       "      <td>1.0</td>\n",
       "      <td>0.0</td>\n",
       "      <td>17.88</td>\n",
       "      <td>7.43</td>\n",
       "      <td>986.77</td>\n",
       "      <td>0.04</td>\n",
       "      <td>34.0</td>\n",
       "      <td>0.13</td>\n",
       "      <td>54.82</td>\n",
       "      <td>132.83</td>\n",
       "      <td>1.0</td>\n",
       "      <td>0.0</td>\n",
       "      <td>0.0</td>\n",
       "      <td>7.0</td>\n",
       "      <td>0.03</td>\n",
       "      <td>13.0</td>\n",
       "      <td>21.0</td>\n",
       "      <td>7.0</td>\n",
       "      <td>8.0</td>\n",
       "      <td>34.0</td>\n",
       "      <td>96.88</td>\n",
       "      <td>8.0</td>\n",
       "      <td>False</td>\n",
       "    </tr>\n",
       "    <tr>\n",
       "      <th>3</th>\n",
       "      <td>1.0</td>\n",
       "      <td>1.0</td>\n",
       "      <td>11.0</td>\n",
       "      <td>3.0</td>\n",
       "      <td>0.0</td>\n",
       "      <td>1.0</td>\n",
       "      <td>0.08</td>\n",
       "      <td>0.0</td>\n",
       "      <td>0.0</td>\n",
       "      <td>1.0</td>\n",
       "      <td>1.0</td>\n",
       "      <td>2.0</td>\n",
       "      <td>1.0</td>\n",
       "      <td>0.0</td>\n",
       "      <td>1.0</td>\n",
       "      <td>0.0</td>\n",
       "      <td>42.62</td>\n",
       "      <td>7.81</td>\n",
       "      <td>2598.31</td>\n",
       "      <td>0.11</td>\n",
       "      <td>77.0</td>\n",
       "      <td>0.13</td>\n",
       "      <td>144.35</td>\n",
       "      <td>332.79</td>\n",
       "      <td>1.0</td>\n",
       "      <td>0.0</td>\n",
       "      <td>0.0</td>\n",
       "      <td>3.0</td>\n",
       "      <td>0.06</td>\n",
       "      <td>29.0</td>\n",
       "      <td>48.0</td>\n",
       "      <td>13.0</td>\n",
       "      <td>7.0</td>\n",
       "      <td>17.0</td>\n",
       "      <td>93.33</td>\n",
       "      <td>12.0</td>\n",
       "      <td>False</td>\n",
       "    </tr>\n",
       "    <tr>\n",
       "      <th>4</th>\n",
       "      <td>1.0</td>\n",
       "      <td>1.0</td>\n",
       "      <td>0.0</td>\n",
       "      <td>0.0</td>\n",
       "      <td>0.0</td>\n",
       "      <td>1.0</td>\n",
       "      <td>1.00</td>\n",
       "      <td>0.0</td>\n",
       "      <td>0.0</td>\n",
       "      <td>1.0</td>\n",
       "      <td>1.0</td>\n",
       "      <td>2.0</td>\n",
       "      <td>1.0</td>\n",
       "      <td>0.0</td>\n",
       "      <td>1.0</td>\n",
       "      <td>3.0</td>\n",
       "      <td>33.44</td>\n",
       "      <td>0.63</td>\n",
       "      <td>13.06</td>\n",
       "      <td>0.01</td>\n",
       "      <td>9.0</td>\n",
       "      <td>1.60</td>\n",
       "      <td>0.73</td>\n",
       "      <td>20.90</td>\n",
       "      <td>1.0</td>\n",
       "      <td>0.0</td>\n",
       "      <td>0.0</td>\n",
       "      <td>3.0</td>\n",
       "      <td>0.33</td>\n",
       "      <td>5.0</td>\n",
       "      <td>4.0</td>\n",
       "      <td>4.0</td>\n",
       "      <td>1.0</td>\n",
       "      <td>3.0</td>\n",
       "      <td>0.00</td>\n",
       "      <td>1.0</td>\n",
       "      <td>False</td>\n",
       "    </tr>\n",
       "  </tbody>\n",
       "</table>\n",
       "</div>"
      ],
      "text/plain": [
       "   BRANCH_COUNT  CALL_PAIRS  LOC_CODE_AND_COMMENT  LOC_COMMENTS  \\\n",
       "0           1.0         0.0                   0.0           0.0   \n",
       "1           1.0         1.0                   0.0           0.0   \n",
       "2           1.0         4.0                   7.0          24.0   \n",
       "3           1.0         1.0                  11.0           3.0   \n",
       "4           1.0         1.0                   0.0           0.0   \n",
       "\n",
       "   CONDITION_COUNT  CYCLOMATIC_COMPLEXITY  CYCLOMATIC_DENSITY  DECISION_COUNT  \\\n",
       "0              0.0                    1.0                1.00             0.0   \n",
       "1              0.0                    1.0                1.00             0.0   \n",
       "2              0.0                    1.0                0.13             0.0   \n",
       "3              0.0                    1.0                0.08             0.0   \n",
       "4              0.0                    1.0                1.00             0.0   \n",
       "\n",
       "   DECISION_DENSITY  DESIGN_COMPLEXITY  DESIGN_DENSITY  EDGE_COUNT  \\\n",
       "0               0.0                1.0             1.0         1.0   \n",
       "1               0.0                1.0             1.0         2.0   \n",
       "2               0.0                1.0             1.0         6.0   \n",
       "3               0.0                1.0             1.0         2.0   \n",
       "4               0.0                1.0             1.0         2.0   \n",
       "\n",
       "   ESSENTIAL_COMPLEXITY  ESSENTIAL_DENSITY  LOC_EXECUTABLE  PARAMETER_COUNT  \\\n",
       "0                   1.0                0.0             0.0              2.0   \n",
       "1                   1.0                0.0             0.0              1.0   \n",
       "2                   1.0                0.0             1.0              0.0   \n",
       "3                   1.0                0.0             1.0              0.0   \n",
       "4                   1.0                0.0             1.0              3.0   \n",
       "\n",
       "   HALSTEAD_CONTENT  HALSTEAD_DIFFICULTY  HALSTEAD_EFFORT  HALSTEAD_ERROR_EST  \\\n",
       "0              5.33                 1.50            12.00                0.00   \n",
       "1              0.00                 0.00             0.00                0.00   \n",
       "2             17.88                 7.43           986.77                0.04   \n",
       "3             42.62                 7.81          2598.31                0.11   \n",
       "4             33.44                 0.63            13.06                0.01   \n",
       "\n",
       "   HALSTEAD_LENGTH  HALSTEAD_LEVEL  HALSTEAD_PROG_TIME  HALSTEAD_VOLUME  \\\n",
       "0              4.0            0.67                0.67             8.00   \n",
       "1              1.0            0.00                0.00             0.00   \n",
       "2             34.0            0.13               54.82           132.83   \n",
       "3             77.0            0.13              144.35           332.79   \n",
       "4              9.0            1.60                0.73            20.90   \n",
       "\n",
       "   MAINTENANCE_SEVERITY  MODIFIED_CONDITION_COUNT  MULTIPLE_CONDITION_COUNT  \\\n",
       "0                   1.0                       0.0                       0.0   \n",
       "1                   1.0                       0.0                       0.0   \n",
       "2                   1.0                       0.0                       0.0   \n",
       "3                   1.0                       0.0                       0.0   \n",
       "4                   1.0                       0.0                       0.0   \n",
       "\n",
       "   NODE_COUNT  NORMALIZED_CYLOMATIC_COMPLEXITY  NUM_OPERANDS  NUM_OPERATORS  \\\n",
       "0         2.0                             0.50           1.0            3.0   \n",
       "1         3.0                             1.00           1.0            0.0   \n",
       "2         7.0                             0.03          13.0           21.0   \n",
       "3         3.0                             0.06          29.0           48.0   \n",
       "4         3.0                             0.33           5.0            4.0   \n",
       "\n",
       "   NUM_UNIQUE_OPERANDS  NUM_UNIQUE_OPERATORS  NUMBER_OF_LINES  \\\n",
       "0                  1.0                   3.0              2.0   \n",
       "1                  1.0                   0.0              1.0   \n",
       "2                  7.0                   8.0             34.0   \n",
       "3                 13.0                   7.0             17.0   \n",
       "4                  4.0                   1.0              3.0   \n",
       "\n",
       "   PERCENT_COMMENTS  LOC_TOTAL  defects  \n",
       "0              0.00        0.0    False  \n",
       "1              0.00        0.0    False  \n",
       "2             96.88        8.0    False  \n",
       "3             93.33       12.0    False  \n",
       "4              0.00        1.0    False  "
      ]
     },
     "execution_count": 3,
     "metadata": {},
     "output_type": "execute_result"
    }
   ],
   "source": [
    "target = f'{ROOT}/orig/pc2.csv'\n",
    "if os.path.isfile(target):\n",
    "    print('Loading Local Copy...')\n",
    "else:\n",
    "    print('Downloading...')\n",
    "    df = pd.read_csv(\"https://setu-datamining2.github.io/live/topics/21-Assignments/01-NASA_Software_Defect_Datasets/files/pc2.csv\")\n",
    "    df.to_csv(target, index=False)\n",
    "\n",
    "df = pd.read_csv(target)\n",
    "print(df.shape)\n",
    "df.head()"
   ]
  },
  {
   "cell_type": "markdown",
   "id": "e545f236-cd01-40b5-87ad-fb101e516f28",
   "metadata": {},
   "source": [
    "I then decided to do some summary statistics. This means that I wanted to check whether the amount of rows and columns in the dataset is the same amount of rows and columns mentioned in the pdf document"
   ]
  },
  {
   "cell_type": "markdown",
   "id": "25c36be2-0580-4864-b15e-58d6c4a0b247",
   "metadata": {},
   "source": [
    "## Summary Statistics\n",
    "\n",
    "* Matching data in table\n",
    "    * Number of cases = 5589\n",
    "    * Number of features = 37\n",
    "\n",
    "    \n",
    "* All statistics are in agreement with paper"
   ]
  },
  {
   "cell_type": "markdown",
   "id": "ae1e87b7-69f1-49b5-b5a1-6ccfaeabe7cf",
   "metadata": {},
   "source": [
    "To do that I used the shape method which can show the amount of rows and columns in a dataset\n",
    "\n",
    "As seen below, the amount of rows and columns in the dataset match the amount of rows and features mentioned in the pdf doc"
   ]
  },
  {
   "cell_type": "code",
   "execution_count": 4,
   "id": "19a6ceed-99ab-42c1-8a12-0ffa016c459f",
   "metadata": {},
   "outputs": [
    {
     "name": "stdout",
     "output_type": "stream",
     "text": [
      "number of cases:  5589\n",
      "number of features:  37\n"
     ]
    }
   ],
   "source": [
    "print('number of cases: ', df.shape[0])\n",
    "print('number of features: ', df.shape[1])"
   ]
  },
  {
   "cell_type": "markdown",
   "id": "d090d06d-597d-493c-bbc5-24a2c23454ec",
   "metadata": {},
   "source": [
    "I then created a small dataframe that indicates shows the expected number of rows and columns against the observed number of rows and columns in a more friendly way\n",
    "\n",
    "As seen below, the number of expected and observed rows and columns is the same and therefore the result is PASS for both of them"
   ]
  },
  {
   "cell_type": "code",
   "execution_count": 5,
   "id": "940b3be5-fe99-4d73-9a0c-4cf7c1ff186b",
   "metadata": {},
   "outputs": [
    {
     "data": {
      "text/markdown": [
       "* Number of cases expected=5589 observed=5589 \n",
       "* Number of features expected=37 observed=37 "
      ],
      "text/plain": [
       "<IPython.core.display.Markdown object>"
      ]
     },
     "metadata": {},
     "output_type": "display_data"
    }
   ],
   "source": [
    "table_case_count = lambda df: df.shape[0]\n",
    "table_feature_count = lambda df: df.shape[1]\n",
    "messages = []\n",
    "for m, expected, observed in [\n",
    "    ('Number of cases', 5589, table_case_count(df)),\n",
    "    ('Number of features', 37, table_feature_count(df))\n",
    "]:\n",
    "    result = '' if expected == observed else 'FAIL'\n",
    "    messages.append(f'* {m} {expected=} {observed=} {result}')\n",
    "    \n",
    "display(Markdown('\\n'.join(messages)))"
   ]
  },
  {
   "cell_type": "code",
   "execution_count": 6,
   "id": "d04cf7e3-bb65-4d19-a88e-ff5a3bb4bc16",
   "metadata": {},
   "outputs": [
    {
     "data": {
      "text/html": [
       "<div>\n",
       "<style scoped>\n",
       "    .dataframe tbody tr th:only-of-type {\n",
       "        vertical-align: middle;\n",
       "    }\n",
       "\n",
       "    .dataframe tbody tr th {\n",
       "        vertical-align: top;\n",
       "    }\n",
       "\n",
       "    .dataframe thead th {\n",
       "        text-align: right;\n",
       "    }\n",
       "</style>\n",
       "<table border=\"1\" class=\"dataframe\">\n",
       "  <thead>\n",
       "    <tr style=\"text-align: right;\">\n",
       "      <th></th>\n",
       "      <th>Discription</th>\n",
       "      <th>Expected</th>\n",
       "      <th>Observed</th>\n",
       "      <th>Result</th>\n",
       "    </tr>\n",
       "  </thead>\n",
       "  <tbody>\n",
       "    <tr>\n",
       "      <th>0</th>\n",
       "      <td>Number of cases</td>\n",
       "      <td>5589</td>\n",
       "      <td>5589</td>\n",
       "      <td>PASS</td>\n",
       "    </tr>\n",
       "    <tr>\n",
       "      <th>1</th>\n",
       "      <td>Number of features</td>\n",
       "      <td>37</td>\n",
       "      <td>37</td>\n",
       "      <td>PASS</td>\n",
       "    </tr>\n",
       "  </tbody>\n",
       "</table>\n",
       "</div>"
      ],
      "text/plain": [
       "          Discription  Expected  Observed Result\n",
       "0     Number of cases      5589      5589   PASS\n",
       "1  Number of features        37        37   PASS"
      ]
     },
     "execution_count": 6,
     "metadata": {},
     "output_type": "execute_result"
    }
   ],
   "source": [
    "messages = []\n",
    "for m, expected, observed in [\n",
    "    ('Number of cases', 5589, table_case_count(df)),\n",
    "    ('Number of features', 37, table_feature_count(df))\n",
    "]:\n",
    "    result = 'PASS' if expected == observed else 'FAIL'\n",
    "    messages.append([m, expected, observed, result])\n",
    "    \n",
    "df_results = pd.DataFrame(messages, columns=['Discription', 'Expected', 'Observed', 'Result'])\n",
    "df_results.head()"
   ]
  },
  {
   "cell_type": "markdown",
   "id": "32b84ce6-e926-4ae9-9e9e-05c20f0eeb14",
   "metadata": {},
   "source": [
    "I then created the variable features_problems holds the count of features impacted by 1 or more of A-E from the pdf doc. Since features may contain more than one problem this need not be the sum of A to E"
   ]
  },
  {
   "cell_type": "code",
   "execution_count": 7,
   "id": "071c2b1c-dd40-48a5-8271-717bec058539",
   "metadata": {},
   "outputs": [],
   "source": [
    "features_problems = 0"
   ]
  },
  {
   "cell_type": "markdown",
   "id": "0148199a-849d-43d7-aca2-3b3a24c6e5dd",
   "metadata": {},
   "source": [
    "## Identical Features (Checking)"
   ]
  },
  {
   "cell_type": "markdown",
   "id": "f1f135f1-844b-4853-9614-baf700021f4c",
   "metadata": {},
   "source": [
    "The first thing I wanted to check was identical features, to do that I created a lambda function that return the sum of identical features in a dataframe and the output is stored in a variable called table_2_a"
   ]
  },
  {
   "cell_type": "code",
   "execution_count": 8,
   "id": "3a103cb0-5ce6-456b-be4f-8e943fd18ea2",
   "metadata": {},
   "outputs": [],
   "source": [
    "table_2_a = lambda df: df.T.duplicated().sum()"
   ]
  },
  {
   "cell_type": "markdown",
   "id": "a51412e6-adce-48f6-b5b2-cb11e9032172",
   "metadata": {},
   "source": [
    "I then created a small data frame that shows the expected number of identical features against the observed number of identical features. As seen below they are both equal so the result is PASS"
   ]
  },
  {
   "cell_type": "code",
   "execution_count": 9,
   "id": "fb5ad0c7-6029-4b94-8fc6-96da30f04804",
   "metadata": {},
   "outputs": [
    {
     "data": {
      "text/html": [
       "<div>\n",
       "<style scoped>\n",
       "    .dataframe tbody tr th:only-of-type {\n",
       "        vertical-align: middle;\n",
       "    }\n",
       "\n",
       "    .dataframe tbody tr th {\n",
       "        vertical-align: top;\n",
       "    }\n",
       "\n",
       "    .dataframe thead th {\n",
       "        text-align: right;\n",
       "    }\n",
       "</style>\n",
       "<table border=\"1\" class=\"dataframe\">\n",
       "  <thead>\n",
       "    <tr style=\"text-align: right;\">\n",
       "      <th></th>\n",
       "      <th>Description</th>\n",
       "      <th>Expected</th>\n",
       "      <th>Observed</th>\n",
       "      <th>Result</th>\n",
       "    </tr>\n",
       "  </thead>\n",
       "  <tbody>\n",
       "    <tr>\n",
       "      <th>0</th>\n",
       "      <td>Identical features</td>\n",
       "      <td>0</td>\n",
       "      <td>0</td>\n",
       "      <td>PASS</td>\n",
       "    </tr>\n",
       "  </tbody>\n",
       "</table>\n",
       "</div>"
      ],
      "text/plain": [
       "          Description  Expected  Observed Result\n",
       "0  Identical features         0         0   PASS"
      ]
     },
     "execution_count": 9,
     "metadata": {},
     "output_type": "execute_result"
    }
   ],
   "source": [
    "messages = []\n",
    "for m, expected, observed in [\n",
    "    ('Identical features', 0, table_2_a(df))\n",
    "]:\n",
    "    messages.append([m, expected, observed, result])\n",
    "    \n",
    "df_results = pd.DataFrame(messages, columns = ['Description', 'Expected', 'Observed', 'Result'])\n",
    "df_results"
   ]
  },
  {
   "cell_type": "markdown",
   "id": "88e91252-5eee-4f73-84ce-af0aba10032a",
   "metadata": {},
   "source": [
    "## Features with missing values (Checking)"
   ]
  },
  {
   "cell_type": "markdown",
   "id": "a6ac7759-19b0-443c-bd89-d42c674bfec9",
   "metadata": {},
   "source": [
    "I then checked for the number of features that have missing values\n",
    "\n",
    "The expected number of features that have missing values is 0\n",
    "\n",
    "To check the features that have missing values in the dataset, I used the function isnull and the function sum to show how many missing values every column have\n",
    "\n",
    "As seen below there are no missing values in any column"
   ]
  },
  {
   "cell_type": "code",
   "execution_count": 10,
   "id": "0fc5e7ad-0c85-477c-a364-e5a74ab305f1",
   "metadata": {},
   "outputs": [
    {
     "data": {
      "text/plain": [
       "BRANCH_COUNT                       0\n",
       "CALL_PAIRS                         0\n",
       "LOC_CODE_AND_COMMENT               0\n",
       "LOC_COMMENTS                       0\n",
       "CONDITION_COUNT                    0\n",
       "CYCLOMATIC_COMPLEXITY              0\n",
       "CYCLOMATIC_DENSITY                 0\n",
       "DECISION_COUNT                     0\n",
       "DECISION_DENSITY                   0\n",
       "DESIGN_COMPLEXITY                  0\n",
       "DESIGN_DENSITY                     0\n",
       "EDGE_COUNT                         0\n",
       "ESSENTIAL_COMPLEXITY               0\n",
       "ESSENTIAL_DENSITY                  0\n",
       "LOC_EXECUTABLE                     0\n",
       "PARAMETER_COUNT                    0\n",
       "HALSTEAD_CONTENT                   0\n",
       "HALSTEAD_DIFFICULTY                0\n",
       "HALSTEAD_EFFORT                    0\n",
       "HALSTEAD_ERROR_EST                 0\n",
       "HALSTEAD_LENGTH                    0\n",
       "HALSTEAD_LEVEL                     0\n",
       "HALSTEAD_PROG_TIME                 0\n",
       "HALSTEAD_VOLUME                    0\n",
       "MAINTENANCE_SEVERITY               0\n",
       "MODIFIED_CONDITION_COUNT           0\n",
       "MULTIPLE_CONDITION_COUNT           0\n",
       "NODE_COUNT                         0\n",
       "NORMALIZED_CYLOMATIC_COMPLEXITY    0\n",
       "NUM_OPERANDS                       0\n",
       "NUM_OPERATORS                      0\n",
       "NUM_UNIQUE_OPERANDS                0\n",
       "NUM_UNIQUE_OPERATORS               0\n",
       "NUMBER_OF_LINES                    0\n",
       "PERCENT_COMMENTS                   0\n",
       "LOC_TOTAL                          0\n",
       "defects                            0\n",
       "dtype: int64"
      ]
     },
     "execution_count": 10,
     "metadata": {},
     "output_type": "execute_result"
    }
   ],
   "source": [
    "df.isnull().sum()"
   ]
  },
  {
   "cell_type": "markdown",
   "id": "a15c2aaa-4c84-4586-a328-c52a56654c06",
   "metadata": {},
   "source": [
    "I also did the same check using the isna function to make sure of the previous result and I got the same"
   ]
  },
  {
   "cell_type": "code",
   "execution_count": 11,
   "id": "c3c37cf7-30e5-4bc9-ac6d-dccf28c3bf5c",
   "metadata": {},
   "outputs": [
    {
     "data": {
      "text/plain": [
       "BRANCH_COUNT                       0\n",
       "CALL_PAIRS                         0\n",
       "LOC_CODE_AND_COMMENT               0\n",
       "LOC_COMMENTS                       0\n",
       "CONDITION_COUNT                    0\n",
       "CYCLOMATIC_COMPLEXITY              0\n",
       "CYCLOMATIC_DENSITY                 0\n",
       "DECISION_COUNT                     0\n",
       "DECISION_DENSITY                   0\n",
       "DESIGN_COMPLEXITY                  0\n",
       "DESIGN_DENSITY                     0\n",
       "EDGE_COUNT                         0\n",
       "ESSENTIAL_COMPLEXITY               0\n",
       "ESSENTIAL_DENSITY                  0\n",
       "LOC_EXECUTABLE                     0\n",
       "PARAMETER_COUNT                    0\n",
       "HALSTEAD_CONTENT                   0\n",
       "HALSTEAD_DIFFICULTY                0\n",
       "HALSTEAD_EFFORT                    0\n",
       "HALSTEAD_ERROR_EST                 0\n",
       "HALSTEAD_LENGTH                    0\n",
       "HALSTEAD_LEVEL                     0\n",
       "HALSTEAD_PROG_TIME                 0\n",
       "HALSTEAD_VOLUME                    0\n",
       "MAINTENANCE_SEVERITY               0\n",
       "MODIFIED_CONDITION_COUNT           0\n",
       "MULTIPLE_CONDITION_COUNT           0\n",
       "NODE_COUNT                         0\n",
       "NORMALIZED_CYLOMATIC_COMPLEXITY    0\n",
       "NUM_OPERANDS                       0\n",
       "NUM_OPERATORS                      0\n",
       "NUM_UNIQUE_OPERANDS                0\n",
       "NUM_UNIQUE_OPERATORS               0\n",
       "NUMBER_OF_LINES                    0\n",
       "PERCENT_COMMENTS                   0\n",
       "LOC_TOTAL                          0\n",
       "defects                            0\n",
       "dtype: int64"
      ]
     },
     "execution_count": 11,
     "metadata": {},
     "output_type": "execute_result"
    }
   ],
   "source": [
    "df.isna().sum()"
   ]
  },
  {
   "cell_type": "markdown",
   "id": "8a83eadd-6d7b-474e-a06b-f4d94f65e326",
   "metadata": {},
   "source": [
    "This means that the check for features with missing values gets the result of PASS"
   ]
  },
  {
   "cell_type": "markdown",
   "id": "788a01c8-5ef7-4d33-93df-37f5084d6d1f",
   "metadata": {},
   "source": [
    "## Constant Features (Checking)"
   ]
  },
  {
   "cell_type": "markdown",
   "id": "8e9262c8-db4e-4663-aa45-e2f4fad36b2f",
   "metadata": {},
   "source": [
    "I then decided to check for constant features\n",
    "\n",
    "The expeceted number of constant features 0\n",
    "\n",
    "To do  this check I created an empty list called feat\n",
    "\n",
    "I then created a for loop that goes through the names of the columns of the dataset\n",
    "\n",
    "The for loop then checks every column in the dataset whether it has a value count of 1\n",
    "\n",
    "This means that it checks whether a column contains only 1 value\n",
    "\n",
    "If a column contains 1 value then the string 'Constant' is appended to the feat list and if not then the string 'Not Constant' is appended to the feat list\n",
    "\n",
    "I then print the result of casting the list feat to a set so I can see the unique values of it\n",
    "\n",
    "As seen below the output shows that the set of feat contains only one value which is 'Not Constant' and therefore it means that there are no constant features in the dataset\n",
    "\n",
    "This means that the result for this check is PASS"
   ]
  },
  {
   "cell_type": "code",
   "execution_count": 12,
   "id": "0c347b84-26b9-4c95-90e6-802047d0e845",
   "metadata": {},
   "outputs": [
    {
     "name": "stdout",
     "output_type": "stream",
     "text": [
      "{'Not Constant'}\n"
     ]
    }
   ],
   "source": [
    "feat = []\n",
    "for i in df.columns:\n",
    "    if df[i].value_counts == 1:\n",
    "        feat.append('Constant')\n",
    "    else:\n",
    "        feat.append('Not Constant')\n",
    "\n",
    "print(set(feat))"
   ]
  },
  {
   "cell_type": "markdown",
   "id": "1e1d55ee-6c85-4262-8130-9eaeb455efce",
   "metadata": {},
   "source": [
    "## Implausible Features (Checking)"
   ]
  },
  {
   "cell_type": "markdown",
   "id": "343623d8-73d5-48c8-b2e1-f54afa2f3674",
   "metadata": {},
   "source": [
    "I then decided to check for implausible features\n",
    "\n",
    "The expected number of implausible features is 1\n",
    "\n",
    "The first thing I wanted to check is any features that contain values less than 0\n",
    "\n",
    "To do that I used a condition and counted the number of matches related to each column for that condition\n",
    "\n",
    "As seen below, no features contained any values less than 0"
   ]
  },
  {
   "cell_type": "code",
   "execution_count": 13,
   "id": "ba4d9cc2-c116-4872-b605-4f1e07dc536a",
   "metadata": {},
   "outputs": [
    {
     "data": {
      "text/plain": [
       "BRANCH_COUNT                       0\n",
       "CALL_PAIRS                         0\n",
       "LOC_CODE_AND_COMMENT               0\n",
       "LOC_COMMENTS                       0\n",
       "CONDITION_COUNT                    0\n",
       "CYCLOMATIC_COMPLEXITY              0\n",
       "CYCLOMATIC_DENSITY                 0\n",
       "DECISION_COUNT                     0\n",
       "DECISION_DENSITY                   0\n",
       "DESIGN_COMPLEXITY                  0\n",
       "DESIGN_DENSITY                     0\n",
       "EDGE_COUNT                         0\n",
       "ESSENTIAL_COMPLEXITY               0\n",
       "ESSENTIAL_DENSITY                  0\n",
       "LOC_EXECUTABLE                     0\n",
       "PARAMETER_COUNT                    0\n",
       "HALSTEAD_CONTENT                   0\n",
       "HALSTEAD_DIFFICULTY                0\n",
       "HALSTEAD_EFFORT                    0\n",
       "HALSTEAD_ERROR_EST                 0\n",
       "HALSTEAD_LENGTH                    0\n",
       "HALSTEAD_LEVEL                     0\n",
       "HALSTEAD_PROG_TIME                 0\n",
       "HALSTEAD_VOLUME                    0\n",
       "MAINTENANCE_SEVERITY               0\n",
       "MODIFIED_CONDITION_COUNT           0\n",
       "MULTIPLE_CONDITION_COUNT           0\n",
       "NODE_COUNT                         0\n",
       "NORMALIZED_CYLOMATIC_COMPLEXITY    0\n",
       "NUM_OPERANDS                       0\n",
       "NUM_OPERATORS                      0\n",
       "NUM_UNIQUE_OPERANDS                0\n",
       "NUM_UNIQUE_OPERATORS               0\n",
       "NUMBER_OF_LINES                    0\n",
       "PERCENT_COMMENTS                   0\n",
       "LOC_TOTAL                          0\n",
       "defects                            0\n",
       "dtype: int64"
      ]
     },
     "execution_count": 13,
     "metadata": {},
     "output_type": "execute_result"
    }
   ],
   "source": [
    "# https://stackoverflow.com/questions/23833763/count-number-of-elements-in-each-column-less-than-x\n",
    "\n",
    "# Checking for values less than 0\n",
    "\n",
    "df[df < 0].count()"
   ]
  },
  {
   "cell_type": "markdown",
   "id": "ee05b852-2eff-4290-a9aa-e6134805248e",
   "metadata": {},
   "source": [
    "I then decided to check for any features that have names containing '_COUNT' in them and they contain any non integer values\n",
    "\n",
    "To do that I created an empty dataframe called df2\n",
    "\n",
    "I then created a for loop that goes through every column name in the original dataframe (df) and adds that column to the df2 dataframe if it contains '_COUNT' in its name\n",
    "\n",
    "I then created a condition that checks the newly added columns in the df2 dataframe for non integer values and counting the counted the values of True and False produced for every column after checking this condition\n",
    "\n",
    "As seen below all the columns had False values only"
   ]
  },
  {
   "cell_type": "code",
   "execution_count": 14,
   "id": "688d87f1-b0c7-46a6-96d5-97147548bcf9",
   "metadata": {},
   "outputs": [
    {
     "data": {
      "text/plain": [
       "BRANCH_COUNT  CONDITION_COUNT  DECISION_COUNT  EDGE_COUNT  PARAMETER_COUNT  MODIFIED_CONDITION_COUNT  MULTIPLE_CONDITION_COUNT  NODE_COUNT\n",
       "False         False            False           False       False            False                     False                     False         5589\n",
       "dtype: int64"
      ]
     },
     "execution_count": 14,
     "metadata": {},
     "output_type": "execute_result"
    }
   ],
   "source": [
    "# https://stackoverflow.com/questions/49249860/how-to-check-if-float-pandas-column-contains-only-integer-numbers\n",
    "\n",
    "# Checking for non integer values\n",
    "\n",
    "df2 = pd.DataFrame()\n",
    "for i in df.columns:\n",
    "    if '_COUNT' in i:\n",
    "        df2[i] = df[i]\n",
    "\n",
    "(df2 % 1 != 0).value_counts()"
   ]
  },
  {
   "cell_type": "markdown",
   "id": "7311fa7c-ab73-4fb1-a544-5cb11f75523c",
   "metadata": {},
   "source": [
    "I then checked whether the column 'LOC_TOTAL' contains any values that are equal to 0\n",
    "\n",
    "To do that I used a condition that checks the values that equal to 0 in that column and sum the number of values that matches this condition\n",
    "\n",
    "As seen below the column does contain values that are equal to 0, this means that this column or feaeture is implausible\n",
    "\n",
    "Since this is the only implausible feature I encountered, this means that the number of implausible features I found is 1 which is the same number of expected implausible features\n",
    "\n",
    "This means that the result for this check is PASS"
   ]
  },
  {
   "cell_type": "code",
   "execution_count": 15,
   "id": "6e62c437-31fb-4236-a4f1-e7ca62b73c8f",
   "metadata": {},
   "outputs": [
    {
     "data": {
      "text/plain": [
       "1084"
      ]
     },
     "execution_count": 15,
     "metadata": {},
     "output_type": "execute_result"
    }
   ],
   "source": [
    "# Checking for LOC_TOTAL values equal to 0\n",
    "\n",
    "(df['LOC_TOTAL'] == 0).sum()"
   ]
  },
  {
   "cell_type": "markdown",
   "id": "68758290-dfba-45d6-ab79-b568b347ffeb",
   "metadata": {},
   "source": [
    "I also incremented the variable features_problems by 1 because we encountered 1 feature with a problem so far which is the implausible feature mentioned earlier"
   ]
  },
  {
   "cell_type": "code",
   "execution_count": 16,
   "id": "9626c775-a74c-44ea-ac7d-30f36134c6c6",
   "metadata": {},
   "outputs": [],
   "source": [
    "features_problems += 1"
   ]
  },
  {
   "cell_type": "markdown",
   "id": "ab53011e-8e6a-46e3-a7d0-3728d77d9b5a",
   "metadata": {},
   "source": [
    "## Implausible Cases (Checking):"
   ]
  },
  {
   "cell_type": "markdown",
   "id": "76ab56b6-70fe-4335-a78d-ef4b4dfdfdfc",
   "metadata": {},
   "source": [
    "I then started checking the cases\n",
    "\n",
    "The first check I carried out was the implausible cases check\n",
    "\n",
    "I used the same code I used to check for implausible features and got the same results"
   ]
  },
  {
   "cell_type": "code",
   "execution_count": 17,
   "id": "33a5cd7a-b8f9-42d8-b800-1f90ab972953",
   "metadata": {},
   "outputs": [
    {
     "data": {
      "text/plain": [
       "BRANCH_COUNT                       0\n",
       "CALL_PAIRS                         0\n",
       "LOC_CODE_AND_COMMENT               0\n",
       "LOC_COMMENTS                       0\n",
       "CONDITION_COUNT                    0\n",
       "CYCLOMATIC_COMPLEXITY              0\n",
       "CYCLOMATIC_DENSITY                 0\n",
       "DECISION_COUNT                     0\n",
       "DECISION_DENSITY                   0\n",
       "DESIGN_COMPLEXITY                  0\n",
       "DESIGN_DENSITY                     0\n",
       "EDGE_COUNT                         0\n",
       "ESSENTIAL_COMPLEXITY               0\n",
       "ESSENTIAL_DENSITY                  0\n",
       "LOC_EXECUTABLE                     0\n",
       "PARAMETER_COUNT                    0\n",
       "HALSTEAD_CONTENT                   0\n",
       "HALSTEAD_DIFFICULTY                0\n",
       "HALSTEAD_EFFORT                    0\n",
       "HALSTEAD_ERROR_EST                 0\n",
       "HALSTEAD_LENGTH                    0\n",
       "HALSTEAD_LEVEL                     0\n",
       "HALSTEAD_PROG_TIME                 0\n",
       "HALSTEAD_VOLUME                    0\n",
       "MAINTENANCE_SEVERITY               0\n",
       "MODIFIED_CONDITION_COUNT           0\n",
       "MULTIPLE_CONDITION_COUNT           0\n",
       "NODE_COUNT                         0\n",
       "NORMALIZED_CYLOMATIC_COMPLEXITY    0\n",
       "NUM_OPERANDS                       0\n",
       "NUM_OPERATORS                      0\n",
       "NUM_UNIQUE_OPERANDS                0\n",
       "NUM_UNIQUE_OPERATORS               0\n",
       "NUMBER_OF_LINES                    0\n",
       "PERCENT_COMMENTS                   0\n",
       "LOC_TOTAL                          0\n",
       "defects                            0\n",
       "dtype: int64"
      ]
     },
     "execution_count": 17,
     "metadata": {},
     "output_type": "execute_result"
    }
   ],
   "source": [
    "# https://stackoverflow.com/questions/23833763/count-number-of-elements-in-each-column-less-than-x\n",
    "\n",
    "# Checking for values less than 0\n",
    "\n",
    "df[df < 0].count()"
   ]
  },
  {
   "cell_type": "code",
   "execution_count": 18,
   "id": "6ce943b1-dfcc-4cc5-9805-3f2ef22333d9",
   "metadata": {},
   "outputs": [
    {
     "data": {
      "text/plain": [
       "BRANCH_COUNT  CONDITION_COUNT  DECISION_COUNT  EDGE_COUNT  PARAMETER_COUNT  MODIFIED_CONDITION_COUNT  MULTIPLE_CONDITION_COUNT  NODE_COUNT\n",
       "False         False            False           False       False            False                     False                     False         5589\n",
       "dtype: int64"
      ]
     },
     "execution_count": 18,
     "metadata": {},
     "output_type": "execute_result"
    }
   ],
   "source": [
    "# https://stackoverflow.com/questions/49249860/how-to-check-if-float-pandas-column-contains-only-integer-numbers\n",
    "\n",
    "# Checking for non integer values\n",
    "\n",
    "df3 = pd.DataFrame()\n",
    "for i in df.columns:\n",
    "    if '_COUNT' in i:\n",
    "        df3[i] = df[i]\n",
    "\n",
    "(df3 % 1 != 0).value_counts()"
   ]
  },
  {
   "cell_type": "code",
   "execution_count": 19,
   "id": "16d48ded-58bc-4a80-b33f-04ece0c87a18",
   "metadata": {},
   "outputs": [
    {
     "data": {
      "text/plain": [
       "1084"
      ]
     },
     "execution_count": 19,
     "metadata": {},
     "output_type": "execute_result"
    }
   ],
   "source": [
    "# Checking for LOC_TOTAL values equal to 0\n",
    "\n",
    "(df['LOC_TOTAL'] == 0).sum()"
   ]
  },
  {
   "cell_type": "markdown",
   "id": "d321be40-fda9-43fd-819a-53c84e6d69cb",
   "metadata": {},
   "source": [
    "As seen above, the amount of implausible cases is 1084\n",
    "\n",
    "This is the same number of implausible cases mentioned in the pdf doc\n",
    "\n",
    "This means that the result of this check is PASS"
   ]
  },
  {
   "cell_type": "markdown",
   "id": "eb952e84-f640-4ee8-8912-75c9e62e5053",
   "metadata": {},
   "source": [
    "## Identical Cases (Checking)"
   ]
  },
  {
   "cell_type": "markdown",
   "id": "81c6257f-6c04-43bd-9833-813612fc6d92",
   "metadata": {},
   "source": [
    "I then checked for the number of identical cases\n",
    "\n",
    "To do that I used the duplicated function and the value_counts function to count the True values generated by the duplicated function\n",
    "\n",
    "The duplicated cases number were 4183 as seen below which is different from the number mentioned in the pdf doc which is 4621 so the result of this check is NOT PASS"
   ]
  },
  {
   "cell_type": "code",
   "execution_count": 20,
   "id": "f2b35d67-6ccc-47b0-aff9-5a1af2cba320",
   "metadata": {},
   "outputs": [
    {
     "data": {
      "text/plain": [
       "True     4183\n",
       "False    1406\n",
       "dtype: int64"
      ]
     },
     "execution_count": 20,
     "metadata": {},
     "output_type": "execute_result"
    }
   ],
   "source": [
    "df.duplicated().value_counts()"
   ]
  },
  {
   "cell_type": "markdown",
   "id": "f436256c-523e-4ad5-b645-7af624cca31c",
   "metadata": {},
   "source": [
    "## Inconsistent Cases (Checking)"
   ]
  },
  {
   "cell_type": "markdown",
   "id": "ff38cf8f-9542-4700-9529-53b358e5d447",
   "metadata": {},
   "source": [
    "I then decided to check for the inconsistent cases\n",
    "\n",
    "To do that I created an empty dataframe with two columns: 'Other features' and 'Target'\n",
    "\n",
    "The 'Other features' column contains True or False values that refer to whether the values of all the features in the row except for the defects feature  are duplicated\n",
    "\n",
    "The 'Target' column contains True or False values that refer to whether the values of the target feature only (defects) in a row areduplicated\n",
    "\n",
    "To do the check, I created a condition that checks any rows that contains True in the 'Other features' column and False in the 'Target' column\n",
    "\n",
    "This basically means that I am checking for the rows that all their features are duplicated except for the target feature.\n",
    "\n",
    "I then used the sum function as well to check for the number of cases that meet this condition\n",
    "\n",
    "As seen below, no cases meet this condition so the number of inconistent cases observed is 0 which is different from the number of inconsistent cases mentioned in the pdf doc which is 106 so the result for this check is NOT PASS"
   ]
  },
  {
   "cell_type": "code",
   "execution_count": 21,
   "id": "98a7d4ec-f000-41c6-bfdd-e8c6c374f1cf",
   "metadata": {},
   "outputs": [
    {
     "data": {
      "text/html": [
       "<div>\n",
       "<style scoped>\n",
       "    .dataframe tbody tr th:only-of-type {\n",
       "        vertical-align: middle;\n",
       "    }\n",
       "\n",
       "    .dataframe tbody tr th {\n",
       "        vertical-align: top;\n",
       "    }\n",
       "\n",
       "    .dataframe thead th {\n",
       "        text-align: right;\n",
       "    }\n",
       "</style>\n",
       "<table border=\"1\" class=\"dataframe\">\n",
       "  <thead>\n",
       "    <tr style=\"text-align: right;\">\n",
       "      <th></th>\n",
       "      <th>Other features</th>\n",
       "      <th>Target</th>\n",
       "    </tr>\n",
       "  </thead>\n",
       "  <tbody>\n",
       "    <tr>\n",
       "      <th>0</th>\n",
       "      <td>False</td>\n",
       "      <td>False</td>\n",
       "    </tr>\n",
       "    <tr>\n",
       "      <th>1</th>\n",
       "      <td>False</td>\n",
       "      <td>True</td>\n",
       "    </tr>\n",
       "    <tr>\n",
       "      <th>2</th>\n",
       "      <td>False</td>\n",
       "      <td>True</td>\n",
       "    </tr>\n",
       "    <tr>\n",
       "      <th>3</th>\n",
       "      <td>False</td>\n",
       "      <td>True</td>\n",
       "    </tr>\n",
       "    <tr>\n",
       "      <th>4</th>\n",
       "      <td>False</td>\n",
       "      <td>True</td>\n",
       "    </tr>\n",
       "  </tbody>\n",
       "</table>\n",
       "</div>"
      ],
      "text/plain": [
       "   Other features  Target\n",
       "0           False   False\n",
       "1           False    True\n",
       "2           False    True\n",
       "3           False    True\n",
       "4           False    True"
      ]
     },
     "execution_count": 21,
     "metadata": {},
     "output_type": "execute_result"
    }
   ],
   "source": [
    "cols = df.columns\n",
    "\n",
    "df2 = pd.DataFrame()\n",
    "df2['Other features'] = df.duplicated(subset=cols[:-1])\n",
    "df2['Target'] = df.duplicated(subset=cols[-1])\n",
    "\n",
    "df2.head()"
   ]
  },
  {
   "cell_type": "code",
   "execution_count": 22,
   "id": "5479b7a0-969b-4d43-86ee-cefd9fe56e46",
   "metadata": {},
   "outputs": [
    {
     "data": {
      "text/html": [
       "<div>\n",
       "<style scoped>\n",
       "    .dataframe tbody tr th:only-of-type {\n",
       "        vertical-align: middle;\n",
       "    }\n",
       "\n",
       "    .dataframe tbody tr th {\n",
       "        vertical-align: top;\n",
       "    }\n",
       "\n",
       "    .dataframe thead th {\n",
       "        text-align: right;\n",
       "    }\n",
       "</style>\n",
       "<table border=\"1\" class=\"dataframe\">\n",
       "  <thead>\n",
       "    <tr style=\"text-align: right;\">\n",
       "      <th></th>\n",
       "      <th>Other features</th>\n",
       "      <th>Target</th>\n",
       "    </tr>\n",
       "  </thead>\n",
       "  <tbody>\n",
       "  </tbody>\n",
       "</table>\n",
       "</div>"
      ],
      "text/plain": [
       "Empty DataFrame\n",
       "Columns: [Other features, Target]\n",
       "Index: []"
      ]
     },
     "execution_count": 22,
     "metadata": {},
     "output_type": "execute_result"
    }
   ],
   "source": [
    "df2[(df2['Other features'] == True) & (df2['Target'] == False)]"
   ]
  },
  {
   "cell_type": "code",
   "execution_count": 23,
   "id": "0dfa0a5b-8a30-487e-aff1-1896b47a5970",
   "metadata": {},
   "outputs": [
    {
     "data": {
      "text/plain": [
       "Other features    0.0\n",
       "Target            0.0\n",
       "dtype: float64"
      ]
     },
     "execution_count": 23,
     "metadata": {},
     "output_type": "execute_result"
    }
   ],
   "source": [
    "df2[(df2['Other features'] == True) & (df2['Target'] == False)].sum()"
   ]
  },
  {
   "cell_type": "markdown",
   "id": "bb13112d-816c-4cd3-9589-d3327ee7c868",
   "metadata": {
    "tags": []
   },
   "source": [
    "## Cases with missing values (Checking)"
   ]
  },
  {
   "cell_type": "markdown",
   "id": "5e888827-07c2-47f1-89e9-040322cfe4ff",
   "metadata": {},
   "source": [
    "I then checked the cases that contain missing values (N/A values)\n",
    "\n",
    "To do that, I used the same code I used to check for the features with missing values\n",
    "\n",
    "As seen below, the number of cases with missing values is 0 which is the same number mentioned in the pdf doc so the result of this check is PASS"
   ]
  },
  {
   "cell_type": "code",
   "execution_count": 24,
   "id": "35c55568-a543-4065-8b8c-b92b02af5023",
   "metadata": {},
   "outputs": [
    {
     "data": {
      "text/plain": [
       "BRANCH_COUNT                       0\n",
       "CALL_PAIRS                         0\n",
       "LOC_CODE_AND_COMMENT               0\n",
       "LOC_COMMENTS                       0\n",
       "CONDITION_COUNT                    0\n",
       "CYCLOMATIC_COMPLEXITY              0\n",
       "CYCLOMATIC_DENSITY                 0\n",
       "DECISION_COUNT                     0\n",
       "DECISION_DENSITY                   0\n",
       "DESIGN_COMPLEXITY                  0\n",
       "DESIGN_DENSITY                     0\n",
       "EDGE_COUNT                         0\n",
       "ESSENTIAL_COMPLEXITY               0\n",
       "ESSENTIAL_DENSITY                  0\n",
       "LOC_EXECUTABLE                     0\n",
       "PARAMETER_COUNT                    0\n",
       "HALSTEAD_CONTENT                   0\n",
       "HALSTEAD_DIFFICULTY                0\n",
       "HALSTEAD_EFFORT                    0\n",
       "HALSTEAD_ERROR_EST                 0\n",
       "HALSTEAD_LENGTH                    0\n",
       "HALSTEAD_LEVEL                     0\n",
       "HALSTEAD_PROG_TIME                 0\n",
       "HALSTEAD_VOLUME                    0\n",
       "MAINTENANCE_SEVERITY               0\n",
       "MODIFIED_CONDITION_COUNT           0\n",
       "MULTIPLE_CONDITION_COUNT           0\n",
       "NODE_COUNT                         0\n",
       "NORMALIZED_CYLOMATIC_COMPLEXITY    0\n",
       "NUM_OPERANDS                       0\n",
       "NUM_OPERATORS                      0\n",
       "NUM_UNIQUE_OPERANDS                0\n",
       "NUM_UNIQUE_OPERATORS               0\n",
       "NUMBER_OF_LINES                    0\n",
       "PERCENT_COMMENTS                   0\n",
       "LOC_TOTAL                          0\n",
       "defects                            0\n",
       "dtype: int64"
      ]
     },
     "execution_count": 24,
     "metadata": {},
     "output_type": "execute_result"
    }
   ],
   "source": [
    "# https://www.geeksforgeeks.org/count-nan-or-missing-values-in-pandas-dataframe/\n",
    "\n",
    "df.isnull().sum()"
   ]
  },
  {
   "cell_type": "code",
   "execution_count": 25,
   "id": "f1cbd014-a412-4ca8-9e6a-b49d96ffbda5",
   "metadata": {},
   "outputs": [
    {
     "data": {
      "text/plain": [
       "BRANCH_COUNT                       0\n",
       "CALL_PAIRS                         0\n",
       "LOC_CODE_AND_COMMENT               0\n",
       "LOC_COMMENTS                       0\n",
       "CONDITION_COUNT                    0\n",
       "CYCLOMATIC_COMPLEXITY              0\n",
       "CYCLOMATIC_DENSITY                 0\n",
       "DECISION_COUNT                     0\n",
       "DECISION_DENSITY                   0\n",
       "DESIGN_COMPLEXITY                  0\n",
       "DESIGN_DENSITY                     0\n",
       "EDGE_COUNT                         0\n",
       "ESSENTIAL_COMPLEXITY               0\n",
       "ESSENTIAL_DENSITY                  0\n",
       "LOC_EXECUTABLE                     0\n",
       "PARAMETER_COUNT                    0\n",
       "HALSTEAD_CONTENT                   0\n",
       "HALSTEAD_DIFFICULTY                0\n",
       "HALSTEAD_EFFORT                    0\n",
       "HALSTEAD_ERROR_EST                 0\n",
       "HALSTEAD_LENGTH                    0\n",
       "HALSTEAD_LEVEL                     0\n",
       "HALSTEAD_PROG_TIME                 0\n",
       "HALSTEAD_VOLUME                    0\n",
       "MAINTENANCE_SEVERITY               0\n",
       "MODIFIED_CONDITION_COUNT           0\n",
       "MULTIPLE_CONDITION_COUNT           0\n",
       "NODE_COUNT                         0\n",
       "NORMALIZED_CYLOMATIC_COMPLEXITY    0\n",
       "NUM_OPERANDS                       0\n",
       "NUM_OPERATORS                      0\n",
       "NUM_UNIQUE_OPERANDS                0\n",
       "NUM_UNIQUE_OPERATORS               0\n",
       "NUMBER_OF_LINES                    0\n",
       "PERCENT_COMMENTS                   0\n",
       "LOC_TOTAL                          0\n",
       "defects                            0\n",
       "dtype: int64"
      ]
     },
     "execution_count": 25,
     "metadata": {},
     "output_type": "execute_result"
    }
   ],
   "source": [
    "df.isna().sum()"
   ]
  },
  {
   "cell_type": "markdown",
   "id": "7e374df9-9084-43ff-ae72-578c87ec7c98",
   "metadata": {},
   "source": [
    "## Conflict Cases Values (Referential integrity checks)  (Checking)"
   ]
  },
  {
   "cell_type": "markdown",
   "id": "7629c4d4-432d-4358-82c6-3ff6507b7aca",
   "metadata": {},
   "source": [
    "I then decided to check for the cases with conflicting feature values\n",
    "\n",
    "To do that I ran through the integrity checks and created conditions that would check for what the integrity checks are looking for in the dataframe and I used the sum function to get the total number of cases that pass each integrity check\n",
    "\n",
    "If the result of the check is 5589 then there are no cases with conflicting feature values in regards of this particular integrity check and the integrity check has passed but if the result is less than 5589 then there might be some cases with conflicting feature values in regards of this integrity check"
   ]
  },
  {
   "cell_type": "markdown",
   "id": "f9b1ce49-c43d-4691-aa0c-a90da5b13334",
   "metadata": {},
   "source": [
    "For Check 1, all cases passed the integrity check"
   ]
  },
  {
   "cell_type": "code",
   "execution_count": 26,
   "id": "003c7e74-18ab-4ba4-979c-42f37cd0a144",
   "metadata": {},
   "outputs": [
    {
     "data": {
      "text/plain": [
       "5589"
      ]
     },
     "execution_count": 26,
     "metadata": {},
     "output_type": "execute_result"
    }
   ],
   "source": [
    "# Check 1:\n",
    "\n",
    "(df['NUMBER_OF_LINES'] >= df['LOC_TOTAL']).sum()"
   ]
  },
  {
   "cell_type": "markdown",
   "id": "54db2f23-5cfc-4497-a6fd-78f536728c51",
   "metadata": {},
   "source": [
    "For Check 2, it was not possible to carry it out since there was no column in the dataset called LOC_BLANK"
   ]
  },
  {
   "cell_type": "code",
   "execution_count": 27,
   "id": "49e5fd05-7370-41ab-acba-cdcd17eb4bc4",
   "metadata": {},
   "outputs": [
    {
     "data": {
      "text/plain": [
       "Index(['BRANCH_COUNT', 'CALL_PAIRS', 'LOC_CODE_AND_COMMENT', 'LOC_COMMENTS',\n",
       "       'CONDITION_COUNT', 'CYCLOMATIC_COMPLEXITY', 'CYCLOMATIC_DENSITY',\n",
       "       'DECISION_COUNT', 'DECISION_DENSITY', 'DESIGN_COMPLEXITY',\n",
       "       'DESIGN_DENSITY', 'EDGE_COUNT', 'ESSENTIAL_COMPLEXITY',\n",
       "       'ESSENTIAL_DENSITY', 'LOC_EXECUTABLE', 'PARAMETER_COUNT',\n",
       "       'HALSTEAD_CONTENT', 'HALSTEAD_DIFFICULTY', 'HALSTEAD_EFFORT',\n",
       "       'HALSTEAD_ERROR_EST', 'HALSTEAD_LENGTH', 'HALSTEAD_LEVEL',\n",
       "       'HALSTEAD_PROG_TIME', 'HALSTEAD_VOLUME', 'MAINTENANCE_SEVERITY',\n",
       "       'MODIFIED_CONDITION_COUNT', 'MULTIPLE_CONDITION_COUNT', 'NODE_COUNT',\n",
       "       'NORMALIZED_CYLOMATIC_COMPLEXITY', 'NUM_OPERANDS', 'NUM_OPERATORS',\n",
       "       'NUM_UNIQUE_OPERANDS', 'NUM_UNIQUE_OPERATORS', 'NUMBER_OF_LINES',\n",
       "       'PERCENT_COMMENTS', 'LOC_TOTAL', 'defects'],\n",
       "      dtype='object')"
      ]
     },
     "execution_count": 27,
     "metadata": {},
     "output_type": "execute_result"
    }
   ],
   "source": [
    "df.columns"
   ]
  },
  {
   "cell_type": "markdown",
   "id": "ad8d2f31-c035-40e3-b5ad-965c8b19fde0",
   "metadata": {},
   "source": [
    "For Check 3, all cases passed the integrity check"
   ]
  },
  {
   "cell_type": "code",
   "execution_count": 28,
   "id": "6f52da24-f8c6-4fbb-a7a7-bab5dc47acf1",
   "metadata": {},
   "outputs": [
    {
     "data": {
      "text/plain": [
       "5589"
      ]
     },
     "execution_count": 28,
     "metadata": {},
     "output_type": "execute_result"
    }
   ],
   "source": [
    "# Check 3:\n",
    "\n",
    "(df['NUMBER_OF_LINES'] >= df['LOC_CODE_AND_COMMENT']).sum()"
   ]
  },
  {
   "cell_type": "markdown",
   "id": "144e6918-93b8-4509-90e0-d46e863c6155",
   "metadata": {},
   "source": [
    "For Check 4, all cases passed the integrity check"
   ]
  },
  {
   "cell_type": "code",
   "execution_count": 29,
   "id": "9363e876-6224-44bc-9023-5eb0d8020be5",
   "metadata": {},
   "outputs": [
    {
     "data": {
      "text/plain": [
       "5589"
      ]
     },
     "execution_count": 29,
     "metadata": {},
     "output_type": "execute_result"
    }
   ],
   "source": [
    "# Check 4:\n",
    "\n",
    "(df['NUMBER_OF_LINES'] >= df['LOC_COMMENTS']).sum()"
   ]
  },
  {
   "cell_type": "markdown",
   "id": "b07ff5cb-7e39-4d53-ae68-b381dbb0737e",
   "metadata": {},
   "source": [
    "For Check 5, all cases passed the integrity check"
   ]
  },
  {
   "cell_type": "code",
   "execution_count": 30,
   "id": "762cd1e1-5d9e-48d8-be4a-be8c3b952298",
   "metadata": {},
   "outputs": [
    {
     "data": {
      "text/plain": [
       "5589"
      ]
     },
     "execution_count": 30,
     "metadata": {},
     "output_type": "execute_result"
    }
   ],
   "source": [
    "# Check 5:\n",
    "\n",
    "(df['NUMBER_OF_LINES'] >= df['LOC_EXECUTABLE']).sum()"
   ]
  },
  {
   "cell_type": "markdown",
   "id": "ab796adb-2201-4a75-a760-a01058289653",
   "metadata": {},
   "source": [
    "For Check 6, all cases passed the integrity check"
   ]
  },
  {
   "cell_type": "code",
   "execution_count": 31,
   "id": "7eda265b-ba07-40ac-82a6-f08fdd712320",
   "metadata": {},
   "outputs": [
    {
     "data": {
      "text/plain": [
       "5589"
      ]
     },
     "execution_count": 31,
     "metadata": {},
     "output_type": "execute_result"
    }
   ],
   "source": [
    "# Check 6:\n",
    "\n",
    "(df['LOC_TOTAL'] >= df['LOC_EXECUTABLE']).sum()"
   ]
  },
  {
   "cell_type": "markdown",
   "id": "0f91c0fe-8d77-40fb-85e4-9a8ed12aea3c",
   "metadata": {},
   "source": [
    "For Check 7, all cases passed the integrity check"
   ]
  },
  {
   "cell_type": "code",
   "execution_count": 32,
   "id": "00fe212e-7a70-4201-a2a0-a0a205acaab7",
   "metadata": {},
   "outputs": [
    {
     "data": {
      "text/plain": [
       "5589"
      ]
     },
     "execution_count": 32,
     "metadata": {},
     "output_type": "execute_result"
    }
   ],
   "source": [
    "# Check 7:\n",
    "\n",
    "(df['LOC_TOTAL'] >= df['LOC_CODE_AND_COMMENT']).sum()"
   ]
  },
  {
   "cell_type": "markdown",
   "id": "ec4af3a5-6fd5-4426-a2f7-d8ff3caf3541",
   "metadata": {},
   "source": [
    "For Check 8, all cases passed the integrity check"
   ]
  },
  {
   "cell_type": "code",
   "execution_count": 33,
   "id": "8d5946e7-de0a-4fc7-ba89-1cb471b3a752",
   "metadata": {},
   "outputs": [
    {
     "data": {
      "text/plain": [
       "5589"
      ]
     },
     "execution_count": 33,
     "metadata": {},
     "output_type": "execute_result"
    }
   ],
   "source": [
    "# Check 8:\n",
    "\n",
    "(df['NUM_OPERANDS'] >= df['NUM_UNIQUE_OPERANDS']).sum()"
   ]
  },
  {
   "cell_type": "markdown",
   "id": "14cd13de-1f30-4b1b-85f3-f0f97fc8873b",
   "metadata": {},
   "source": [
    "For Check 9, all cases passed the integrity check"
   ]
  },
  {
   "cell_type": "code",
   "execution_count": 34,
   "id": "6b39c0b3-1e84-4e5b-86b5-2bd1e1df05c8",
   "metadata": {},
   "outputs": [
    {
     "data": {
      "text/plain": [
       "5589"
      ]
     },
     "execution_count": 34,
     "metadata": {},
     "output_type": "execute_result"
    }
   ],
   "source": [
    "# Check 9:\n",
    "\n",
    "(df['NUM_OPERATORS'] >= df['NUM_UNIQUE_OPERATORS']).sum()"
   ]
  },
  {
   "cell_type": "markdown",
   "id": "55974fe0-a43e-4cbc-bb30-c9e8ce8a2e63",
   "metadata": {},
   "source": [
    "For Check 10, all cases passed the integrity check"
   ]
  },
  {
   "cell_type": "code",
   "execution_count": 35,
   "id": "f4c223cf-4d54-4579-ae9c-31e688717810",
   "metadata": {},
   "outputs": [
    {
     "data": {
      "text/plain": [
       "5589"
      ]
     },
     "execution_count": 35,
     "metadata": {},
     "output_type": "execute_result"
    }
   ],
   "source": [
    "# Check 10:\n",
    "\n",
    "(df['HALSTEAD_LENGTH'] == (df['NUM_OPERATORS'] + df['NUM_OPERANDS'])).sum()"
   ]
  },
  {
   "cell_type": "markdown",
   "id": "530dcac8-7d34-4362-b161-37c6e7996e21",
   "metadata": {},
   "source": [
    "For Check 11, all cases passed the integrity check"
   ]
  },
  {
   "cell_type": "code",
   "execution_count": 36,
   "id": "c3e971b9-ecdc-46e7-8077-c53968f9777b",
   "metadata": {},
   "outputs": [
    {
     "data": {
      "text/plain": [
       "5589"
      ]
     },
     "execution_count": 36,
     "metadata": {},
     "output_type": "execute_result"
    }
   ],
   "source": [
    "# Check 11:\n",
    "\n",
    "(df['CYCLOMATIC_COMPLEXITY'] <= (df['NUM_OPERATORS']+1)).sum()"
   ]
  },
  {
   "cell_type": "markdown",
   "id": "975df1b8-5832-4357-9644-5a05d701e916",
   "metadata": {},
   "source": [
    "For Check 12, the number returned was less than 5589 which meant that there are cases with conflicting feature values\n",
    "\n",
    "To figure out their amount I subtracted the returned number from 5589 and got 129\n",
    "\n",
    "This meant that there are 129 cases with conflicting feature values in relation to this particular integrity check"
   ]
  },
  {
   "cell_type": "code",
   "execution_count": 37,
   "id": "12f09d76-679f-4d9d-bb75-45572e4f161d",
   "metadata": {},
   "outputs": [
    {
     "data": {
      "text/plain": [
       "5460"
      ]
     },
     "execution_count": 37,
     "metadata": {},
     "output_type": "execute_result"
    }
   ],
   "source": [
    "# Check 12:\n",
    "\n",
    "(df['CALL_PAIRS'] <= df['NUM_OPERATORS']).sum()"
   ]
  },
  {
   "cell_type": "code",
   "execution_count": 38,
   "id": "c8b0c443-3d1e-49c1-b064-8f84d3c1c6a1",
   "metadata": {},
   "outputs": [
    {
     "data": {
      "text/plain": [
       "129"
      ]
     },
     "execution_count": 38,
     "metadata": {},
     "output_type": "execute_result"
    }
   ],
   "source": [
    "5589 - (df['CALL_PAIRS'] <= df['NUM_OPERATORS']).sum()"
   ]
  },
  {
   "cell_type": "markdown",
   "id": "16897605-2047-4686-95a3-5cad60d9a135",
   "metadata": {},
   "source": [
    "The rest of the checks were more complicated because they contained log2 and division which produced numbers with decimal places\n",
    "\n",
    "This was problematic because it was preducing inacurate check results\n",
    "\n",
    "To counter that issue I had to do 4 steps:\n",
    "    \n",
    "1. I first created an empty list called listy wwhich will hold the result of carrying out the integrity check on each case, in this scenario the results of the checks can be 'Equals' or 'Not equals'\n",
    "\n",
    "2. I first checked whether the number in the log2 function or the number that is being devided on is not equal to 0, if the number is not equal to 0 then the rest of check will commence, if it is equal to 0 then I check if the expected number that we are checking for is equal to 0, if yes then we append Equals to listy, if no then we append No equals to listy\n",
    "\n",
    "3. If the number in the log2 function or the number we are dividing by is not 0 then we check whether the observed number is in the range of the expected number -1 and +1 (is the observed number  greater or equal to the expceted number minus 1 and is it less than or equal to the expected number plus 1)\n",
    "\n",
    "4. I then convert print listy as a set to check the unique values of it, if it only contains Equals then all the cases passed the integrity check, if it contains Equals and Not equals then there are cases that didn't pass the integrity check, If there are such cases then I check how many are they\n",
    "\n",
    "To do all these checks I had to use a for loop that goes through every row by index and does these checks on it"
   ]
  },
  {
   "cell_type": "markdown",
   "id": "225af8ac-9a24-40c4-a9c7-78bc232ff2ea",
   "metadata": {},
   "source": [
    "For Check 13, all cases passed the integrity check"
   ]
  },
  {
   "cell_type": "code",
   "execution_count": 39,
   "id": "03bcca37-e2c1-4741-ae2f-470114ff9b47",
   "metadata": {},
   "outputs": [
    {
     "name": "stdout",
     "output_type": "stream",
     "text": [
      "{'Equals'}\n"
     ]
    }
   ],
   "source": [
    "# Check 13\n",
    "\n",
    "listy = []\n",
    "for i in range(5589):\n",
    "    if df['NUM_UNIQUE_OPERATORS'][i] != 0 or df['NUM_UNIQUE_OPERANDS'][i] != 0:\n",
    "        if df['HALSTEAD_VOLUME'][i] >= (df['NUM_OPERATORS'][i] + df['NUM_OPERANDS'][i]) * (math.log2(df['NUM_UNIQUE_OPERATORS'][i] + df['NUM_UNIQUE_OPERANDS'][i]))-1 and df['HALSTEAD_VOLUME'][i] <= (df['NUM_OPERATORS'][i] + df['NUM_OPERANDS'][i]) * (math.log2(df['NUM_UNIQUE_OPERATORS'][i] + df['NUM_UNIQUE_OPERANDS'][i]))+1:\n",
    "            listy.append('Equals')\n",
    "        else:\n",
    "            listy.append('Not equals')\n",
    "    else:\n",
    "        if df['HALSTEAD_VOLUME'][i] == 0:\n",
    "            listy.append('Equals')\n",
    "        else:\n",
    "            listy.append('Not equals')\n",
    "\n",
    "print(set(listy))"
   ]
  },
  {
   "cell_type": "markdown",
   "id": "c535ffdc-9267-48a7-8931-368fc599c788",
   "metadata": {},
   "source": [
    "For Check 14, all cases passed the integrity check"
   ]
  },
  {
   "cell_type": "code",
   "execution_count": 40,
   "id": "20c0e8d1-8895-4530-997e-8b3f77afcdf1",
   "metadata": {},
   "outputs": [
    {
     "name": "stdout",
     "output_type": "stream",
     "text": [
      "{'Equals'}\n"
     ]
    }
   ],
   "source": [
    "# Check 14\n",
    "\n",
    "listy = []\n",
    "for i in range(5589):\n",
    "    if df['NUM_UNIQUE_OPERATORS'][i] != 0 and df['NUM_OPERANDS'][i] != 0:\n",
    "        if df['HALSTEAD_LEVEL'][i] >= ((2 / df['NUM_UNIQUE_OPERATORS'][i]) * (df['NUM_UNIQUE_OPERANDS'][i] / df['NUM_OPERANDS'][i]))-1 and df['HALSTEAD_LEVEL'][i] <= ((2 / df['NUM_UNIQUE_OPERATORS'][i]) * (df['NUM_UNIQUE_OPERANDS'][i] / df['NUM_OPERANDS'][i]))+1:\n",
    "            listy.append('Equals')\n",
    "        else:\n",
    "            listy.append('Not equals')\n",
    "    else:\n",
    "        if df['HALSTEAD_LEVEL'][i] == 0:\n",
    "            listy.append('Equals')\n",
    "        else:\n",
    "            listy.append('Not equals')\n",
    "\n",
    "print(set(listy))"
   ]
  },
  {
   "cell_type": "markdown",
   "id": "5a5a5e82-9c69-4e57-8faf-af9dd4a0ce70",
   "metadata": {},
   "source": [
    "For Check 15, all cases passed the integrity check"
   ]
  },
  {
   "cell_type": "code",
   "execution_count": 41,
   "id": "b4b289fc-bc91-43c2-a682-608ea50b40fe",
   "metadata": {},
   "outputs": [
    {
     "name": "stdout",
     "output_type": "stream",
     "text": [
      "{'Equals'}\n"
     ]
    }
   ],
   "source": [
    "# Check 15\n",
    "\n",
    "listy = []\n",
    "for i in range(5589):\n",
    "    if df['NUM_UNIQUE_OPERANDS'][i] != 0:\n",
    "        if df['HALSTEAD_DIFFICULTY'][i] >= ((df['NUM_UNIQUE_OPERATORS'][i] / 2) * (df['NUM_OPERANDS'][i] / df['NUM_UNIQUE_OPERANDS'][i]))-1 and df['HALSTEAD_DIFFICULTY'][i] <= ((df['NUM_UNIQUE_OPERATORS'][i] / 2) * (df['NUM_OPERANDS'][i] / df['NUM_UNIQUE_OPERANDS'][i]))+1:\n",
    "            listy.append('Equals')\n",
    "        else:\n",
    "            listy.append('Not equals')\n",
    "    else:\n",
    "        if df['HALSTEAD_DIFFICULTY'][i] == 0:\n",
    "            listy.append('Equals')\n",
    "        else:\n",
    "            listy.append('Not equals')\n",
    "\n",
    "print(set(listy))"
   ]
  },
  {
   "cell_type": "markdown",
   "id": "d9e1a615-9161-4674-9a77-79c4185c6bf6",
   "metadata": {},
   "source": [
    "For Check 16, all cases passed the integrity check"
   ]
  },
  {
   "cell_type": "code",
   "execution_count": 42,
   "id": "dbf4c0a3-ea4b-4dc1-bf26-f34f3aeaa24d",
   "metadata": {},
   "outputs": [
    {
     "name": "stdout",
     "output_type": "stream",
     "text": [
      "{'Equals'}\n"
     ]
    }
   ],
   "source": [
    "# Check 16\n",
    "\n",
    "listy = []\n",
    "for i in range(5589):\n",
    "    if df['HALSTEAD_DIFFICULTY'][i] != 0:\n",
    "        if df['HALSTEAD_CONTENT'][i] >= (df['HALSTEAD_VOLUME'][i] / df['HALSTEAD_DIFFICULTY'][i])-1 and df['HALSTEAD_CONTENT'][i] <= (df['HALSTEAD_VOLUME'][i] / df['HALSTEAD_DIFFICULTY'][i])+1:\n",
    "            listy.append('Equals')\n",
    "        else:\n",
    "            listy.append('Not equals')\n",
    "    else:\n",
    "        if df['HALSTEAD_CONTENT'][i] == 0:\n",
    "            listy.append('Equals')\n",
    "        else:\n",
    "            listy.append('Not equals')\n",
    "\n",
    "print(set(listy))"
   ]
  },
  {
   "cell_type": "markdown",
   "id": "9c4bca2f-0158-451a-b552-fef5d2d489db",
   "metadata": {},
   "source": [
    "For Check 17, I got 2 unique values which are Equals and Not equals. So I decided to check for how many 'Not equals' values are in listy and I found out that there are 222 of them"
   ]
  },
  {
   "cell_type": "code",
   "execution_count": 43,
   "id": "b0f7213c-3570-4f96-8f92-ef5584313180",
   "metadata": {},
   "outputs": [
    {
     "name": "stdout",
     "output_type": "stream",
     "text": [
      "{'Equals', 'Not equals'}\n",
      "222\n"
     ]
    }
   ],
   "source": [
    "# Check 17\n",
    "\n",
    "listy = []\n",
    "for i in range(5589):\n",
    "    if df['HALSTEAD_EFFORT'][i] >= (df['HALSTEAD_VOLUME'][i] * df['HALSTEAD_DIFFICULTY'][i])-1 and df['HALSTEAD_EFFORT'][i] <= (df['HALSTEAD_VOLUME'][i] * df['HALSTEAD_DIFFICULTY'][i])+1:\n",
    "        listy.append('Equals')\n",
    "    else:\n",
    "        listy.append('Not equals')\n",
    "        \n",
    "print(set(listy))\n",
    "print(listy.count('Not equals'))"
   ]
  },
  {
   "cell_type": "markdown",
   "id": "ee6db6e0-b4b5-40d3-ad61-27b1a6e89fb8",
   "metadata": {},
   "source": [
    "For Check 18, all cases passed the integrity check"
   ]
  },
  {
   "cell_type": "code",
   "execution_count": 44,
   "id": "9fe3ee0f-8aee-4bbf-9bf6-8031242608c2",
   "metadata": {},
   "outputs": [
    {
     "name": "stdout",
     "output_type": "stream",
     "text": [
      "{'Equals'}\n"
     ]
    }
   ],
   "source": [
    "# Check 18\n",
    "\n",
    "listy = []\n",
    "for i in range(5589):\n",
    "    if df['HALSTEAD_PROG_TIME'][i] >= (df['HALSTEAD_EFFORT'][i] / 18) -1 and df['HALSTEAD_PROG_TIME'][i] <= (df['HALSTEAD_EFFORT'][i] / 18) +1:\n",
    "        listy.append('Equals')\n",
    "    else:\n",
    "        listy.append('Not equals')\n",
    "        \n",
    "print(set(listy))"
   ]
  },
  {
   "cell_type": "markdown",
   "id": "ff0d0ddb-1056-44c5-b42c-867d933b4e95",
   "metadata": {},
   "source": [
    "The total number of cases with conflicting feature values is 129 + 222 which equals to 351\n",
    "\n",
    "This doesn't match the number mentioned in the pdf doc which is 129 so the result of this test is NOT PASS"
   ]
  },
  {
   "cell_type": "markdown",
   "id": "dd1307c7-e0b1-4a14-bc77-5b012a661647",
   "metadata": {},
   "source": [
    "## Features with conflicting values (Checking)"
   ]
  },
  {
   "cell_type": "markdown",
   "id": "6f13ec8a-0b02-4472-aa9f-3c26630d0a67",
   "metadata": {},
   "source": [
    "For this test, I didn't write code but instead I got the names of the features with conflicting values from the previous section\n",
    "\n",
    "I then incremented the variable features_problems by 2 because this was the amount of features with conflict values that I discovered in the previous section which matches the number mentioned in the pdf doc so the result for this test is PASS"
   ]
  },
  {
   "cell_type": "code",
   "execution_count": 45,
   "id": "067c0c26-8938-4c75-b2e6-8f68ebf164bf",
   "metadata": {},
   "outputs": [],
   "source": [
    "# From the Conflict Cases Values section\n",
    "\n",
    "# 'HALSTEAD_EFFORT'\n",
    "# 'CALL_PAIRS'\n",
    "\n",
    "features_problems += 2"
   ]
  },
  {
   "cell_type": "markdown",
   "id": "c0500e40-be6a-4d2c-aba9-ec522b624633",
   "metadata": {},
   "source": [
    "## Total Cases and Features Problems (Checking)"
   ]
  },
  {
   "cell_type": "markdown",
   "id": "d8f5d596-10b6-4b26-abe3-b554ed1ac226",
   "metadata": {},
   "source": [
    "To check for the total problem features, I just printed the variable features_problems which shows that the total problem features is 3 which is the same as the number mentioned in the pdf doc so the result of this test is PASS"
   ]
  },
  {
   "cell_type": "code",
   "execution_count": 46,
   "id": "169e7d6e-be7e-465f-b9ae-08e66a0e4671",
   "metadata": {},
   "outputs": [
    {
     "name": "stdout",
     "output_type": "stream",
     "text": [
      "3\n"
     ]
    }
   ],
   "source": [
    "print(features_problems)"
   ]
  },
  {
   "cell_type": "markdown",
   "id": "955f621c-25d9-4011-a608-f1c98e0d518c",
   "metadata": {},
   "source": [
    "To check for the cases that data quality problems and total problem cases I created the following variables\n",
    "\n",
    "- cases_data_quality_problems: Count of cases impacted by one or more of I to K that we denote DS′. Since cases may contain more than one problem this need not be the sum of I to K.\n",
    "- cases_problems: Count of cases impacted by one or more of G to K denoted DS′′"
   ]
  },
  {
   "cell_type": "markdown",
   "id": "ec29ee94-7d26-4815-9299-9de2f06c0112",
   "metadata": {},
   "source": [
    "For the total problem cases, I created a dataframe called df2\n",
    "\n",
    "I then created a column in it called Duplicated which holds True or False values related to duplicated rows in the original dataframe (df)\n",
    "\n",
    "I then created a column called Implausible which holds True or False values related to rows with implausible values\n",
    "\n",
    "I then created a column called Conflict_Check_10 which holds True or False values related to rows with conflict values in relation to check 10 because there were cases with conflicting values related to that particular check\n",
    "\n",
    "I then created a column called Conflict_Check_17 which holds True or False values related to rows with conflict values in relation to check 17 because there were cases with conflicting values related to that particular check\n",
    "\n",
    "I then created a for loop that goes through the rows of df2 and checks if it contains any True values, if yes then the variable cases_problems is incremented by 1\n",
    "\n",
    "In the end I received a result of 4293 as seen below which doesn't match the result in the pdf doc which is 4297 so the result of this check is NOT PASS"
   ]
  },
  {
   "cell_type": "code",
   "execution_count": 47,
   "id": "cb279df6-5d37-40b7-a5d2-965d8fb8086b",
   "metadata": {},
   "outputs": [
    {
     "name": "stdout",
     "output_type": "stream",
     "text": [
      "4293\n"
     ]
    }
   ],
   "source": [
    "cases_problems = 0\n",
    "\n",
    "df2 = pd.DataFrame()\n",
    "\n",
    "df2['Duplicated'] = df.duplicated()\n",
    "\n",
    "df2['Implausible'] = (df['LOC_TOTAL'] == 0)\n",
    "\n",
    "df2['Conflict_Check_12'] = (df['CALL_PAIRS'] > df['NUM_OPERATORS'])\n",
    "\n",
    "df2['Conflict_Check_17'] = ((df['HALSTEAD_EFFORT'] < (df['HALSTEAD_VOLUME'] * df['HALSTEAD_DIFFICULTY'])-1) & (df['HALSTEAD_EFFORT'] > (df['HALSTEAD_VOLUME'] * df['HALSTEAD_DIFFICULTY'])+1))\n",
    "\n",
    "#cases_problems = 0\n",
    "\n",
    "for i in range(len(df2)):\n",
    "    if (df2.iloc[i] == True).any():\n",
    "        cases_problems += 1\n",
    "\n",
    "\n",
    "print(cases_problems)"
   ]
  },
  {
   "cell_type": "markdown",
   "id": "5eac59a8-9a28-4683-81a4-9c48aa9c4d5c",
   "metadata": {},
   "source": [
    "For checking data quality problems I used the same method as before but without checking for duplicated cases\n",
    "\n",
    "In the end, I got a result of 1163 which matches the result in the pdf doc\n",
    "\n",
    "This means that the result of this test is PASS"
   ]
  },
  {
   "cell_type": "code",
   "execution_count": 48,
   "id": "68b1a636-465e-4075-9616-763049155673",
   "metadata": {},
   "outputs": [
    {
     "name": "stdout",
     "output_type": "stream",
     "text": [
      "1163\n"
     ]
    }
   ],
   "source": [
    "cases_data_quality_problems = 0\n",
    "\n",
    "df3 = pd.DataFrame()\n",
    "\n",
    "df3['Implausible'] = df2['Implausible']\n",
    "\n",
    "df3['Conflict_Check_12'] = df2['Conflict_Check_12']\n",
    "\n",
    "df3['Conflict_Check_17'] = df2['Conflict_Check_17']\n",
    "\n",
    "for i in range(len(df3)):\n",
    "    if (df3.iloc[i] == True).any():\n",
    "        cases_data_quality_problems += 1\n",
    "\n",
    "print(cases_data_quality_problems)"
   ]
  },
  {
   "cell_type": "markdown",
   "id": "330df683-bd65-4de2-90b6-3356aa3be1ba",
   "metadata": {},
   "source": [
    "I then printed the values of the variables features_problems, cases_data_quality_problems and cases_problems above each other to summerize the findings of this section"
   ]
  },
  {
   "cell_type": "code",
   "execution_count": 49,
   "id": "2367fc12-d2b8-4ab4-ab9e-ddf67e8df655",
   "metadata": {},
   "outputs": [
    {
     "name": "stdout",
     "output_type": "stream",
     "text": [
      "features_problems: 3\n",
      "cases_data_quality_problems: 1163\n",
      "cases_problems: 4293\n"
     ]
    }
   ],
   "source": [
    "print(f'features_problems: {features_problems}')\n",
    "print(f'cases_data_quality_problems: {cases_data_quality_problems}')\n",
    "print(f'cases_problems: {cases_problems}')"
   ]
  },
  {
   "cell_type": "markdown",
   "id": "8ec7a408-4a56-4e4c-a4af-e47fb40665cc",
   "metadata": {
    "tags": []
   },
   "source": [
    "## Step 1: Implausible Cases (Deletion)"
   ]
  },
  {
   "cell_type": "markdown",
   "id": "70e8c02d-4934-4f4c-9ee1-f86863794a79",
   "metadata": {},
   "source": [
    "I then started the process of cleaning the dataset\n",
    "\n",
    "For step 1, I had to drop all implausible cases\n",
    "\n",
    "The only implausible cases I found before where the cases in the column LOC_TOTAL which were equal to 0, so I dropped all the cases that matched this condition using the drop method, I then counted the amount of cases left in the column after the drop process and it was 4505"
   ]
  },
  {
   "cell_type": "code",
   "execution_count": 50,
   "id": "31203635-7fbe-4946-b093-235d53b479a8",
   "metadata": {},
   "outputs": [],
   "source": [
    "# https://thispointer.com/count-number-of-zeros-in-pandas-dataframe-column/\n",
    "\n",
    "df.drop(df[df['LOC_TOTAL'] == 0].index, inplace = True)"
   ]
  },
  {
   "cell_type": "code",
   "execution_count": 51,
   "id": "f5c408b0-a63f-400a-8b2a-c50171ce57f7",
   "metadata": {},
   "outputs": [
    {
     "data": {
      "text/plain": [
       "4505"
      ]
     },
     "execution_count": 51,
     "metadata": {},
     "output_type": "execute_result"
    }
   ],
   "source": [
    "df['LOC_TOTAL'].count()"
   ]
  },
  {
   "cell_type": "markdown",
   "id": "f1b8e2e0-8adb-4a32-bfd4-3807550dcdfe",
   "metadata": {},
   "source": [
    "## Step 2: Conflict Cases (Referential integrity checks) (Deletion)"
   ]
  },
  {
   "cell_type": "code",
   "execution_count": 52,
   "id": "3a31d163-4716-4899-be61-72066d1770e5",
   "metadata": {},
   "outputs": [
    {
     "data": {
      "text/plain": [
       "4505"
      ]
     },
     "execution_count": 52,
     "metadata": {},
     "output_type": "execute_result"
    }
   ],
   "source": [
    "len(df)"
   ]
  },
  {
   "cell_type": "markdown",
   "id": "612469ad-ad9d-447c-b9c6-09ee88df344d",
   "metadata": {},
   "source": [
    "For step 2, I had to drop all cases with conflicting values, to do that I dropped the cases that didn't match check 12 and check 17 because these were the only checks that not all cases passed\n",
    "\n",
    "After the drop process, there were 4204 rows left in the dataset"
   ]
  },
  {
   "cell_type": "code",
   "execution_count": 53,
   "id": "066bd296-40a2-47be-a10a-d8bccb3678cf",
   "metadata": {},
   "outputs": [
    {
     "data": {
      "text/plain": [
       "4426"
      ]
     },
     "execution_count": 53,
     "metadata": {},
     "output_type": "execute_result"
    }
   ],
   "source": [
    "# https://sparkbyexamples.com/pandas/pandas-drop-rows-with-condition/#:~:text=Use%20pandas.,rows%20with%20condition(s).\n",
    "\n",
    "# Cond 12\n",
    "\n",
    "df.drop(df[df['CALL_PAIRS'] > df['NUM_OPERATORS']].index, inplace = True)\n",
    "len(df)"
   ]
  },
  {
   "cell_type": "code",
   "execution_count": 54,
   "id": "7c837243-c933-4a96-88f8-e60103e2fe3b",
   "metadata": {},
   "outputs": [
    {
     "data": {
      "text/plain": [
       "4204"
      ]
     },
     "execution_count": 54,
     "metadata": {},
     "output_type": "execute_result"
    }
   ],
   "source": [
    "# Cond 17\n",
    "cond = (df['HALSTEAD_EFFORT'] < (df['HALSTEAD_VOLUME'] * df['HALSTEAD_DIFFICULTY'])-1) | (df['HALSTEAD_EFFORT'] > (df['HALSTEAD_VOLUME'] * df['HALSTEAD_DIFFICULTY'])+1)\n",
    "df.drop(df[cond].index, inplace = True)\n",
    "len(df)"
   ]
  },
  {
   "cell_type": "markdown",
   "id": "55f9b952-dd34-44e5-8c88-0aba0c150fce",
   "metadata": {},
   "source": [
    "## Step 3: Identical Cases (Deletion)"
   ]
  },
  {
   "cell_type": "markdown",
   "id": "cabf35c1-da74-436f-b9a8-9d185d7031db",
   "metadata": {},
   "source": [
    "For step 3, I had to drop all duplicated cases\n",
    "\n",
    "I did so using the function drop_duplicates\n",
    "\n",
    "I then counted the amount of cases with duplicated values and there were no cases with duplicated values left\n",
    "\n",
    "There were also 1129 cases left in the dataset in total"
   ]
  },
  {
   "cell_type": "code",
   "execution_count": 55,
   "id": "86a475be-1575-46c8-83cd-73629b3118cd",
   "metadata": {},
   "outputs": [
    {
     "data": {
      "text/plain": [
       "False    1129\n",
       "dtype: int64"
      ]
     },
     "execution_count": 55,
     "metadata": {},
     "output_type": "execute_result"
    }
   ],
   "source": [
    "# https://pandas.pydata.org/docs/reference/api/pandas.DataFrame.drop_duplicates.html\n",
    "# https://stackoverflow.com/questions/46489695/drop-duplicates-not-working-in-pandas\n",
    "\n",
    "df.drop_duplicates(subset=None, keep=\"first\", inplace=True)\n",
    "\n",
    "df.duplicated().value_counts()"
   ]
  },
  {
   "cell_type": "markdown",
   "id": "aab3adef-e990-44b6-91f3-3fc41010d689",
   "metadata": {},
   "source": [
    "## Step 4: Inconsistant Cases (Deletion)"
   ]
  },
  {
   "cell_type": "markdown",
   "id": "19ff0372-7eeb-4c08-ab31-1d4ca529a3b1",
   "metadata": {},
   "source": [
    "For steps 4, 5, 6 and 7, there were no features or cases to drop because they all passed the checks related to these steps"
   ]
  },
  {
   "cell_type": "code",
   "execution_count": 56,
   "id": "bbb297cb-5986-4ad8-b132-63812d96d650",
   "metadata": {},
   "outputs": [],
   "source": [
    "# No Inconsistant Cases"
   ]
  },
  {
   "cell_type": "markdown",
   "id": "2a121a83-636a-4190-bc46-9846bca5f01d",
   "metadata": {},
   "source": [
    "## Step 5: Cases With Missing Values (Deletion)"
   ]
  },
  {
   "cell_type": "code",
   "execution_count": 57,
   "id": "22e3c125-bdd1-4e7f-affb-c449bd6cb2c0",
   "metadata": {},
   "outputs": [],
   "source": [
    "# No Cases with Missing values"
   ]
  },
  {
   "cell_type": "markdown",
   "id": "56fadab0-4baf-4256-a597-4e0b9a61f273",
   "metadata": {},
   "source": [
    "## Step 6: Constant Features (Deletion)"
   ]
  },
  {
   "cell_type": "code",
   "execution_count": 58,
   "id": "ed1045c7-fd97-4f80-bcba-e8e0d41288f2",
   "metadata": {},
   "outputs": [],
   "source": [
    "# No Constant Features"
   ]
  },
  {
   "cell_type": "markdown",
   "id": "0f696c96-7453-4918-b7a5-f4b9b6897117",
   "metadata": {},
   "source": [
    "## Step 7: Identical Features (Deletion)"
   ]
  },
  {
   "cell_type": "code",
   "execution_count": 59,
   "id": "f3868380-10af-4440-978b-487e480736e1",
   "metadata": {},
   "outputs": [],
   "source": [
    "# No Identical Features"
   ]
  },
  {
   "cell_type": "markdown",
   "id": "d774f88c-8b4f-46f4-ad65-5d85f45a0e20",
   "metadata": {},
   "source": [
    "I then outputted the cleaned dataset as pc2.csv in the /data directory"
   ]
  },
  {
   "cell_type": "code",
   "execution_count": 60,
   "id": "4c5a23dd-6655-4588-9c5d-5fa6a3fc4ff4",
   "metadata": {},
   "outputs": [],
   "source": [
    "df.to_csv(f\"{ROOT}/data/pc2.csv\")"
   ]
  },
  {
   "cell_type": "code",
   "execution_count": 61,
   "id": "d886e2d3-a073-4a7b-abe1-1134c75c5ab9",
   "metadata": {},
   "outputs": [
    {
     "data": {
      "text/html": [
       "<div>\n",
       "<style scoped>\n",
       "    .dataframe tbody tr th:only-of-type {\n",
       "        vertical-align: middle;\n",
       "    }\n",
       "\n",
       "    .dataframe tbody tr th {\n",
       "        vertical-align: top;\n",
       "    }\n",
       "\n",
       "    .dataframe thead th {\n",
       "        text-align: right;\n",
       "    }\n",
       "</style>\n",
       "<table border=\"1\" class=\"dataframe\">\n",
       "  <thead>\n",
       "    <tr style=\"text-align: right;\">\n",
       "      <th></th>\n",
       "      <th>BRANCH_COUNT</th>\n",
       "      <th>CALL_PAIRS</th>\n",
       "      <th>LOC_CODE_AND_COMMENT</th>\n",
       "      <th>LOC_COMMENTS</th>\n",
       "      <th>CONDITION_COUNT</th>\n",
       "      <th>CYCLOMATIC_COMPLEXITY</th>\n",
       "      <th>CYCLOMATIC_DENSITY</th>\n",
       "      <th>DECISION_COUNT</th>\n",
       "      <th>DECISION_DENSITY</th>\n",
       "      <th>DESIGN_COMPLEXITY</th>\n",
       "      <th>DESIGN_DENSITY</th>\n",
       "      <th>EDGE_COUNT</th>\n",
       "      <th>ESSENTIAL_COMPLEXITY</th>\n",
       "      <th>ESSENTIAL_DENSITY</th>\n",
       "      <th>LOC_EXECUTABLE</th>\n",
       "      <th>PARAMETER_COUNT</th>\n",
       "      <th>HALSTEAD_CONTENT</th>\n",
       "      <th>HALSTEAD_DIFFICULTY</th>\n",
       "      <th>HALSTEAD_EFFORT</th>\n",
       "      <th>HALSTEAD_ERROR_EST</th>\n",
       "      <th>HALSTEAD_LENGTH</th>\n",
       "      <th>HALSTEAD_LEVEL</th>\n",
       "      <th>HALSTEAD_PROG_TIME</th>\n",
       "      <th>HALSTEAD_VOLUME</th>\n",
       "      <th>MAINTENANCE_SEVERITY</th>\n",
       "      <th>MODIFIED_CONDITION_COUNT</th>\n",
       "      <th>MULTIPLE_CONDITION_COUNT</th>\n",
       "      <th>NODE_COUNT</th>\n",
       "      <th>NORMALIZED_CYLOMATIC_COMPLEXITY</th>\n",
       "      <th>NUM_OPERANDS</th>\n",
       "      <th>NUM_OPERATORS</th>\n",
       "      <th>NUM_UNIQUE_OPERANDS</th>\n",
       "      <th>NUM_UNIQUE_OPERATORS</th>\n",
       "      <th>NUMBER_OF_LINES</th>\n",
       "      <th>PERCENT_COMMENTS</th>\n",
       "      <th>LOC_TOTAL</th>\n",
       "      <th>defects</th>\n",
       "    </tr>\n",
       "  </thead>\n",
       "  <tbody>\n",
       "    <tr>\n",
       "      <th>2</th>\n",
       "      <td>1.0</td>\n",
       "      <td>4.0</td>\n",
       "      <td>7.0</td>\n",
       "      <td>24.0</td>\n",
       "      <td>0.0</td>\n",
       "      <td>1.0</td>\n",
       "      <td>0.13</td>\n",
       "      <td>0.0</td>\n",
       "      <td>0.0</td>\n",
       "      <td>1.0</td>\n",
       "      <td>1.0</td>\n",
       "      <td>6.0</td>\n",
       "      <td>1.0</td>\n",
       "      <td>0.0</td>\n",
       "      <td>1.0</td>\n",
       "      <td>0.0</td>\n",
       "      <td>17.88</td>\n",
       "      <td>7.43</td>\n",
       "      <td>986.77</td>\n",
       "      <td>0.04</td>\n",
       "      <td>34.0</td>\n",
       "      <td>0.13</td>\n",
       "      <td>54.82</td>\n",
       "      <td>132.83</td>\n",
       "      <td>1.0</td>\n",
       "      <td>0.0</td>\n",
       "      <td>0.0</td>\n",
       "      <td>7.0</td>\n",
       "      <td>0.03</td>\n",
       "      <td>13.0</td>\n",
       "      <td>21.0</td>\n",
       "      <td>7.0</td>\n",
       "      <td>8.0</td>\n",
       "      <td>34.0</td>\n",
       "      <td>96.88</td>\n",
       "      <td>8.0</td>\n",
       "      <td>False</td>\n",
       "    </tr>\n",
       "    <tr>\n",
       "      <th>3</th>\n",
       "      <td>1.0</td>\n",
       "      <td>1.0</td>\n",
       "      <td>11.0</td>\n",
       "      <td>3.0</td>\n",
       "      <td>0.0</td>\n",
       "      <td>1.0</td>\n",
       "      <td>0.08</td>\n",
       "      <td>0.0</td>\n",
       "      <td>0.0</td>\n",
       "      <td>1.0</td>\n",
       "      <td>1.0</td>\n",
       "      <td>2.0</td>\n",
       "      <td>1.0</td>\n",
       "      <td>0.0</td>\n",
       "      <td>1.0</td>\n",
       "      <td>0.0</td>\n",
       "      <td>42.62</td>\n",
       "      <td>7.81</td>\n",
       "      <td>2598.31</td>\n",
       "      <td>0.11</td>\n",
       "      <td>77.0</td>\n",
       "      <td>0.13</td>\n",
       "      <td>144.35</td>\n",
       "      <td>332.79</td>\n",
       "      <td>1.0</td>\n",
       "      <td>0.0</td>\n",
       "      <td>0.0</td>\n",
       "      <td>3.0</td>\n",
       "      <td>0.06</td>\n",
       "      <td>29.0</td>\n",
       "      <td>48.0</td>\n",
       "      <td>13.0</td>\n",
       "      <td>7.0</td>\n",
       "      <td>17.0</td>\n",
       "      <td>93.33</td>\n",
       "      <td>12.0</td>\n",
       "      <td>False</td>\n",
       "    </tr>\n",
       "    <tr>\n",
       "      <th>4</th>\n",
       "      <td>1.0</td>\n",
       "      <td>1.0</td>\n",
       "      <td>0.0</td>\n",
       "      <td>0.0</td>\n",
       "      <td>0.0</td>\n",
       "      <td>1.0</td>\n",
       "      <td>1.00</td>\n",
       "      <td>0.0</td>\n",
       "      <td>0.0</td>\n",
       "      <td>1.0</td>\n",
       "      <td>1.0</td>\n",
       "      <td>2.0</td>\n",
       "      <td>1.0</td>\n",
       "      <td>0.0</td>\n",
       "      <td>1.0</td>\n",
       "      <td>3.0</td>\n",
       "      <td>33.44</td>\n",
       "      <td>0.63</td>\n",
       "      <td>13.06</td>\n",
       "      <td>0.01</td>\n",
       "      <td>9.0</td>\n",
       "      <td>1.60</td>\n",
       "      <td>0.73</td>\n",
       "      <td>20.90</td>\n",
       "      <td>1.0</td>\n",
       "      <td>0.0</td>\n",
       "      <td>0.0</td>\n",
       "      <td>3.0</td>\n",
       "      <td>0.33</td>\n",
       "      <td>5.0</td>\n",
       "      <td>4.0</td>\n",
       "      <td>4.0</td>\n",
       "      <td>1.0</td>\n",
       "      <td>3.0</td>\n",
       "      <td>0.00</td>\n",
       "      <td>1.0</td>\n",
       "      <td>False</td>\n",
       "    </tr>\n",
       "    <tr>\n",
       "      <th>6</th>\n",
       "      <td>1.0</td>\n",
       "      <td>0.0</td>\n",
       "      <td>1.0</td>\n",
       "      <td>0.0</td>\n",
       "      <td>0.0</td>\n",
       "      <td>1.0</td>\n",
       "      <td>0.50</td>\n",
       "      <td>0.0</td>\n",
       "      <td>0.0</td>\n",
       "      <td>1.0</td>\n",
       "      <td>1.0</td>\n",
       "      <td>1.0</td>\n",
       "      <td>1.0</td>\n",
       "      <td>0.0</td>\n",
       "      <td>1.0</td>\n",
       "      <td>2.0</td>\n",
       "      <td>10.87</td>\n",
       "      <td>3.50</td>\n",
       "      <td>133.19</td>\n",
       "      <td>0.01</td>\n",
       "      <td>11.0</td>\n",
       "      <td>0.29</td>\n",
       "      <td>7.40</td>\n",
       "      <td>38.05</td>\n",
       "      <td>1.0</td>\n",
       "      <td>0.0</td>\n",
       "      <td>0.0</td>\n",
       "      <td>2.0</td>\n",
       "      <td>0.33</td>\n",
       "      <td>4.0</td>\n",
       "      <td>7.0</td>\n",
       "      <td>4.0</td>\n",
       "      <td>7.0</td>\n",
       "      <td>3.0</td>\n",
       "      <td>50.00</td>\n",
       "      <td>2.0</td>\n",
       "      <td>False</td>\n",
       "    </tr>\n",
       "    <tr>\n",
       "      <th>7</th>\n",
       "      <td>3.0</td>\n",
       "      <td>1.0</td>\n",
       "      <td>1.0</td>\n",
       "      <td>0.0</td>\n",
       "      <td>6.0</td>\n",
       "      <td>2.0</td>\n",
       "      <td>1.00</td>\n",
       "      <td>2.0</td>\n",
       "      <td>3.0</td>\n",
       "      <td>1.0</td>\n",
       "      <td>0.5</td>\n",
       "      <td>5.0</td>\n",
       "      <td>1.0</td>\n",
       "      <td>0.0</td>\n",
       "      <td>1.0</td>\n",
       "      <td>1.0</td>\n",
       "      <td>11.07</td>\n",
       "      <td>4.38</td>\n",
       "      <td>211.89</td>\n",
       "      <td>0.02</td>\n",
       "      <td>14.0</td>\n",
       "      <td>0.23</td>\n",
       "      <td>11.77</td>\n",
       "      <td>48.43</td>\n",
       "      <td>0.5</td>\n",
       "      <td>2.0</td>\n",
       "      <td>3.0</td>\n",
       "      <td>5.0</td>\n",
       "      <td>0.50</td>\n",
       "      <td>5.0</td>\n",
       "      <td>9.0</td>\n",
       "      <td>4.0</td>\n",
       "      <td>7.0</td>\n",
       "      <td>4.0</td>\n",
       "      <td>50.00</td>\n",
       "      <td>2.0</td>\n",
       "      <td>False</td>\n",
       "    </tr>\n",
       "  </tbody>\n",
       "</table>\n",
       "</div>"
      ],
      "text/plain": [
       "   BRANCH_COUNT  CALL_PAIRS  LOC_CODE_AND_COMMENT  LOC_COMMENTS  \\\n",
       "2           1.0         4.0                   7.0          24.0   \n",
       "3           1.0         1.0                  11.0           3.0   \n",
       "4           1.0         1.0                   0.0           0.0   \n",
       "6           1.0         0.0                   1.0           0.0   \n",
       "7           3.0         1.0                   1.0           0.0   \n",
       "\n",
       "   CONDITION_COUNT  CYCLOMATIC_COMPLEXITY  CYCLOMATIC_DENSITY  DECISION_COUNT  \\\n",
       "2              0.0                    1.0                0.13             0.0   \n",
       "3              0.0                    1.0                0.08             0.0   \n",
       "4              0.0                    1.0                1.00             0.0   \n",
       "6              0.0                    1.0                0.50             0.0   \n",
       "7              6.0                    2.0                1.00             2.0   \n",
       "\n",
       "   DECISION_DENSITY  DESIGN_COMPLEXITY  DESIGN_DENSITY  EDGE_COUNT  \\\n",
       "2               0.0                1.0             1.0         6.0   \n",
       "3               0.0                1.0             1.0         2.0   \n",
       "4               0.0                1.0             1.0         2.0   \n",
       "6               0.0                1.0             1.0         1.0   \n",
       "7               3.0                1.0             0.5         5.0   \n",
       "\n",
       "   ESSENTIAL_COMPLEXITY  ESSENTIAL_DENSITY  LOC_EXECUTABLE  PARAMETER_COUNT  \\\n",
       "2                   1.0                0.0             1.0              0.0   \n",
       "3                   1.0                0.0             1.0              0.0   \n",
       "4                   1.0                0.0             1.0              3.0   \n",
       "6                   1.0                0.0             1.0              2.0   \n",
       "7                   1.0                0.0             1.0              1.0   \n",
       "\n",
       "   HALSTEAD_CONTENT  HALSTEAD_DIFFICULTY  HALSTEAD_EFFORT  HALSTEAD_ERROR_EST  \\\n",
       "2             17.88                 7.43           986.77                0.04   \n",
       "3             42.62                 7.81          2598.31                0.11   \n",
       "4             33.44                 0.63            13.06                0.01   \n",
       "6             10.87                 3.50           133.19                0.01   \n",
       "7             11.07                 4.38           211.89                0.02   \n",
       "\n",
       "   HALSTEAD_LENGTH  HALSTEAD_LEVEL  HALSTEAD_PROG_TIME  HALSTEAD_VOLUME  \\\n",
       "2             34.0            0.13               54.82           132.83   \n",
       "3             77.0            0.13              144.35           332.79   \n",
       "4              9.0            1.60                0.73            20.90   \n",
       "6             11.0            0.29                7.40            38.05   \n",
       "7             14.0            0.23               11.77            48.43   \n",
       "\n",
       "   MAINTENANCE_SEVERITY  MODIFIED_CONDITION_COUNT  MULTIPLE_CONDITION_COUNT  \\\n",
       "2                   1.0                       0.0                       0.0   \n",
       "3                   1.0                       0.0                       0.0   \n",
       "4                   1.0                       0.0                       0.0   \n",
       "6                   1.0                       0.0                       0.0   \n",
       "7                   0.5                       2.0                       3.0   \n",
       "\n",
       "   NODE_COUNT  NORMALIZED_CYLOMATIC_COMPLEXITY  NUM_OPERANDS  NUM_OPERATORS  \\\n",
       "2         7.0                             0.03          13.0           21.0   \n",
       "3         3.0                             0.06          29.0           48.0   \n",
       "4         3.0                             0.33           5.0            4.0   \n",
       "6         2.0                             0.33           4.0            7.0   \n",
       "7         5.0                             0.50           5.0            9.0   \n",
       "\n",
       "   NUM_UNIQUE_OPERANDS  NUM_UNIQUE_OPERATORS  NUMBER_OF_LINES  \\\n",
       "2                  7.0                   8.0             34.0   \n",
       "3                 13.0                   7.0             17.0   \n",
       "4                  4.0                   1.0              3.0   \n",
       "6                  4.0                   7.0              3.0   \n",
       "7                  4.0                   7.0              4.0   \n",
       "\n",
       "   PERCENT_COMMENTS  LOC_TOTAL  defects  \n",
       "2             96.88        8.0    False  \n",
       "3             93.33       12.0    False  \n",
       "4              0.00        1.0    False  \n",
       "6             50.00        2.0    False  \n",
       "7             50.00        2.0    False  "
      ]
     },
     "execution_count": 61,
     "metadata": {},
     "output_type": "execute_result"
    }
   ],
   "source": [
    "df.head()"
   ]
  },
  {
   "cell_type": "code",
   "execution_count": null,
   "id": "420ba15d-b386-457d-a839-b81bf9d29e58",
   "metadata": {},
   "outputs": [],
   "source": []
  }
 ],
 "metadata": {
  "kernelspec": {
   "display_name": "Python 3 (ipykernel)",
   "language": "python",
   "name": "python3"
  },
  "language_info": {
   "codemirror_mode": {
    "name": "ipython",
    "version": 3
   },
   "file_extension": ".py",
   "mimetype": "text/x-python",
   "name": "python",
   "nbconvert_exporter": "python",
   "pygments_lexer": "ipython3",
   "version": "3.9.13"
  }
 },
 "nbformat": 4,
 "nbformat_minor": 5
}
