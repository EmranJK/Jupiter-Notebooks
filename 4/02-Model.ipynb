{
 "cells": [
  {
   "cell_type": "markdown",
   "id": "b8f1a6a5-4470-4883-be4e-6f6479e2dd20",
   "metadata": {},
   "source": [
    "## 02-Model"
   ]
  },
  {
   "cell_type": "markdown",
   "id": "33fad26a-304e-4c3a-b3f3-4881204d3c9a",
   "metadata": {},
   "source": [
    "#### Name: Emran Sabbagh\n",
    "\n",
    "#### Student Number: 20088634"
   ]
  },
  {
   "cell_type": "markdown",
   "id": "7e7d6f2f-f0f0-48d7-8d53-562505373915",
   "metadata": {},
   "source": [
    "### Setup"
   ]
  },
  {
   "cell_type": "markdown",
   "id": "d42b7904-0024-45f9-8290-33ae04567937",
   "metadata": {},
   "source": [
    "The first thing I did was importing some libraries and doing the setup"
   ]
  },
  {
   "cell_type": "code",
   "execution_count": 1,
   "id": "c2c3ad97-6818-4182-abba-f78fd69832e3",
   "metadata": {},
   "outputs": [],
   "source": [
    "import pandas as pd\n",
    "import numpy as np\n",
    "import matplotlib.pyplot as plt\n",
    "import seaborn as sns\n",
    "import math\n",
    "\n",
    "from IPython.display import display, Markdown\n",
    "plt.style.use(\"seaborn-darkgrid\")\n",
    "pd.set_option('display.max_columns', None)  \n",
    "\n",
    "import sys, os, yaml\n",
    "\n",
    "DATASET = \"NASA\"\n",
    "\n",
    "COLAB = 'google.colab' in sys.modules\n",
    "if COLAB:\n",
    "    ROOT = f\"/content/gdrive/MyDrive/datasets/{DATASET.replace(' ','_')}/\"\n",
    "else:\n",
    "    ROOT = \"./\"\n",
    "\n",
    "DEBUG = False\n",
    "SEED = 1612"
   ]
  },
  {
   "cell_type": "code",
   "execution_count": 2,
   "id": "741eaff7-5131-45c2-ac40-2f8c4368a1f3",
   "metadata": {},
   "outputs": [],
   "source": [
    "if COLAB:\n",
    "    from google.colab import drive\n",
    "    if not os.path.isdir(\"/content/gdrive\"):\n",
    "        drive.mount(\"/content/gdrive\")\n",
    "        d = \"/content/gdrive/MyDrive/datasets\"\n",
    "        if not os.path.isdir(d): os.makedirs(d)\n",
    "        if not os.path.isdir(ROOT): os.makedirs(ROOT)\n",
    "\n",
    "def makedirs(d):\n",
    "    if COLAB:\n",
    "        if not os.path.isdir(ROOT+d): os.makedirs(ROOT+d)\n",
    "    else:\n",
    "        if not os.path.isdir(ROOT+d): os.makedirs(ROOT+d, mode=0o777, exist_ok=True)\n",
    "\n",
    "for d in ['orig','data','output']: makedirs(d)"
   ]
  },
  {
   "cell_type": "markdown",
   "id": "4f7178eb-8b24-4e72-807e-1be3390e19f2",
   "metadata": {},
   "source": [
    "### Modelling"
   ]
  },
  {
   "cell_type": "markdown",
   "id": "3545f3b5-c08e-4611-b036-6f5ee754e681",
   "metadata": {},
   "source": [
    "I then read the train.csv and test.csv files"
   ]
  },
  {
   "cell_type": "code",
   "execution_count": 3,
   "id": "3b0ca0a3-320a-48c3-a897-942420ef6e57",
   "metadata": {},
   "outputs": [
    {
     "name": "stdout",
     "output_type": "stream",
     "text": [
      "(5831, 19)\n"
     ]
    },
    {
     "data": {
      "text/html": [
       "<div>\n",
       "<style scoped>\n",
       "    .dataframe tbody tr th:only-of-type {\n",
       "        vertical-align: middle;\n",
       "    }\n",
       "\n",
       "    .dataframe tbody tr th {\n",
       "        vertical-align: top;\n",
       "    }\n",
       "\n",
       "    .dataframe thead th {\n",
       "        text-align: right;\n",
       "    }\n",
       "</style>\n",
       "<table border=\"1\" class=\"dataframe\">\n",
       "  <thead>\n",
       "    <tr style=\"text-align: right;\">\n",
       "      <th></th>\n",
       "      <th>Customer</th>\n",
       "      <th>Churn</th>\n",
       "      <th>Card</th>\n",
       "      <th>Customer_Service_Calls</th>\n",
       "      <th>Credit_Limit</th>\n",
       "      <th>Total_Revolving_Balance</th>\n",
       "      <th>Average_Open_To_Buy</th>\n",
       "      <th>Average_Utilisation_Ratio</th>\n",
       "      <th>Age</th>\n",
       "      <th>Gender</th>\n",
       "      <th>Education</th>\n",
       "      <th>Marital_Status</th>\n",
       "      <th>Dependents</th>\n",
       "      <th>Income</th>\n",
       "      <th>Amount_Sum</th>\n",
       "      <th>Amount_Mean</th>\n",
       "      <th>Amount_Median</th>\n",
       "      <th>Account</th>\n",
       "      <th>Start_Year</th>\n",
       "    </tr>\n",
       "  </thead>\n",
       "  <tbody>\n",
       "    <tr>\n",
       "      <th>0</th>\n",
       "      <td>797197508</td>\n",
       "      <td>0</td>\n",
       "      <td>1</td>\n",
       "      <td>1</td>\n",
       "      <td>2315.0</td>\n",
       "      <td>1565</td>\n",
       "      <td>750.0</td>\n",
       "      <td>0.676</td>\n",
       "      <td>48.0</td>\n",
       "      <td>2</td>\n",
       "      <td>1</td>\n",
       "      <td>1</td>\n",
       "      <td>2</td>\n",
       "      <td>29999</td>\n",
       "      <td>4827.96</td>\n",
       "      <td>53.644000</td>\n",
       "      <td>40.20</td>\n",
       "      <td>1</td>\n",
       "      <td>2020</td>\n",
       "    </tr>\n",
       "    <tr>\n",
       "      <th>1</th>\n",
       "      <td>812854728</td>\n",
       "      <td>0</td>\n",
       "      <td>1</td>\n",
       "      <td>1</td>\n",
       "      <td>7645.0</td>\n",
       "      <td>2076</td>\n",
       "      <td>5569.0</td>\n",
       "      <td>0.272</td>\n",
       "      <td>58.0</td>\n",
       "      <td>2</td>\n",
       "      <td>2</td>\n",
       "      <td>2</td>\n",
       "      <td>5</td>\n",
       "      <td>29999</td>\n",
       "      <td>7709.97</td>\n",
       "      <td>102.799600</td>\n",
       "      <td>44.11</td>\n",
       "      <td>1</td>\n",
       "      <td>2020</td>\n",
       "    </tr>\n",
       "    <tr>\n",
       "      <th>2</th>\n",
       "      <td>768000743</td>\n",
       "      <td>0</td>\n",
       "      <td>1</td>\n",
       "      <td>2</td>\n",
       "      <td>6394.0</td>\n",
       "      <td>0</td>\n",
       "      <td>6394.0</td>\n",
       "      <td>0.000</td>\n",
       "      <td>55.0</td>\n",
       "      <td>2</td>\n",
       "      <td>2</td>\n",
       "      <td>2</td>\n",
       "      <td>2</td>\n",
       "      <td>29999</td>\n",
       "      <td>3470.06</td>\n",
       "      <td>50.290725</td>\n",
       "      <td>29.07</td>\n",
       "      <td>2</td>\n",
       "      <td>2020</td>\n",
       "    </tr>\n",
       "    <tr>\n",
       "      <th>3</th>\n",
       "      <td>759029725</td>\n",
       "      <td>0</td>\n",
       "      <td>1</td>\n",
       "      <td>4</td>\n",
       "      <td>1879.0</td>\n",
       "      <td>1486</td>\n",
       "      <td>393.0</td>\n",
       "      <td>0.791</td>\n",
       "      <td>37.0</td>\n",
       "      <td>2</td>\n",
       "      <td>2</td>\n",
       "      <td>2</td>\n",
       "      <td>1</td>\n",
       "      <td>29999</td>\n",
       "      <td>5202.04</td>\n",
       "      <td>59.114091</td>\n",
       "      <td>35.04</td>\n",
       "      <td>1</td>\n",
       "      <td>2021</td>\n",
       "    </tr>\n",
       "    <tr>\n",
       "      <th>4</th>\n",
       "      <td>764982590</td>\n",
       "      <td>0</td>\n",
       "      <td>1</td>\n",
       "      <td>4</td>\n",
       "      <td>6036.0</td>\n",
       "      <td>1409</td>\n",
       "      <td>4627.0</td>\n",
       "      <td>0.233</td>\n",
       "      <td>56.0</td>\n",
       "      <td>1</td>\n",
       "      <td>7</td>\n",
       "      <td>1</td>\n",
       "      <td>2</td>\n",
       "      <td>50001</td>\n",
       "      <td>1741.00</td>\n",
       "      <td>38.688889</td>\n",
       "      <td>25.16</td>\n",
       "      <td>5</td>\n",
       "      <td>2018</td>\n",
       "    </tr>\n",
       "  </tbody>\n",
       "</table>\n",
       "</div>"
      ],
      "text/plain": [
       "    Customer  Churn  Card  Customer_Service_Calls  Credit_Limit  \\\n",
       "0  797197508      0     1                       1        2315.0   \n",
       "1  812854728      0     1                       1        7645.0   \n",
       "2  768000743      0     1                       2        6394.0   \n",
       "3  759029725      0     1                       4        1879.0   \n",
       "4  764982590      0     1                       4        6036.0   \n",
       "\n",
       "   Total_Revolving_Balance  Average_Open_To_Buy  Average_Utilisation_Ratio  \\\n",
       "0                     1565                750.0                      0.676   \n",
       "1                     2076               5569.0                      0.272   \n",
       "2                        0               6394.0                      0.000   \n",
       "3                     1486                393.0                      0.791   \n",
       "4                     1409               4627.0                      0.233   \n",
       "\n",
       "    Age  Gender  Education  Marital_Status  Dependents  Income  Amount_Sum  \\\n",
       "0  48.0       2          1               1           2   29999     4827.96   \n",
       "1  58.0       2          2               2           5   29999     7709.97   \n",
       "2  55.0       2          2               2           2   29999     3470.06   \n",
       "3  37.0       2          2               2           1   29999     5202.04   \n",
       "4  56.0       1          7               1           2   50001     1741.00   \n",
       "\n",
       "   Amount_Mean  Amount_Median  Account  Start_Year  \n",
       "0    53.644000          40.20        1        2020  \n",
       "1   102.799600          44.11        1        2020  \n",
       "2    50.290725          29.07        2        2020  \n",
       "3    59.114091          35.04        1        2021  \n",
       "4    38.688889          25.16        5        2018  "
      ]
     },
     "execution_count": 3,
     "metadata": {},
     "output_type": "execute_result"
    }
   ],
   "source": [
    "train = f'{ROOT}/output/train.csv'\n",
    "test = f'{ROOT}/output/test.csv'\n",
    "\n",
    "df_train = pd.read_csv(train)\n",
    "print(df_train.shape)\n",
    "df_train.head()"
   ]
  },
  {
   "cell_type": "code",
   "execution_count": 4,
   "id": "16043f5e-f7de-495f-a557-aa4d4afad45d",
   "metadata": {},
   "outputs": [
    {
     "data": {
      "text/html": [
       "<div>\n",
       "<style scoped>\n",
       "    .dataframe tbody tr th:only-of-type {\n",
       "        vertical-align: middle;\n",
       "    }\n",
       "\n",
       "    .dataframe tbody tr th {\n",
       "        vertical-align: top;\n",
       "    }\n",
       "\n",
       "    .dataframe thead th {\n",
       "        text-align: right;\n",
       "    }\n",
       "</style>\n",
       "<table border=\"1\" class=\"dataframe\">\n",
       "  <thead>\n",
       "    <tr style=\"text-align: right;\">\n",
       "      <th></th>\n",
       "      <th>Customer</th>\n",
       "      <th>Card</th>\n",
       "      <th>Customer_Service_Calls</th>\n",
       "      <th>Credit_Limit</th>\n",
       "      <th>Total_Revolving_Balance</th>\n",
       "      <th>Average_Open_To_Buy</th>\n",
       "      <th>Average_Utilisation_Ratio</th>\n",
       "      <th>Age</th>\n",
       "      <th>Gender</th>\n",
       "      <th>Education</th>\n",
       "      <th>Marital_Status</th>\n",
       "      <th>Dependents</th>\n",
       "      <th>Income</th>\n",
       "      <th>Amount_Sum</th>\n",
       "      <th>Amount_Mean</th>\n",
       "      <th>Amount_Median</th>\n",
       "      <th>Account</th>\n",
       "      <th>Start_Year</th>\n",
       "    </tr>\n",
       "  </thead>\n",
       "  <tbody>\n",
       "    <tr>\n",
       "      <th>0</th>\n",
       "      <td>774663629</td>\n",
       "      <td>2</td>\n",
       "      <td>2</td>\n",
       "      <td>29663.0</td>\n",
       "      <td>1743</td>\n",
       "      <td>27920.0</td>\n",
       "      <td>0.059</td>\n",
       "      <td>51</td>\n",
       "      <td>1</td>\n",
       "      <td>1</td>\n",
       "      <td>2</td>\n",
       "      <td>3</td>\n",
       "      <td>50001</td>\n",
       "      <td>14638.00</td>\n",
       "      <td>157.397849</td>\n",
       "      <td>100.350</td>\n",
       "      <td>1</td>\n",
       "      <td>2020</td>\n",
       "    </tr>\n",
       "    <tr>\n",
       "      <th>1</th>\n",
       "      <td>720420396</td>\n",
       "      <td>1</td>\n",
       "      <td>2</td>\n",
       "      <td>2032.0</td>\n",
       "      <td>1195</td>\n",
       "      <td>837.0</td>\n",
       "      <td>0.588</td>\n",
       "      <td>45</td>\n",
       "      <td>2</td>\n",
       "      <td>3</td>\n",
       "      <td>3</td>\n",
       "      <td>3</td>\n",
       "      <td>30001</td>\n",
       "      <td>4478.97</td>\n",
       "      <td>55.987125</td>\n",
       "      <td>32.380</td>\n",
       "      <td>1</td>\n",
       "      <td>2020</td>\n",
       "    </tr>\n",
       "    <tr>\n",
       "      <th>2</th>\n",
       "      <td>815283379</td>\n",
       "      <td>1</td>\n",
       "      <td>1</td>\n",
       "      <td>17268.0</td>\n",
       "      <td>1197</td>\n",
       "      <td>16071.0</td>\n",
       "      <td>0.069</td>\n",
       "      <td>57</td>\n",
       "      <td>1</td>\n",
       "      <td>1</td>\n",
       "      <td>2</td>\n",
       "      <td>3</td>\n",
       "      <td>100001</td>\n",
       "      <td>4077.01</td>\n",
       "      <td>45.300111</td>\n",
       "      <td>26.880</td>\n",
       "      <td>2</td>\n",
       "      <td>2020</td>\n",
       "    </tr>\n",
       "    <tr>\n",
       "      <th>3</th>\n",
       "      <td>764861610</td>\n",
       "      <td>1</td>\n",
       "      <td>3</td>\n",
       "      <td>2264.0</td>\n",
       "      <td>0</td>\n",
       "      <td>2264.0</td>\n",
       "      <td>0.000</td>\n",
       "      <td>38</td>\n",
       "      <td>2</td>\n",
       "      <td>4</td>\n",
       "      <td>2</td>\n",
       "      <td>2</td>\n",
       "      <td>29999</td>\n",
       "      <td>1204.02</td>\n",
       "      <td>43.000714</td>\n",
       "      <td>24.965</td>\n",
       "      <td>6</td>\n",
       "      <td>2020</td>\n",
       "    </tr>\n",
       "    <tr>\n",
       "      <th>4</th>\n",
       "      <td>742798818</td>\n",
       "      <td>1</td>\n",
       "      <td>1</td>\n",
       "      <td>2192.0</td>\n",
       "      <td>1464</td>\n",
       "      <td>728.0</td>\n",
       "      <td>0.668</td>\n",
       "      <td>45</td>\n",
       "      <td>2</td>\n",
       "      <td>6</td>\n",
       "      <td>0</td>\n",
       "      <td>4</td>\n",
       "      <td>29999</td>\n",
       "      <td>4905.03</td>\n",
       "      <td>55.112697</td>\n",
       "      <td>34.660</td>\n",
       "      <td>8</td>\n",
       "      <td>2020</td>\n",
       "    </tr>\n",
       "  </tbody>\n",
       "</table>\n",
       "</div>"
      ],
      "text/plain": [
       "    Customer  Card  Customer_Service_Calls  Credit_Limit  \\\n",
       "0  774663629     2                       2       29663.0   \n",
       "1  720420396     1                       2        2032.0   \n",
       "2  815283379     1                       1       17268.0   \n",
       "3  764861610     1                       3        2264.0   \n",
       "4  742798818     1                       1        2192.0   \n",
       "\n",
       "   Total_Revolving_Balance  Average_Open_To_Buy  Average_Utilisation_Ratio  \\\n",
       "0                     1743              27920.0                      0.059   \n",
       "1                     1195                837.0                      0.588   \n",
       "2                     1197              16071.0                      0.069   \n",
       "3                        0               2264.0                      0.000   \n",
       "4                     1464                728.0                      0.668   \n",
       "\n",
       "   Age  Gender  Education  Marital_Status  Dependents  Income  Amount_Sum  \\\n",
       "0   51       1          1               2           3   50001    14638.00   \n",
       "1   45       2          3               3           3   30001     4478.97   \n",
       "2   57       1          1               2           3  100001     4077.01   \n",
       "3   38       2          4               2           2   29999     1204.02   \n",
       "4   45       2          6               0           4   29999     4905.03   \n",
       "\n",
       "   Amount_Mean  Amount_Median  Account  Start_Year  \n",
       "0   157.397849        100.350        1        2020  \n",
       "1    55.987125         32.380        1        2020  \n",
       "2    45.300111         26.880        2        2020  \n",
       "3    43.000714         24.965        6        2020  \n",
       "4    55.112697         34.660        8        2020  "
      ]
     },
     "execution_count": 4,
     "metadata": {},
     "output_type": "execute_result"
    }
   ],
   "source": [
    "df_test = pd.read_csv(test)\n",
    "df_test.head()"
   ]
  },
  {
   "cell_type": "markdown",
   "id": "9542ddf4-d489-4457-bad3-f9fec8f6b5f1",
   "metadata": {},
   "source": [
    "I then imported more libraries for the model building"
   ]
  },
  {
   "cell_type": "code",
   "execution_count": 5,
   "id": "ead29c60-83a3-49a1-a335-92cd3fdca43b",
   "metadata": {},
   "outputs": [],
   "source": [
    "from sklearn.model_selection import train_test_split\n",
    "\n",
    "from sklearn.preprocessing import StandardScaler\n",
    "\n",
    "from sklearn.linear_model import LogisticRegression\n",
    "from sklearn.tree import DecisionTreeClassifier\n",
    "from sklearn.neural_network import MLPClassifier\n",
    "from sklearn.neighbors import KNeighborsClassifier\n",
    "from sklearn.svm import SVC\n",
    "from sklearn.gaussian_process import GaussianProcessClassifier\n",
    "from sklearn.gaussian_process.kernels import RBF\n",
    "from sklearn.tree import DecisionTreeClassifier\n",
    "from sklearn.ensemble import RandomForestClassifier, AdaBoostClassifier\n",
    "from sklearn.naive_bayes import GaussianNB\n",
    "from sklearn.discriminant_analysis import QuadraticDiscriminantAnalysis\n",
    "\n",
    "import xgboost as xgb\n",
    "from sklearn.metrics import auc, accuracy_score, confusion_matrix, mean_squared_error\n",
    "\n",
    "from sklearn.model_selection import cross_val_score\n",
    "from sklearn.metrics import confusion_matrix, classification_report"
   ]
  },
  {
   "cell_type": "code",
   "execution_count": 6,
   "id": "1450855a-85b4-4fd1-a015-be4f0b04aaa4",
   "metadata": {},
   "outputs": [],
   "source": [
    "#######################\n",
    "\n",
    "#######################\n",
    "#######################\n",
    "\n",
    "#######################"
   ]
  },
  {
   "cell_type": "markdown",
   "id": "753151ec-e2f4-4528-a1e6-fe46eb2b0368",
   "metadata": {},
   "source": [
    "I then decided to do a train test split on my training data so I can check for the best classifier, my plan was to use the classifier that scores tha highest score and use it to generate the predicted data which I then submit to Kaggle\n",
    "\n",
    "I splitted df_train to df_dummy_train and df_dummy_test"
   ]
  },
  {
   "cell_type": "code",
   "execution_count": 7,
   "id": "2e8728f2-d2d9-4d0f-8275-46e8b8a51237",
   "metadata": {},
   "outputs": [
    {
     "data": {
      "text/plain": [
       "((3498, 19), (3542, 18))"
      ]
     },
     "execution_count": 7,
     "metadata": {},
     "output_type": "execute_result"
    }
   ],
   "source": [
    "df_dummy_train, df_dummy_test = train_test_split(df_train, stratify=df_train.Churn, train_size=0.60, random_state=SEED)\n",
    "df_dummy_train.shape, df_test.shape"
   ]
  },
  {
   "cell_type": "code",
   "execution_count": 8,
   "id": "d9b2768f-4a65-49c0-bfa2-8739dc26899d",
   "metadata": {},
   "outputs": [
    {
     "data": {
      "text/html": [
       "<div>\n",
       "<style scoped>\n",
       "    .dataframe tbody tr th:only-of-type {\n",
       "        vertical-align: middle;\n",
       "    }\n",
       "\n",
       "    .dataframe tbody tr th {\n",
       "        vertical-align: top;\n",
       "    }\n",
       "\n",
       "    .dataframe thead th {\n",
       "        text-align: right;\n",
       "    }\n",
       "</style>\n",
       "<table border=\"1\" class=\"dataframe\">\n",
       "  <thead>\n",
       "    <tr style=\"text-align: right;\">\n",
       "      <th></th>\n",
       "      <th>Customer</th>\n",
       "      <th>Churn</th>\n",
       "      <th>Card</th>\n",
       "      <th>Customer_Service_Calls</th>\n",
       "      <th>Credit_Limit</th>\n",
       "      <th>Total_Revolving_Balance</th>\n",
       "      <th>Average_Open_To_Buy</th>\n",
       "      <th>Average_Utilisation_Ratio</th>\n",
       "      <th>Age</th>\n",
       "      <th>Gender</th>\n",
       "      <th>Education</th>\n",
       "      <th>Marital_Status</th>\n",
       "      <th>Dependents</th>\n",
       "      <th>Income</th>\n",
       "      <th>Amount_Sum</th>\n",
       "      <th>Amount_Mean</th>\n",
       "      <th>Amount_Median</th>\n",
       "      <th>Account</th>\n",
       "      <th>Start_Year</th>\n",
       "    </tr>\n",
       "  </thead>\n",
       "  <tbody>\n",
       "    <tr>\n",
       "      <th>984</th>\n",
       "      <td>764965082</td>\n",
       "      <td>0</td>\n",
       "      <td>1</td>\n",
       "      <td>1</td>\n",
       "      <td>8064.0</td>\n",
       "      <td>2417</td>\n",
       "      <td>5647.0</td>\n",
       "      <td>0.300</td>\n",
       "      <td>44.0</td>\n",
       "      <td>2</td>\n",
       "      <td>3</td>\n",
       "      <td>2</td>\n",
       "      <td>3</td>\n",
       "      <td>0</td>\n",
       "      <td>4412.00</td>\n",
       "      <td>65.850746</td>\n",
       "      <td>43.27</td>\n",
       "      <td>1</td>\n",
       "      <td>2020</td>\n",
       "    </tr>\n",
       "    <tr>\n",
       "      <th>4161</th>\n",
       "      <td>770535837</td>\n",
       "      <td>0</td>\n",
       "      <td>1</td>\n",
       "      <td>2</td>\n",
       "      <td>6849.0</td>\n",
       "      <td>2126</td>\n",
       "      <td>4723.0</td>\n",
       "      <td>0.310</td>\n",
       "      <td>52.0</td>\n",
       "      <td>1</td>\n",
       "      <td>6</td>\n",
       "      <td>1</td>\n",
       "      <td>3</td>\n",
       "      <td>80001</td>\n",
       "      <td>1650.99</td>\n",
       "      <td>38.395116</td>\n",
       "      <td>28.11</td>\n",
       "      <td>3</td>\n",
       "      <td>2019</td>\n",
       "    </tr>\n",
       "    <tr>\n",
       "      <th>3671</th>\n",
       "      <td>778674209</td>\n",
       "      <td>1</td>\n",
       "      <td>1</td>\n",
       "      <td>4</td>\n",
       "      <td>34516.0</td>\n",
       "      <td>2517</td>\n",
       "      <td>31999.0</td>\n",
       "      <td>0.073</td>\n",
       "      <td>53.0</td>\n",
       "      <td>1</td>\n",
       "      <td>3</td>\n",
       "      <td>2</td>\n",
       "      <td>4</td>\n",
       "      <td>100001</td>\n",
       "      <td>2375.99</td>\n",
       "      <td>43.199818</td>\n",
       "      <td>30.22</td>\n",
       "      <td>2</td>\n",
       "      <td>2019</td>\n",
       "    </tr>\n",
       "    <tr>\n",
       "      <th>40</th>\n",
       "      <td>735822140</td>\n",
       "      <td>0</td>\n",
       "      <td>1</td>\n",
       "      <td>1</td>\n",
       "      <td>3176.0</td>\n",
       "      <td>1510</td>\n",
       "      <td>1666.0</td>\n",
       "      <td>0.475</td>\n",
       "      <td>35.0</td>\n",
       "      <td>1</td>\n",
       "      <td>3</td>\n",
       "      <td>1</td>\n",
       "      <td>0</td>\n",
       "      <td>100001</td>\n",
       "      <td>2074.01</td>\n",
       "      <td>43.208542</td>\n",
       "      <td>29.48</td>\n",
       "      <td>2</td>\n",
       "      <td>2020</td>\n",
       "    </tr>\n",
       "    <tr>\n",
       "      <th>3214</th>\n",
       "      <td>718784194</td>\n",
       "      <td>1</td>\n",
       "      <td>1</td>\n",
       "      <td>6</td>\n",
       "      <td>1628.0</td>\n",
       "      <td>275</td>\n",
       "      <td>1353.0</td>\n",
       "      <td>0.169</td>\n",
       "      <td>43.0</td>\n",
       "      <td>2</td>\n",
       "      <td>4</td>\n",
       "      <td>2</td>\n",
       "      <td>2</td>\n",
       "      <td>29999</td>\n",
       "      <td>2219.03</td>\n",
       "      <td>45.286327</td>\n",
       "      <td>29.91</td>\n",
       "      <td>4</td>\n",
       "      <td>2020</td>\n",
       "    </tr>\n",
       "  </tbody>\n",
       "</table>\n",
       "</div>"
      ],
      "text/plain": [
       "       Customer  Churn  Card  Customer_Service_Calls  Credit_Limit  \\\n",
       "984   764965082      0     1                       1        8064.0   \n",
       "4161  770535837      0     1                       2        6849.0   \n",
       "3671  778674209      1     1                       4       34516.0   \n",
       "40    735822140      0     1                       1        3176.0   \n",
       "3214  718784194      1     1                       6        1628.0   \n",
       "\n",
       "      Total_Revolving_Balance  Average_Open_To_Buy  Average_Utilisation_Ratio  \\\n",
       "984                      2417               5647.0                      0.300   \n",
       "4161                     2126               4723.0                      0.310   \n",
       "3671                     2517              31999.0                      0.073   \n",
       "40                       1510               1666.0                      0.475   \n",
       "3214                      275               1353.0                      0.169   \n",
       "\n",
       "       Age  Gender  Education  Marital_Status  Dependents  Income  Amount_Sum  \\\n",
       "984   44.0       2          3               2           3       0     4412.00   \n",
       "4161  52.0       1          6               1           3   80001     1650.99   \n",
       "3671  53.0       1          3               2           4  100001     2375.99   \n",
       "40    35.0       1          3               1           0  100001     2074.01   \n",
       "3214  43.0       2          4               2           2   29999     2219.03   \n",
       "\n",
       "      Amount_Mean  Amount_Median  Account  Start_Year  \n",
       "984     65.850746          43.27        1        2020  \n",
       "4161    38.395116          28.11        3        2019  \n",
       "3671    43.199818          30.22        2        2019  \n",
       "40      43.208542          29.48        2        2020  \n",
       "3214    45.286327          29.91        4        2020  "
      ]
     },
     "execution_count": 8,
     "metadata": {},
     "output_type": "execute_result"
    }
   ],
   "source": [
    "df_dummy_train.head()"
   ]
  },
  {
   "cell_type": "markdown",
   "id": "e24e9db9-598f-49c3-b712-9bc6f522683b",
   "metadata": {},
   "source": [
    "I then defined the target feature (Churn) and created 3 lists which are:\n",
    "    \n",
    "cat_features which holds categorical features or columns\n",
    "\n",
    "num_features which holds numerical features\n",
    "\n",
    "features which is cat_features list plus num_features list"
   ]
  },
  {
   "cell_type": "code",
   "execution_count": 9,
   "id": "340cc1b3-c1f9-40f1-b444-b96219cb3b38",
   "metadata": {},
   "outputs": [
    {
     "name": "stdout",
     "output_type": "stream",
     "text": [
      "Traget: Churn\n",
      "Categorical Features: []\n",
      "Numerical Features: ['Customer', 'Card', 'Customer_Service_Calls', 'Credit_Limit', 'Total_Revolving_Balance', 'Average_Open_To_Buy', 'Average_Utilisation_Ratio', 'Age', 'Gender', 'Education', 'Marital_Status', 'Dependents', 'Income', 'Amount_Sum', 'Amount_Mean', 'Amount_Median', 'Account', 'Start_Year']\n"
     ]
    }
   ],
   "source": [
    "target = \"Churn\"\n",
    "cat_features = [c for c in df_train.select_dtypes(\"category\").columns if c not in target]\n",
    "num_features = [c for c in df_train.select_dtypes([\"int\",\"float\"]).columns if c not in target]\n",
    "features = cat_features + num_features\n",
    "\n",
    "print(f\"Traget: {target}\")\n",
    "\n",
    "print(f\"Categorical Features: {cat_features}\")\n",
    "print(f\"Numerical Features: {num_features}\")"
   ]
  },
  {
   "cell_type": "markdown",
   "id": "a665a9c8-5008-4d07-a1c1-a56e4a821d75",
   "metadata": {},
   "source": [
    "I then created X_dummy_train, y_dummy_train, X_dummy_test and y_dummy_test and used StandardScaler for scaling and standardizing data to avoid bias https://www.digitalocean.com/community/tutorials/standardscaler-function-in-python"
   ]
  },
  {
   "cell_type": "code",
   "execution_count": 10,
   "id": "3ca3d3bb-2cfb-47f2-832c-8eeeaa5aa4cd",
   "metadata": {},
   "outputs": [],
   "source": [
    "ss = StandardScaler()\n",
    "\n",
    "X_dummy_train = ss.fit_transform(df_dummy_train[features])\n",
    "y_dummy_train = df_dummy_train[target].values\n",
    "\n",
    "X_dummy_test = ss.transform(df_dummy_test[features])\n",
    "y_dummy_test = df_dummy_test[target].values"
   ]
  },
  {
   "cell_type": "markdown",
   "id": "6469db72-a41d-437a-a239-c751e81b9351",
   "metadata": {},
   "source": [
    "I then did model fitting on multiple models to check which model gets the highest score, I later increased the value for max_depth for DT classifier and added RFC, ADA and XGB classifiers as part of model enhancement to get a better score\n",
    "\n",
    "We can see that XGBClassifier got the best accuracy score so I decided to use it to do the Churn predictions"
   ]
  },
  {
   "cell_type": "code",
   "execution_count": 11,
   "id": "ea716ea7-f7f1-40c2-8f47-d2d92f20149e",
   "metadata": {},
   "outputs": [],
   "source": [
    "# https://machinelearningmastery.com/data-preparation-gradient-boosting-xgboost-python/\n",
    "\n",
    "models = {\n",
    "    \"NB\": GaussianNB(),\n",
    "    \"LR\": LogisticRegression(),\n",
    "    \"DT\": DecisionTreeClassifier(),\n",
    "    \"DT(max_depth=8)\": DecisionTreeClassifier(max_depth=8),\n",
    "    \"KNN\": KNeighborsClassifier(),\n",
    "    \"SVC\": SVC(),\n",
    "    'RFC': RandomForestClassifier(), \n",
    "    'ADA': AdaBoostClassifier(),\n",
    "    'XGB': xgb.XGBClassifier()\n",
    "}"
   ]
  },
  {
   "cell_type": "code",
   "execution_count": 12,
   "id": "3c8260b7-07c1-4240-a2a4-d4dcbf7e2aea",
   "metadata": {},
   "outputs": [
    {
     "name": "stdout",
     "output_type": "stream",
     "text": [
      "NB                   accuracy = 84.477% ± 1.851%\n",
      "LR                   accuracy = 88.451% ± 1.398%\n",
      "DT                   accuracy = 90.194% ± 0.676%\n",
      "DT(max_depth=8)      accuracy = 91.195% ± 1.020%\n"
     ]
    },
    {
     "name": "stderr",
     "output_type": "stream",
     "text": [
      "C:\\Users\\Emran\\anaconda3\\lib\\site-packages\\sklearn\\neighbors\\_classification.py:228: FutureWarning: Unlike other reduction functions (e.g. `skew`, `kurtosis`), the default behavior of `mode` typically preserves the axis it acts along. In SciPy 1.11.0, this behavior will change: the default value of `keepdims` will become False, the `axis` over which the statistic is taken will be eliminated, and the value None will no longer be accepted. Set `keepdims` to True or False to avoid this warning.\n",
      "  mode, _ = stats.mode(_y[neigh_ind, k], axis=1)\n",
      "C:\\Users\\Emran\\anaconda3\\lib\\site-packages\\sklearn\\neighbors\\_classification.py:228: FutureWarning: Unlike other reduction functions (e.g. `skew`, `kurtosis`), the default behavior of `mode` typically preserves the axis it acts along. In SciPy 1.11.0, this behavior will change: the default value of `keepdims` will become False, the `axis` over which the statistic is taken will be eliminated, and the value None will no longer be accepted. Set `keepdims` to True or False to avoid this warning.\n",
      "  mode, _ = stats.mode(_y[neigh_ind, k], axis=1)\n",
      "C:\\Users\\Emran\\anaconda3\\lib\\site-packages\\sklearn\\neighbors\\_classification.py:228: FutureWarning: Unlike other reduction functions (e.g. `skew`, `kurtosis`), the default behavior of `mode` typically preserves the axis it acts along. In SciPy 1.11.0, this behavior will change: the default value of `keepdims` will become False, the `axis` over which the statistic is taken will be eliminated, and the value None will no longer be accepted. Set `keepdims` to True or False to avoid this warning.\n",
      "  mode, _ = stats.mode(_y[neigh_ind, k], axis=1)\n",
      "C:\\Users\\Emran\\anaconda3\\lib\\site-packages\\sklearn\\neighbors\\_classification.py:228: FutureWarning: Unlike other reduction functions (e.g. `skew`, `kurtosis`), the default behavior of `mode` typically preserves the axis it acts along. In SciPy 1.11.0, this behavior will change: the default value of `keepdims` will become False, the `axis` over which the statistic is taken will be eliminated, and the value None will no longer be accepted. Set `keepdims` to True or False to avoid this warning.\n",
      "  mode, _ = stats.mode(_y[neigh_ind, k], axis=1)\n",
      "C:\\Users\\Emran\\anaconda3\\lib\\site-packages\\sklearn\\neighbors\\_classification.py:228: FutureWarning: Unlike other reduction functions (e.g. `skew`, `kurtosis`), the default behavior of `mode` typically preserves the axis it acts along. In SciPy 1.11.0, this behavior will change: the default value of `keepdims` will become False, the `axis` over which the statistic is taken will be eliminated, and the value None will no longer be accepted. Set `keepdims` to True or False to avoid this warning.\n",
      "  mode, _ = stats.mode(_y[neigh_ind, k], axis=1)\n",
      "C:\\Users\\Emran\\anaconda3\\lib\\site-packages\\sklearn\\neighbors\\_classification.py:228: FutureWarning: Unlike other reduction functions (e.g. `skew`, `kurtosis`), the default behavior of `mode` typically preserves the axis it acts along. In SciPy 1.11.0, this behavior will change: the default value of `keepdims` will become False, the `axis` over which the statistic is taken will be eliminated, and the value None will no longer be accepted. Set `keepdims` to True or False to avoid this warning.\n",
      "  mode, _ = stats.mode(_y[neigh_ind, k], axis=1)\n",
      "C:\\Users\\Emran\\anaconda3\\lib\\site-packages\\sklearn\\neighbors\\_classification.py:228: FutureWarning: Unlike other reduction functions (e.g. `skew`, `kurtosis`), the default behavior of `mode` typically preserves the axis it acts along. In SciPy 1.11.0, this behavior will change: the default value of `keepdims` will become False, the `axis` over which the statistic is taken will be eliminated, and the value None will no longer be accepted. Set `keepdims` to True or False to avoid this warning.\n",
      "  mode, _ = stats.mode(_y[neigh_ind, k], axis=1)\n",
      "C:\\Users\\Emran\\anaconda3\\lib\\site-packages\\sklearn\\neighbors\\_classification.py:228: FutureWarning: Unlike other reduction functions (e.g. `skew`, `kurtosis`), the default behavior of `mode` typically preserves the axis it acts along. In SciPy 1.11.0, this behavior will change: the default value of `keepdims` will become False, the `axis` over which the statistic is taken will be eliminated, and the value None will no longer be accepted. Set `keepdims` to True or False to avoid this warning.\n",
      "  mode, _ = stats.mode(_y[neigh_ind, k], axis=1)\n",
      "C:\\Users\\Emran\\anaconda3\\lib\\site-packages\\sklearn\\neighbors\\_classification.py:228: FutureWarning: Unlike other reduction functions (e.g. `skew`, `kurtosis`), the default behavior of `mode` typically preserves the axis it acts along. In SciPy 1.11.0, this behavior will change: the default value of `keepdims` will become False, the `axis` over which the statistic is taken will be eliminated, and the value None will no longer be accepted. Set `keepdims` to True or False to avoid this warning.\n",
      "  mode, _ = stats.mode(_y[neigh_ind, k], axis=1)\n",
      "C:\\Users\\Emran\\anaconda3\\lib\\site-packages\\sklearn\\neighbors\\_classification.py:228: FutureWarning: Unlike other reduction functions (e.g. `skew`, `kurtosis`), the default behavior of `mode` typically preserves the axis it acts along. In SciPy 1.11.0, this behavior will change: the default value of `keepdims` will become False, the `axis` over which the statistic is taken will be eliminated, and the value None will no longer be accepted. Set `keepdims` to True or False to avoid this warning.\n",
      "  mode, _ = stats.mode(_y[neigh_ind, k], axis=1)\n"
     ]
    },
    {
     "name": "stdout",
     "output_type": "stream",
     "text": [
      "KNN                  accuracy = 85.449% ± 1.527%\n",
      "SVC                  accuracy = 89.737% ± 1.293%\n",
      "RFC                  accuracy = 92.824% ± 0.675%\n",
      "ADA                  accuracy = 92.967% ± 0.763%\n",
      "XGB                  accuracy = 94.626% ± 0.806%\n"
     ]
    }
   ],
   "source": [
    "for name,model in models.items():\n",
    "    scores = cross_val_score(model, X_dummy_train, y_dummy_train, cv=10)\n",
    "    print(f\"{name:20s} accuracy = {scores.mean():.3%} ± {scores.std():.3%}\")"
   ]
  },
  {
   "cell_type": "code",
   "execution_count": 13,
   "id": "dd99aadb-f299-4c17-b618-9a36ffee44c0",
   "metadata": {},
   "outputs": [
    {
     "name": "stdout",
     "output_type": "stream",
     "text": [
      "NB                   accuracy = 82.856% ± 1.885%\n",
      "LR                   accuracy = 89.626% ± 0.964%\n",
      "DT                   accuracy = 90.183% ± 1.758%\n",
      "DT(max_depth=8)      accuracy = 89.625% ± 1.644%\n",
      "KNN                  accuracy = 85.127% ± 1.922%\n"
     ]
    },
    {
     "name": "stderr",
     "output_type": "stream",
     "text": [
      "C:\\Users\\Emran\\anaconda3\\lib\\site-packages\\sklearn\\neighbors\\_classification.py:228: FutureWarning: Unlike other reduction functions (e.g. `skew`, `kurtosis`), the default behavior of `mode` typically preserves the axis it acts along. In SciPy 1.11.0, this behavior will change: the default value of `keepdims` will become False, the `axis` over which the statistic is taken will be eliminated, and the value None will no longer be accepted. Set `keepdims` to True or False to avoid this warning.\n",
      "  mode, _ = stats.mode(_y[neigh_ind, k], axis=1)\n",
      "C:\\Users\\Emran\\anaconda3\\lib\\site-packages\\sklearn\\neighbors\\_classification.py:228: FutureWarning: Unlike other reduction functions (e.g. `skew`, `kurtosis`), the default behavior of `mode` typically preserves the axis it acts along. In SciPy 1.11.0, this behavior will change: the default value of `keepdims` will become False, the `axis` over which the statistic is taken will be eliminated, and the value None will no longer be accepted. Set `keepdims` to True or False to avoid this warning.\n",
      "  mode, _ = stats.mode(_y[neigh_ind, k], axis=1)\n",
      "C:\\Users\\Emran\\anaconda3\\lib\\site-packages\\sklearn\\neighbors\\_classification.py:228: FutureWarning: Unlike other reduction functions (e.g. `skew`, `kurtosis`), the default behavior of `mode` typically preserves the axis it acts along. In SciPy 1.11.0, this behavior will change: the default value of `keepdims` will become False, the `axis` over which the statistic is taken will be eliminated, and the value None will no longer be accepted. Set `keepdims` to True or False to avoid this warning.\n",
      "  mode, _ = stats.mode(_y[neigh_ind, k], axis=1)\n",
      "C:\\Users\\Emran\\anaconda3\\lib\\site-packages\\sklearn\\neighbors\\_classification.py:228: FutureWarning: Unlike other reduction functions (e.g. `skew`, `kurtosis`), the default behavior of `mode` typically preserves the axis it acts along. In SciPy 1.11.0, this behavior will change: the default value of `keepdims` will become False, the `axis` over which the statistic is taken will be eliminated, and the value None will no longer be accepted. Set `keepdims` to True or False to avoid this warning.\n",
      "  mode, _ = stats.mode(_y[neigh_ind, k], axis=1)\n",
      "C:\\Users\\Emran\\anaconda3\\lib\\site-packages\\sklearn\\neighbors\\_classification.py:228: FutureWarning: Unlike other reduction functions (e.g. `skew`, `kurtosis`), the default behavior of `mode` typically preserves the axis it acts along. In SciPy 1.11.0, this behavior will change: the default value of `keepdims` will become False, the `axis` over which the statistic is taken will be eliminated, and the value None will no longer be accepted. Set `keepdims` to True or False to avoid this warning.\n",
      "  mode, _ = stats.mode(_y[neigh_ind, k], axis=1)\n",
      "C:\\Users\\Emran\\anaconda3\\lib\\site-packages\\sklearn\\neighbors\\_classification.py:228: FutureWarning: Unlike other reduction functions (e.g. `skew`, `kurtosis`), the default behavior of `mode` typically preserves the axis it acts along. In SciPy 1.11.0, this behavior will change: the default value of `keepdims` will become False, the `axis` over which the statistic is taken will be eliminated, and the value None will no longer be accepted. Set `keepdims` to True or False to avoid this warning.\n",
      "  mode, _ = stats.mode(_y[neigh_ind, k], axis=1)\n",
      "C:\\Users\\Emran\\anaconda3\\lib\\site-packages\\sklearn\\neighbors\\_classification.py:228: FutureWarning: Unlike other reduction functions (e.g. `skew`, `kurtosis`), the default behavior of `mode` typically preserves the axis it acts along. In SciPy 1.11.0, this behavior will change: the default value of `keepdims` will become False, the `axis` over which the statistic is taken will be eliminated, and the value None will no longer be accepted. Set `keepdims` to True or False to avoid this warning.\n",
      "  mode, _ = stats.mode(_y[neigh_ind, k], axis=1)\n",
      "C:\\Users\\Emran\\anaconda3\\lib\\site-packages\\sklearn\\neighbors\\_classification.py:228: FutureWarning: Unlike other reduction functions (e.g. `skew`, `kurtosis`), the default behavior of `mode` typically preserves the axis it acts along. In SciPy 1.11.0, this behavior will change: the default value of `keepdims` will become False, the `axis` over which the statistic is taken will be eliminated, and the value None will no longer be accepted. Set `keepdims` to True or False to avoid this warning.\n",
      "  mode, _ = stats.mode(_y[neigh_ind, k], axis=1)\n",
      "C:\\Users\\Emran\\anaconda3\\lib\\site-packages\\sklearn\\neighbors\\_classification.py:228: FutureWarning: Unlike other reduction functions (e.g. `skew`, `kurtosis`), the default behavior of `mode` typically preserves the axis it acts along. In SciPy 1.11.0, this behavior will change: the default value of `keepdims` will become False, the `axis` over which the statistic is taken will be eliminated, and the value None will no longer be accepted. Set `keepdims` to True or False to avoid this warning.\n",
      "  mode, _ = stats.mode(_y[neigh_ind, k], axis=1)\n",
      "C:\\Users\\Emran\\anaconda3\\lib\\site-packages\\sklearn\\neighbors\\_classification.py:228: FutureWarning: Unlike other reduction functions (e.g. `skew`, `kurtosis`), the default behavior of `mode` typically preserves the axis it acts along. In SciPy 1.11.0, this behavior will change: the default value of `keepdims` will become False, the `axis` over which the statistic is taken will be eliminated, and the value None will no longer be accepted. Set `keepdims` to True or False to avoid this warning.\n",
      "  mode, _ = stats.mode(_y[neigh_ind, k], axis=1)\n"
     ]
    },
    {
     "name": "stdout",
     "output_type": "stream",
     "text": [
      "SVC                  accuracy = 88.342% ± 1.370%\n",
      "RFC                  accuracy = 91.472% ± 1.130%\n",
      "ADA                  accuracy = 92.328% ± 0.982%\n",
      "XGB                  accuracy = 93.270% ± 1.200%\n"
     ]
    }
   ],
   "source": [
    "# accuracy on test data\n",
    "\n",
    "for name,model in models.items():\n",
    "    scores = cross_val_score(model, X_dummy_test, y_dummy_test, cv=10)\n",
    "    print(f\"{name:20s} accuracy = {scores.mean():.3%} ± {scores.std():.3%}\")"
   ]
  },
  {
   "cell_type": "markdown",
   "id": "a0d7b07d-a19b-4c2c-a87b-67a55d05f289",
   "metadata": {},
   "source": [
    "I also checked the recall score for the classifiers and XGBClassifier got the best score in that as well"
   ]
  },
  {
   "cell_type": "code",
   "execution_count": 14,
   "id": "aea212bf-25ef-4085-9b31-0c98ee552654",
   "metadata": {},
   "outputs": [
    {
     "name": "stdout",
     "output_type": "stream",
     "text": [
      "NB                   recall = 29.259% ± 4.722%\n",
      "LR                   recall = 45.667% ± 7.072%\n",
      "DT                   recall = 69.475% ± 6.061%\n",
      "DT(max_depth=8)      recall = 66.758% ± 6.912%\n"
     ]
    },
    {
     "name": "stderr",
     "output_type": "stream",
     "text": [
      "C:\\Users\\Emran\\anaconda3\\lib\\site-packages\\sklearn\\neighbors\\_classification.py:228: FutureWarning: Unlike other reduction functions (e.g. `skew`, `kurtosis`), the default behavior of `mode` typically preserves the axis it acts along. In SciPy 1.11.0, this behavior will change: the default value of `keepdims` will become False, the `axis` over which the statistic is taken will be eliminated, and the value None will no longer be accepted. Set `keepdims` to True or False to avoid this warning.\n",
      "  mode, _ = stats.mode(_y[neigh_ind, k], axis=1)\n",
      "C:\\Users\\Emran\\anaconda3\\lib\\site-packages\\sklearn\\neighbors\\_classification.py:228: FutureWarning: Unlike other reduction functions (e.g. `skew`, `kurtosis`), the default behavior of `mode` typically preserves the axis it acts along. In SciPy 1.11.0, this behavior will change: the default value of `keepdims` will become False, the `axis` over which the statistic is taken will be eliminated, and the value None will no longer be accepted. Set `keepdims` to True or False to avoid this warning.\n",
      "  mode, _ = stats.mode(_y[neigh_ind, k], axis=1)\n",
      "C:\\Users\\Emran\\anaconda3\\lib\\site-packages\\sklearn\\neighbors\\_classification.py:228: FutureWarning: Unlike other reduction functions (e.g. `skew`, `kurtosis`), the default behavior of `mode` typically preserves the axis it acts along. In SciPy 1.11.0, this behavior will change: the default value of `keepdims` will become False, the `axis` over which the statistic is taken will be eliminated, and the value None will no longer be accepted. Set `keepdims` to True or False to avoid this warning.\n",
      "  mode, _ = stats.mode(_y[neigh_ind, k], axis=1)\n",
      "C:\\Users\\Emran\\anaconda3\\lib\\site-packages\\sklearn\\neighbors\\_classification.py:228: FutureWarning: Unlike other reduction functions (e.g. `skew`, `kurtosis`), the default behavior of `mode` typically preserves the axis it acts along. In SciPy 1.11.0, this behavior will change: the default value of `keepdims` will become False, the `axis` over which the statistic is taken will be eliminated, and the value None will no longer be accepted. Set `keepdims` to True or False to avoid this warning.\n",
      "  mode, _ = stats.mode(_y[neigh_ind, k], axis=1)\n",
      "C:\\Users\\Emran\\anaconda3\\lib\\site-packages\\sklearn\\neighbors\\_classification.py:228: FutureWarning: Unlike other reduction functions (e.g. `skew`, `kurtosis`), the default behavior of `mode` typically preserves the axis it acts along. In SciPy 1.11.0, this behavior will change: the default value of `keepdims` will become False, the `axis` over which the statistic is taken will be eliminated, and the value None will no longer be accepted. Set `keepdims` to True or False to avoid this warning.\n",
      "  mode, _ = stats.mode(_y[neigh_ind, k], axis=1)\n",
      "C:\\Users\\Emran\\anaconda3\\lib\\site-packages\\sklearn\\neighbors\\_classification.py:228: FutureWarning: Unlike other reduction functions (e.g. `skew`, `kurtosis`), the default behavior of `mode` typically preserves the axis it acts along. In SciPy 1.11.0, this behavior will change: the default value of `keepdims` will become False, the `axis` over which the statistic is taken will be eliminated, and the value None will no longer be accepted. Set `keepdims` to True or False to avoid this warning.\n",
      "  mode, _ = stats.mode(_y[neigh_ind, k], axis=1)\n",
      "C:\\Users\\Emran\\anaconda3\\lib\\site-packages\\sklearn\\neighbors\\_classification.py:228: FutureWarning: Unlike other reduction functions (e.g. `skew`, `kurtosis`), the default behavior of `mode` typically preserves the axis it acts along. In SciPy 1.11.0, this behavior will change: the default value of `keepdims` will become False, the `axis` over which the statistic is taken will be eliminated, and the value None will no longer be accepted. Set `keepdims` to True or False to avoid this warning.\n",
      "  mode, _ = stats.mode(_y[neigh_ind, k], axis=1)\n",
      "C:\\Users\\Emran\\anaconda3\\lib\\site-packages\\sklearn\\neighbors\\_classification.py:228: FutureWarning: Unlike other reduction functions (e.g. `skew`, `kurtosis`), the default behavior of `mode` typically preserves the axis it acts along. In SciPy 1.11.0, this behavior will change: the default value of `keepdims` will become False, the `axis` over which the statistic is taken will be eliminated, and the value None will no longer be accepted. Set `keepdims` to True or False to avoid this warning.\n",
      "  mode, _ = stats.mode(_y[neigh_ind, k], axis=1)\n",
      "C:\\Users\\Emran\\anaconda3\\lib\\site-packages\\sklearn\\neighbors\\_classification.py:228: FutureWarning: Unlike other reduction functions (e.g. `skew`, `kurtosis`), the default behavior of `mode` typically preserves the axis it acts along. In SciPy 1.11.0, this behavior will change: the default value of `keepdims` will become False, the `axis` over which the statistic is taken will be eliminated, and the value None will no longer be accepted. Set `keepdims` to True or False to avoid this warning.\n",
      "  mode, _ = stats.mode(_y[neigh_ind, k], axis=1)\n",
      "C:\\Users\\Emran\\anaconda3\\lib\\site-packages\\sklearn\\neighbors\\_classification.py:228: FutureWarning: Unlike other reduction functions (e.g. `skew`, `kurtosis`), the default behavior of `mode` typically preserves the axis it acts along. In SciPy 1.11.0, this behavior will change: the default value of `keepdims` will become False, the `axis` over which the statistic is taken will be eliminated, and the value None will no longer be accepted. Set `keepdims` to True or False to avoid this warning.\n",
      "  mode, _ = stats.mode(_y[neigh_ind, k], axis=1)\n"
     ]
    },
    {
     "name": "stdout",
     "output_type": "stream",
     "text": [
      "KNN                  recall = 23.384% ± 6.250%\n",
      "SVC                  recall = 41.478% ± 6.583%\n",
      "RFC                  recall = 62.889% ± 5.115%\n",
      "ADA                  recall = 71.108% ± 4.722%\n",
      "XGB                  recall = 78.616% ± 3.965%\n"
     ]
    }
   ],
   "source": [
    "# https://stackoverflow.com/questions/27357121/scikit-calculate-precision-and-recall-using-cross-val-score-function\n",
    "\n",
    "for name,model in models.items():\n",
    "    scores = cross_val_score(model, X_dummy_train, y_dummy_train, cv=10, scoring='recall')\n",
    "    print(f\"{name:20s} recall = {scores.mean():.3%} ± {scores.std():.3%}\")"
   ]
  },
  {
   "cell_type": "code",
   "execution_count": 15,
   "id": "0e0b40b4-0004-4dea-bc7f-ed408d86f1b2",
   "metadata": {},
   "outputs": [
    {
     "name": "stdout",
     "output_type": "stream",
     "text": [
      "NB                   recall = 47.725% ± 6.017%\n",
      "LR                   recall = 48.754% ± 4.313%\n",
      "DT                   recall = 69.550% ± 7.144%\n",
      "DT(max_depth=8)      recall = 65.736% ± 10.368%\n"
     ]
    },
    {
     "name": "stderr",
     "output_type": "stream",
     "text": [
      "C:\\Users\\Emran\\anaconda3\\lib\\site-packages\\sklearn\\neighbors\\_classification.py:228: FutureWarning: Unlike other reduction functions (e.g. `skew`, `kurtosis`), the default behavior of `mode` typically preserves the axis it acts along. In SciPy 1.11.0, this behavior will change: the default value of `keepdims` will become False, the `axis` over which the statistic is taken will be eliminated, and the value None will no longer be accepted. Set `keepdims` to True or False to avoid this warning.\n",
      "  mode, _ = stats.mode(_y[neigh_ind, k], axis=1)\n",
      "C:\\Users\\Emran\\anaconda3\\lib\\site-packages\\sklearn\\neighbors\\_classification.py:228: FutureWarning: Unlike other reduction functions (e.g. `skew`, `kurtosis`), the default behavior of `mode` typically preserves the axis it acts along. In SciPy 1.11.0, this behavior will change: the default value of `keepdims` will become False, the `axis` over which the statistic is taken will be eliminated, and the value None will no longer be accepted. Set `keepdims` to True or False to avoid this warning.\n",
      "  mode, _ = stats.mode(_y[neigh_ind, k], axis=1)\n",
      "C:\\Users\\Emran\\anaconda3\\lib\\site-packages\\sklearn\\neighbors\\_classification.py:228: FutureWarning: Unlike other reduction functions (e.g. `skew`, `kurtosis`), the default behavior of `mode` typically preserves the axis it acts along. In SciPy 1.11.0, this behavior will change: the default value of `keepdims` will become False, the `axis` over which the statistic is taken will be eliminated, and the value None will no longer be accepted. Set `keepdims` to True or False to avoid this warning.\n",
      "  mode, _ = stats.mode(_y[neigh_ind, k], axis=1)\n",
      "C:\\Users\\Emran\\anaconda3\\lib\\site-packages\\sklearn\\neighbors\\_classification.py:228: FutureWarning: Unlike other reduction functions (e.g. `skew`, `kurtosis`), the default behavior of `mode` typically preserves the axis it acts along. In SciPy 1.11.0, this behavior will change: the default value of `keepdims` will become False, the `axis` over which the statistic is taken will be eliminated, and the value None will no longer be accepted. Set `keepdims` to True or False to avoid this warning.\n",
      "  mode, _ = stats.mode(_y[neigh_ind, k], axis=1)\n",
      "C:\\Users\\Emran\\anaconda3\\lib\\site-packages\\sklearn\\neighbors\\_classification.py:228: FutureWarning: Unlike other reduction functions (e.g. `skew`, `kurtosis`), the default behavior of `mode` typically preserves the axis it acts along. In SciPy 1.11.0, this behavior will change: the default value of `keepdims` will become False, the `axis` over which the statistic is taken will be eliminated, and the value None will no longer be accepted. Set `keepdims` to True or False to avoid this warning.\n",
      "  mode, _ = stats.mode(_y[neigh_ind, k], axis=1)\n",
      "C:\\Users\\Emran\\anaconda3\\lib\\site-packages\\sklearn\\neighbors\\_classification.py:228: FutureWarning: Unlike other reduction functions (e.g. `skew`, `kurtosis`), the default behavior of `mode` typically preserves the axis it acts along. In SciPy 1.11.0, this behavior will change: the default value of `keepdims` will become False, the `axis` over which the statistic is taken will be eliminated, and the value None will no longer be accepted. Set `keepdims` to True or False to avoid this warning.\n",
      "  mode, _ = stats.mode(_y[neigh_ind, k], axis=1)\n",
      "C:\\Users\\Emran\\anaconda3\\lib\\site-packages\\sklearn\\neighbors\\_classification.py:228: FutureWarning: Unlike other reduction functions (e.g. `skew`, `kurtosis`), the default behavior of `mode` typically preserves the axis it acts along. In SciPy 1.11.0, this behavior will change: the default value of `keepdims` will become False, the `axis` over which the statistic is taken will be eliminated, and the value None will no longer be accepted. Set `keepdims` to True or False to avoid this warning.\n",
      "  mode, _ = stats.mode(_y[neigh_ind, k], axis=1)\n",
      "C:\\Users\\Emran\\anaconda3\\lib\\site-packages\\sklearn\\neighbors\\_classification.py:228: FutureWarning: Unlike other reduction functions (e.g. `skew`, `kurtosis`), the default behavior of `mode` typically preserves the axis it acts along. In SciPy 1.11.0, this behavior will change: the default value of `keepdims` will become False, the `axis` over which the statistic is taken will be eliminated, and the value None will no longer be accepted. Set `keepdims` to True or False to avoid this warning.\n",
      "  mode, _ = stats.mode(_y[neigh_ind, k], axis=1)\n",
      "C:\\Users\\Emran\\anaconda3\\lib\\site-packages\\sklearn\\neighbors\\_classification.py:228: FutureWarning: Unlike other reduction functions (e.g. `skew`, `kurtosis`), the default behavior of `mode` typically preserves the axis it acts along. In SciPy 1.11.0, this behavior will change: the default value of `keepdims` will become False, the `axis` over which the statistic is taken will be eliminated, and the value None will no longer be accepted. Set `keepdims` to True or False to avoid this warning.\n",
      "  mode, _ = stats.mode(_y[neigh_ind, k], axis=1)\n",
      "C:\\Users\\Emran\\anaconda3\\lib\\site-packages\\sklearn\\neighbors\\_classification.py:228: FutureWarning: Unlike other reduction functions (e.g. `skew`, `kurtosis`), the default behavior of `mode` typically preserves the axis it acts along. In SciPy 1.11.0, this behavior will change: the default value of `keepdims` will become False, the `axis` over which the statistic is taken will be eliminated, and the value None will no longer be accepted. Set `keepdims` to True or False to avoid this warning.\n",
      "  mode, _ = stats.mode(_y[neigh_ind, k], axis=1)\n"
     ]
    },
    {
     "name": "stdout",
     "output_type": "stream",
     "text": [
      "KNN                  recall = 24.662% ± 9.071%\n",
      "SVC                  recall = 35.886% ± 6.570%\n",
      "RFC                  recall = 60.533% ± 7.355%\n",
      "ADA                  recall = 69.309% ± 4.532%\n",
      "XGB                  recall = 71.186% ± 7.507%\n"
     ]
    }
   ],
   "source": [
    "# recall on test data\n",
    "\n",
    "for name,model in models.items():\n",
    "    scores = cross_val_score(model, X_dummy_test, y_dummy_test, cv=10, scoring='recall')\n",
    "    print(f\"{name:20s} recall = {scores.mean():.3%} ± {scores.std():.3%}\")"
   ]
  },
  {
   "cell_type": "code",
   "execution_count": 16,
   "id": "f0cc87aa-10a7-4801-9964-83951c2ec091",
   "metadata": {},
   "outputs": [],
   "source": [
    "#######################\n",
    "\n",
    "#######################\n",
    "#######################\n",
    "\n",
    "#######################"
   ]
  },
  {
   "cell_type": "code",
   "execution_count": 17,
   "id": "a347fe52-8940-401e-9d8c-cb12dc7829b0",
   "metadata": {},
   "outputs": [
    {
     "data": {
      "text/plain": [
       "0    4919\n",
       "1     912\n",
       "Name: Churn, dtype: int64"
      ]
     },
     "execution_count": 17,
     "metadata": {},
     "output_type": "execute_result"
    }
   ],
   "source": [
    "df_train['Churn'].value_counts()"
   ]
  },
  {
   "cell_type": "code",
   "execution_count": 18,
   "id": "d90b789c-e1e9-49ec-8eac-f4b83bcc340e",
   "metadata": {},
   "outputs": [
    {
     "data": {
      "text/plain": [
       "(5831, 19)"
      ]
     },
     "execution_count": 18,
     "metadata": {},
     "output_type": "execute_result"
    }
   ],
   "source": [
    "df_train.shape"
   ]
  },
  {
   "cell_type": "markdown",
   "id": "d7936ed9-f6d1-4b4f-9c64-eeb94d46cc4f",
   "metadata": {},
   "source": [
    "I then did the same process I used before for the model building in terms of creating cat_features, num_features and features lists and creating X_train, y_train and X_test and using StandardScaler\n",
    "\n",
    "The reason I didn't create y_test is because I don't have the Churn feature in the df_test dataframe"
   ]
  },
  {
   "cell_type": "code",
   "execution_count": 19,
   "id": "6d1392a7-52e6-49f5-a1d7-fbe4920cb7aa",
   "metadata": {},
   "outputs": [
    {
     "name": "stdout",
     "output_type": "stream",
     "text": [
      "Traget: Churn\n",
      "Categorical Features: []\n",
      "Numerical Features: ['Customer', 'Card', 'Customer_Service_Calls', 'Credit_Limit', 'Total_Revolving_Balance', 'Average_Open_To_Buy', 'Average_Utilisation_Ratio', 'Age', 'Gender', 'Education', 'Marital_Status', 'Dependents', 'Income', 'Amount_Sum', 'Amount_Mean', 'Amount_Median', 'Account', 'Start_Year']\n"
     ]
    },
    {
     "data": {
      "text/plain": [
       "['Customer',\n",
       " 'Card',\n",
       " 'Customer_Service_Calls',\n",
       " 'Credit_Limit',\n",
       " 'Total_Revolving_Balance',\n",
       " 'Average_Open_To_Buy',\n",
       " 'Average_Utilisation_Ratio',\n",
       " 'Age',\n",
       " 'Gender',\n",
       " 'Education',\n",
       " 'Marital_Status',\n",
       " 'Dependents',\n",
       " 'Income',\n",
       " 'Amount_Sum',\n",
       " 'Amount_Mean',\n",
       " 'Amount_Median',\n",
       " 'Account',\n",
       " 'Start_Year']"
      ]
     },
     "execution_count": 19,
     "metadata": {},
     "output_type": "execute_result"
    }
   ],
   "source": [
    "target = \"Churn\"\n",
    "cat_features = [c for c in df_train.select_dtypes(\"category\").columns if c not in target]\n",
    "num_features = [c for c in df_train.select_dtypes([\"int\",\"float\"]).columns if c not in target]\n",
    "features = cat_features + num_features\n",
    "\n",
    "print(f\"Traget: {target}\")\n",
    "\n",
    "print(f\"Categorical Features: {cat_features}\")\n",
    "print(f\"Numerical Features: {num_features}\")\n",
    "features"
   ]
  },
  {
   "cell_type": "code",
   "execution_count": 20,
   "id": "cfefe0a5-ac16-4b87-b6a7-b0cda403fc6e",
   "metadata": {},
   "outputs": [],
   "source": [
    "ss = StandardScaler()\n",
    "\n",
    "X_train = ss.fit_transform(df_train[features])\n",
    "y_train = df_train['Churn'].values\n",
    "\n",
    "X_test = ss.transform(df_test[features])"
   ]
  },
  {
   "cell_type": "code",
   "execution_count": 21,
   "id": "03041910-e5a5-48de-bba9-3c0ca07bc3b2",
   "metadata": {},
   "outputs": [
    {
     "name": "stdout",
     "output_type": "stream",
     "text": [
      "4919\n",
      "912\n"
     ]
    }
   ],
   "source": [
    "print(list(y_train).count(0))\n",
    "print(list(y_train).count(1))"
   ]
  },
  {
   "cell_type": "markdown",
   "id": "73f6c199-8731-402f-b9da-945b4ee759b6",
   "metadata": {},
   "source": [
    "I then did model fitting using the XGBClassifier saved the predicted Churn values in y_pred"
   ]
  },
  {
   "cell_type": "code",
   "execution_count": 22,
   "id": "fdbb9002-d58c-4152-bb08-16d7293cfb3f",
   "metadata": {},
   "outputs": [],
   "source": [
    "model = xgb.XGBClassifier()\n",
    "model.fit(X_train, y_train)\n",
    "y_pred = model.predict(X_test)"
   ]
  },
  {
   "cell_type": "code",
   "execution_count": 23,
   "id": "5e4765bb-708c-4ba5-9f93-9aaefe4a7839",
   "metadata": {},
   "outputs": [
    {
     "data": {
      "text/plain": [
       "array([0, 0, 0, ..., 0, 0, 0])"
      ]
     },
     "execution_count": 23,
     "metadata": {},
     "output_type": "execute_result"
    }
   ],
   "source": [
    "y_pred"
   ]
  },
  {
   "cell_type": "markdown",
   "id": "7e5dbd71-254b-4578-95af-db9c9e6c14d4",
   "metadata": {},
   "source": [
    "I then created an empty dataframe called df and gave it two columns, the Customer column from df_test and the predicted Churn values"
   ]
  },
  {
   "cell_type": "code",
   "execution_count": 24,
   "id": "d01af714-e831-4a04-a174-8c2143f05d47",
   "metadata": {},
   "outputs": [],
   "source": [
    "df = pd.DataFrame()\n",
    "df['Customer'] = df_test['Customer']"
   ]
  },
  {
   "cell_type": "code",
   "execution_count": 25,
   "id": "561f19ce-fd9c-4dcd-9cf0-088a0f4d3514",
   "metadata": {},
   "outputs": [
    {
     "data": {
      "text/html": [
       "<div>\n",
       "<style scoped>\n",
       "    .dataframe tbody tr th:only-of-type {\n",
       "        vertical-align: middle;\n",
       "    }\n",
       "\n",
       "    .dataframe tbody tr th {\n",
       "        vertical-align: top;\n",
       "    }\n",
       "\n",
       "    .dataframe thead th {\n",
       "        text-align: right;\n",
       "    }\n",
       "</style>\n",
       "<table border=\"1\" class=\"dataframe\">\n",
       "  <thead>\n",
       "    <tr style=\"text-align: right;\">\n",
       "      <th></th>\n",
       "      <th>Customer</th>\n",
       "      <th>Churn</th>\n",
       "    </tr>\n",
       "  </thead>\n",
       "  <tbody>\n",
       "    <tr>\n",
       "      <th>0</th>\n",
       "      <td>774663629</td>\n",
       "      <td>0</td>\n",
       "    </tr>\n",
       "    <tr>\n",
       "      <th>1</th>\n",
       "      <td>720420396</td>\n",
       "      <td>0</td>\n",
       "    </tr>\n",
       "    <tr>\n",
       "      <th>2</th>\n",
       "      <td>815283379</td>\n",
       "      <td>0</td>\n",
       "    </tr>\n",
       "    <tr>\n",
       "      <th>3</th>\n",
       "      <td>764861610</td>\n",
       "      <td>0</td>\n",
       "    </tr>\n",
       "    <tr>\n",
       "      <th>4</th>\n",
       "      <td>742798818</td>\n",
       "      <td>0</td>\n",
       "    </tr>\n",
       "  </tbody>\n",
       "</table>\n",
       "</div>"
      ],
      "text/plain": [
       "    Customer  Churn\n",
       "0  774663629      0\n",
       "1  720420396      0\n",
       "2  815283379      0\n",
       "3  764861610      0\n",
       "4  742798818      0"
      ]
     },
     "execution_count": 25,
     "metadata": {},
     "output_type": "execute_result"
    }
   ],
   "source": [
    "df['Churn'] = y_pred\n",
    "df.head()"
   ]
  },
  {
   "cell_type": "code",
   "execution_count": 26,
   "id": "fc3cf16b-2afb-45e6-9f62-037697e1ffd1",
   "metadata": {},
   "outputs": [
    {
     "data": {
      "text/plain": [
       "0    3020\n",
       "1     522\n",
       "Name: Churn, dtype: int64"
      ]
     },
     "execution_count": 26,
     "metadata": {},
     "output_type": "execute_result"
    }
   ],
   "source": [
    "df['Churn'].value_counts()"
   ]
  },
  {
   "cell_type": "markdown",
   "id": "cfed2477-9b58-40fe-bbc3-2bbe7ebadfa0",
   "metadata": {},
   "source": [
    "I then converted Churn values from 0 and 1 to No and Yes\n",
    "\n",
    "I then saved the df dataframe to a csv file which I then uploaded to Kaggle"
   ]
  },
  {
   "cell_type": "code",
   "execution_count": 27,
   "id": "be85f007-a99e-4a68-baa0-5251c90d8d3c",
   "metadata": {},
   "outputs": [],
   "source": [
    "df['Churn'] = df['Churn'].replace({1:'Yes', 0:'No'})\n",
    "df.to_csv(f\"{ROOT}/output/submission.csv\", index= False)"
   ]
  }
 ],
 "metadata": {
  "kernelspec": {
   "display_name": "Python 3 (ipykernel)",
   "language": "python",
   "name": "python3"
  },
  "language_info": {
   "codemirror_mode": {
    "name": "ipython",
    "version": 3
   },
   "file_extension": ".py",
   "mimetype": "text/x-python",
   "name": "python",
   "nbconvert_exporter": "python",
   "pygments_lexer": "ipython3",
   "version": "3.9.13"
  }
 },
 "nbformat": 4,
 "nbformat_minor": 5
}
