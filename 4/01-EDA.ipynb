{
 "cells": [
  {
   "cell_type": "markdown",
   "id": "44d1c8dc-48d8-4f1a-bf4b-c49a2bc8b31c",
   "metadata": {},
   "source": [
    "## 01-EDA"
   ]
  },
  {
   "cell_type": "markdown",
   "id": "b1490f07-7075-42a5-8bdc-cdc810a05690",
   "metadata": {},
   "source": [
    "#### Name: Emran Sabbagh\n",
    "\n",
    "#### Student Number: 20088634"
   ]
  },
  {
   "cell_type": "markdown",
   "id": "7508c169-66cf-4d16-a1b7-3c4b9c5d8d01",
   "metadata": {},
   "source": [
    "### Setup"
   ]
  },
  {
   "cell_type": "markdown",
   "id": "530cdffa-560c-407d-8c60-1b900710de5e",
   "metadata": {},
   "source": [
    "The first thing I did was importing some libraries and setting the folder structure"
   ]
  },
  {
   "cell_type": "code",
   "execution_count": 1,
   "id": "09d4175e-999f-4f7f-bbe1-0de1a9cb6a6c",
   "metadata": {},
   "outputs": [],
   "source": [
    "import numpy as np\n",
    "import pandas as pd\n",
    "import matplotlib.pyplot as plt\n",
    "import seaborn as sns\n",
    "from scipy import stats\n",
    "import yaml, time, sys, os\n",
    "\n",
    "from IPython.display import display, Markdown\n",
    "plt.style.use(\"seaborn-darkgrid\")\n",
    "pd.set_option('display.max_columns', None)  \n",
    "sns.set_style(\"darkgrid\")\n",
    "\n",
    "DATASET = \"MINST\"\n",
    "\n",
    "COLAB = 'google.colab' in sys.modules\n",
    "if COLAB:\n",
    "    ROOT = f\"/content/gdrive/MyDrive/datasets/{DATASET.replace(' ','_')}/\"\n",
    "else:\n",
    "    ROOT = \"./\"\n",
    "\n",
    "DEBUG = True\n",
    "SEED = 6"
   ]
  },
  {
   "cell_type": "code",
   "execution_count": 2,
   "id": "39318067-924b-4085-a459-8247e25274cf",
   "metadata": {},
   "outputs": [],
   "source": [
    "if COLAB:\n",
    "  from google.colab import drive\n",
    "  if not os.path.isdir(\"/content/gdrive\"):\n",
    "    drive.mount(\"/content/gdrive\")\n",
    "    d = \"/content/gdrive/MyDrive/datasets\"\n",
    "    if not os.path.isdir(d): os.makedirs(d)\n",
    "  if not os.path.isdir(ROOT): os.makedirs(ROOT)\n",
    "\n",
    "def makedirs(d):\n",
    "  if COLAB:\n",
    "    if not os.path.isdir(ROOT+d): os.makedirs(ROOT+d)\n",
    "  else:\n",
    "    if not os.path.isdir(ROOT+d): os.makedirs(ROOT+d, mode=0o777, exist_ok=True)\n",
    "\n",
    "for d in ['orig','data','output']: makedirs(d)\n"
   ]
  },
  {
   "cell_type": "markdown",
   "id": "75ec1276-3733-416d-bace-e273c161cd27",
   "metadata": {},
   "source": [
    "### Cleaning and EDA"
   ]
  },
  {
   "cell_type": "markdown",
   "id": "63050db6-bec5-4889-98e6-58a68b4496c7",
   "metadata": {},
   "source": [
    "I then read the datasets from the training csv files and printed their shapes\n",
    "\n",
    "As seen below, df_customer_train contains 6577 rows and 15 columns, df_accounts_train contain 25012 rows and 2 columns and df_transactions_train contains 514611 rows and 3 columns"
   ]
  },
  {
   "cell_type": "code",
   "execution_count": 3,
   "id": "8e8061c2-372b-43b8-bcfc-b23fb1a83cf0",
   "metadata": {},
   "outputs": [],
   "source": [
    "customers = f'{ROOT}/orig/customers_train.csv'\n",
    "accounts = f'{ROOT}/orig/accounts_train.csv'\n",
    "transactions = f'{ROOT}/orig/transactions_train.csv'"
   ]
  },
  {
   "cell_type": "code",
   "execution_count": 4,
   "id": "3b6b6582-54ef-45f1-9250-26cfac3130b1",
   "metadata": {},
   "outputs": [
    {
     "name": "stdout",
     "output_type": "stream",
     "text": [
      "(6577, 15)\n",
      "(25012, 2)\n",
      "(514611, 3)\n"
     ]
    }
   ],
   "source": [
    "df_customer_train = pd.read_csv(customers)\n",
    "df_accounts_train = pd.read_csv(accounts)\n",
    "df_transactions_train = pd.read_csv(transactions)\n",
    "\n",
    "print(df_customer_train.shape)\n",
    "print(df_accounts_train.shape)\n",
    "print(df_transactions_train.shape)"
   ]
  },
  {
   "cell_type": "code",
   "execution_count": 5,
   "id": "74759e4f-683c-4aac-a0a6-3d18a447f42d",
   "metadata": {},
   "outputs": [
    {
     "data": {
      "text/html": [
       "<div>\n",
       "<style scoped>\n",
       "    .dataframe tbody tr th:only-of-type {\n",
       "        vertical-align: middle;\n",
       "    }\n",
       "\n",
       "    .dataframe tbody tr th {\n",
       "        vertical-align: top;\n",
       "    }\n",
       "\n",
       "    .dataframe thead th {\n",
       "        text-align: right;\n",
       "    }\n",
       "</style>\n",
       "<table border=\"1\" class=\"dataframe\">\n",
       "  <thead>\n",
       "    <tr style=\"text-align: right;\">\n",
       "      <th></th>\n",
       "      <th>Customer</th>\n",
       "      <th>Churn</th>\n",
       "      <th>Card</th>\n",
       "      <th>Start_Date</th>\n",
       "      <th>Customer_Service_Calls</th>\n",
       "      <th>Credit_Limit</th>\n",
       "      <th>Total_Revolving_Balance</th>\n",
       "      <th>Average_Open_To_Buy</th>\n",
       "      <th>Average_Utilisation_Ratio</th>\n",
       "      <th>Age</th>\n",
       "      <th>Gender</th>\n",
       "      <th>Education</th>\n",
       "      <th>Marital_Status</th>\n",
       "      <th>Dependents</th>\n",
       "      <th>Income</th>\n",
       "    </tr>\n",
       "  </thead>\n",
       "  <tbody>\n",
       "    <tr>\n",
       "      <th>0</th>\n",
       "      <td>797197508</td>\n",
       "      <td>No</td>\n",
       "      <td>Silver</td>\n",
       "      <td>2020-06-01</td>\n",
       "      <td>1</td>\n",
       "      <td>2315.0</td>\n",
       "      <td>1565</td>\n",
       "      <td>750.0</td>\n",
       "      <td>0.676</td>\n",
       "      <td>48.0</td>\n",
       "      <td>F</td>\n",
       "      <td>Graduate</td>\n",
       "      <td>Married</td>\n",
       "      <td>2</td>\n",
       "      <td>Less than €30K</td>\n",
       "    </tr>\n",
       "    <tr>\n",
       "      <th>1</th>\n",
       "      <td>812854728</td>\n",
       "      <td>No</td>\n",
       "      <td>Silver</td>\n",
       "      <td>2020-01-01</td>\n",
       "      <td>1</td>\n",
       "      <td>7645.0</td>\n",
       "      <td>2076</td>\n",
       "      <td>5569.0</td>\n",
       "      <td>0.272</td>\n",
       "      <td>58.0</td>\n",
       "      <td>F</td>\n",
       "      <td>Second level</td>\n",
       "      <td>Single</td>\n",
       "      <td>5</td>\n",
       "      <td>Less than €30K</td>\n",
       "    </tr>\n",
       "    <tr>\n",
       "      <th>2</th>\n",
       "      <td>768000743</td>\n",
       "      <td>No</td>\n",
       "      <td>Silver</td>\n",
       "      <td>2020-01-01</td>\n",
       "      <td>2</td>\n",
       "      <td>6394.0</td>\n",
       "      <td>0</td>\n",
       "      <td>6394.0</td>\n",
       "      <td>0.000</td>\n",
       "      <td>55.0</td>\n",
       "      <td>F</td>\n",
       "      <td>Second level</td>\n",
       "      <td>Single</td>\n",
       "      <td>2</td>\n",
       "      <td>Less than €30K</td>\n",
       "    </tr>\n",
       "    <tr>\n",
       "      <th>3</th>\n",
       "      <td>722161439</td>\n",
       "      <td>No</td>\n",
       "      <td>Silver</td>\n",
       "      <td>2020-08-01</td>\n",
       "      <td>3</td>\n",
       "      <td>4663.0</td>\n",
       "      <td>0</td>\n",
       "      <td>4663.0</td>\n",
       "      <td>0.000</td>\n",
       "      <td>41.0</td>\n",
       "      <td>F</td>\n",
       "      <td>Graduate</td>\n",
       "      <td>NaN</td>\n",
       "      <td>2</td>\n",
       "      <td>€30K - €50K</td>\n",
       "    </tr>\n",
       "    <tr>\n",
       "      <th>4</th>\n",
       "      <td>759029725</td>\n",
       "      <td>No</td>\n",
       "      <td>Silver</td>\n",
       "      <td>2021-02-01</td>\n",
       "      <td>4</td>\n",
       "      <td>1879.0</td>\n",
       "      <td>1486</td>\n",
       "      <td>393.0</td>\n",
       "      <td>0.791</td>\n",
       "      <td>37.0</td>\n",
       "      <td>F</td>\n",
       "      <td>Second level</td>\n",
       "      <td>Single</td>\n",
       "      <td>1</td>\n",
       "      <td>Less than €30K</td>\n",
       "    </tr>\n",
       "  </tbody>\n",
       "</table>\n",
       "</div>"
      ],
      "text/plain": [
       "    Customer Churn    Card  Start_Date  Customer_Service_Calls  Credit_Limit  \\\n",
       "0  797197508    No  Silver  2020-06-01                       1        2315.0   \n",
       "1  812854728    No  Silver  2020-01-01                       1        7645.0   \n",
       "2  768000743    No  Silver  2020-01-01                       2        6394.0   \n",
       "3  722161439    No  Silver  2020-08-01                       3        4663.0   \n",
       "4  759029725    No  Silver  2021-02-01                       4        1879.0   \n",
       "\n",
       "   Total_Revolving_Balance  Average_Open_To_Buy  Average_Utilisation_Ratio  \\\n",
       "0                     1565                750.0                      0.676   \n",
       "1                     2076               5569.0                      0.272   \n",
       "2                        0               6394.0                      0.000   \n",
       "3                        0               4663.0                      0.000   \n",
       "4                     1486                393.0                      0.791   \n",
       "\n",
       "    Age Gender     Education Marital_Status  Dependents          Income  \n",
       "0  48.0      F      Graduate        Married           2  Less than €30K  \n",
       "1  58.0      F  Second level         Single           5  Less than €30K  \n",
       "2  55.0      F  Second level         Single           2  Less than €30K  \n",
       "3  41.0      F      Graduate            NaN           2     €30K - €50K  \n",
       "4  37.0      F  Second level         Single           1  Less than €30K  "
      ]
     },
     "execution_count": 5,
     "metadata": {},
     "output_type": "execute_result"
    }
   ],
   "source": [
    "df_customer_train.head()"
   ]
  },
  {
   "cell_type": "markdown",
   "id": "0ad56a32-190a-449e-b7a2-fbbedfd80733",
   "metadata": {},
   "source": [
    "I then dropped all the rows that contain null values in all of the training datasets"
   ]
  },
  {
   "cell_type": "code",
   "execution_count": 6,
   "id": "a6157626-8e96-4ff9-a8bc-fd771d38a6a3",
   "metadata": {},
   "outputs": [
    {
     "name": "stdout",
     "output_type": "stream",
     "text": [
      "(5831, 15)\n",
      "(25012, 2)\n",
      "(514611, 3)\n"
     ]
    }
   ],
   "source": [
    "df_customer_train = df_customer_train.dropna()\n",
    "df_accounts_train = df_accounts_train.dropna()\n",
    "df_transactions_train = df_transactions_train.dropna()\n",
    "\n",
    "print(df_customer_train.shape)\n",
    "print(df_accounts_train.shape)\n",
    "print(df_transactions_train.shape)"
   ]
  },
  {
   "cell_type": "markdown",
   "id": "27b698cf-c2fb-4d35-9721-fb82cc899ece",
   "metadata": {},
   "source": [
    "I then checked for the number of duplicated rows based on the customer column in the 3 training datasets\n",
    "\n",
    "I found that there are no duplicated columns in df_customer_train, there are 18435 duplicated rows in df_accounts_train and 506732 duplicated rows in the  df_transactions_train dataset"
   ]
  },
  {
   "cell_type": "code",
   "execution_count": 7,
   "id": "77b82445-a625-4ff6-b651-7c3a8315a0f7",
   "metadata": {},
   "outputs": [
    {
     "name": "stdout",
     "output_type": "stream",
     "text": [
      "0\n",
      "18435\n",
      "506732\n"
     ]
    }
   ],
   "source": [
    "print(df_customer_train.duplicated(subset=['Customer']).sum())\n",
    "print(df_accounts_train.duplicated(subset=['Customer']).sum())\n",
    "print(df_transactions_train.duplicated(subset=['Customer']).sum())"
   ]
  },
  {
   "cell_type": "markdown",
   "id": "fb8f320e-1494-400d-ac90-e277d7a549b6",
   "metadata": {},
   "source": [
    "I then decided to remove these duplicates.\n",
    "\n",
    "For the df_customer_train I dropped all the duplicated rows based on the customer column\n",
    "\n",
    "For the df_accounts_train I dropped all the duplicated rows based on the customer column\n",
    "\n",
    "For the df_transactions_train I created 3 temporary datasets:\n",
    "\n",
    "df_transactions_train_sum is df_transactions_train but aggregated based on the sum of the values of the column Amount of duplicated customers\n",
    "\n",
    "df_transactions_train_mean is df_transactions_train but aggregated based on the mean of the values of the column Amount of duplicated customers\n",
    "\n",
    "df_transactions_train_median is df_transactions_train but aggregated based on the median of the values of the column Amount of duplicated customers\n",
    "\n",
    "I added the last two temporary datasets (df_transactions_train_mean and df_transactions_train_median) at a later stage as part of model performance enhancement\n",
    "\n",
    "We can see below that the number of rows in the dataset have decreased which is good"
   ]
  },
  {
   "cell_type": "code",
   "execution_count": 8,
   "id": "0b485f5e-2fbb-48f8-92f7-bb06e12238e0",
   "metadata": {},
   "outputs": [
    {
     "name": "stdout",
     "output_type": "stream",
     "text": [
      "(5831, 15)\n",
      "(6577, 2)\n",
      "(7879, 2)\n",
      "(7879, 2)\n",
      "(7879, 2)\n"
     ]
    }
   ],
   "source": [
    "# https://pandas.pydata.org/docs/reference/api/pandas.DataFrame.drop_duplicates.html\n",
    "# https://www.easytweaks.com/pandas-groupby-to-dataframe/\n",
    "# https://www.kdnuggets.com/2022/11/4-ways-rename-pandas-columns.html\n",
    "\n",
    "df_customer_train = df_customer_train.drop_duplicates(subset=['Customer'])\n",
    "df_accounts_train = df_accounts_train.drop_duplicates(subset=['Customer'])\n",
    "\n",
    "df_transactions_train_sum = df_transactions_train.groupby('Customer').agg('sum').reset_index()\n",
    "df_transactions_train_sum.rename(columns={\"Amount\": \"Amount_Sum\"}, inplace=True)\n",
    "\n",
    "df_transactions_train_mean = df_transactions_train.groupby('Customer').agg('mean').reset_index()\n",
    "df_transactions_train_mean.rename(columns={\"Amount\": \"Amount_Mean\"}, inplace=True)\n",
    "\n",
    "df_transactions_train_median = df_transactions_train.groupby('Customer').agg('median').reset_index()\n",
    "df_transactions_train_median.rename(columns={\"Amount\": \"Amount_Median\"}, inplace=True)\n",
    "\n",
    "\n",
    "print(df_customer_train.shape)\n",
    "print(df_accounts_train.shape)\n",
    "#print(df_transactions_train.shape)\n",
    "print(df_transactions_train_sum.shape)\n",
    "print(df_transactions_train_mean.shape)\n",
    "print(df_transactions_train_median.shape)"
   ]
  },
  {
   "cell_type": "markdown",
   "id": "20bd9913-1221-449f-85cd-b7231c5d9b7c",
   "metadata": {},
   "source": [
    "I then merged the 3 temporary df_transactions_train datasets with the df_customer_train dataset"
   ]
  },
  {
   "cell_type": "code",
   "execution_count": 9,
   "id": "c525bce6-2c17-43c2-ade6-a2e3698fedaf",
   "metadata": {},
   "outputs": [
    {
     "name": "stdout",
     "output_type": "stream",
     "text": [
      "(5831, 18)\n"
     ]
    },
    {
     "data": {
      "text/html": [
       "<div>\n",
       "<style scoped>\n",
       "    .dataframe tbody tr th:only-of-type {\n",
       "        vertical-align: middle;\n",
       "    }\n",
       "\n",
       "    .dataframe tbody tr th {\n",
       "        vertical-align: top;\n",
       "    }\n",
       "\n",
       "    .dataframe thead th {\n",
       "        text-align: right;\n",
       "    }\n",
       "</style>\n",
       "<table border=\"1\" class=\"dataframe\">\n",
       "  <thead>\n",
       "    <tr style=\"text-align: right;\">\n",
       "      <th></th>\n",
       "      <th>Customer</th>\n",
       "      <th>Churn</th>\n",
       "      <th>Card</th>\n",
       "      <th>Start_Date</th>\n",
       "      <th>Customer_Service_Calls</th>\n",
       "      <th>Credit_Limit</th>\n",
       "      <th>Total_Revolving_Balance</th>\n",
       "      <th>Average_Open_To_Buy</th>\n",
       "      <th>Average_Utilisation_Ratio</th>\n",
       "      <th>Age</th>\n",
       "      <th>Gender</th>\n",
       "      <th>Education</th>\n",
       "      <th>Marital_Status</th>\n",
       "      <th>Dependents</th>\n",
       "      <th>Income</th>\n",
       "      <th>Amount_Sum</th>\n",
       "      <th>Amount_Mean</th>\n",
       "      <th>Amount_Median</th>\n",
       "    </tr>\n",
       "  </thead>\n",
       "  <tbody>\n",
       "    <tr>\n",
       "      <th>0</th>\n",
       "      <td>797197508</td>\n",
       "      <td>No</td>\n",
       "      <td>Silver</td>\n",
       "      <td>2020-06-01</td>\n",
       "      <td>1</td>\n",
       "      <td>2315.0</td>\n",
       "      <td>1565</td>\n",
       "      <td>750.0</td>\n",
       "      <td>0.676</td>\n",
       "      <td>48.0</td>\n",
       "      <td>F</td>\n",
       "      <td>Graduate</td>\n",
       "      <td>Married</td>\n",
       "      <td>2</td>\n",
       "      <td>Less than €30K</td>\n",
       "      <td>4827.96</td>\n",
       "      <td>53.644000</td>\n",
       "      <td>40.20</td>\n",
       "    </tr>\n",
       "    <tr>\n",
       "      <th>1</th>\n",
       "      <td>812854728</td>\n",
       "      <td>No</td>\n",
       "      <td>Silver</td>\n",
       "      <td>2020-01-01</td>\n",
       "      <td>1</td>\n",
       "      <td>7645.0</td>\n",
       "      <td>2076</td>\n",
       "      <td>5569.0</td>\n",
       "      <td>0.272</td>\n",
       "      <td>58.0</td>\n",
       "      <td>F</td>\n",
       "      <td>Second level</td>\n",
       "      <td>Single</td>\n",
       "      <td>5</td>\n",
       "      <td>Less than €30K</td>\n",
       "      <td>7709.97</td>\n",
       "      <td>102.799600</td>\n",
       "      <td>44.11</td>\n",
       "    </tr>\n",
       "    <tr>\n",
       "      <th>2</th>\n",
       "      <td>768000743</td>\n",
       "      <td>No</td>\n",
       "      <td>Silver</td>\n",
       "      <td>2020-01-01</td>\n",
       "      <td>2</td>\n",
       "      <td>6394.0</td>\n",
       "      <td>0</td>\n",
       "      <td>6394.0</td>\n",
       "      <td>0.000</td>\n",
       "      <td>55.0</td>\n",
       "      <td>F</td>\n",
       "      <td>Second level</td>\n",
       "      <td>Single</td>\n",
       "      <td>2</td>\n",
       "      <td>Less than €30K</td>\n",
       "      <td>3470.06</td>\n",
       "      <td>50.290725</td>\n",
       "      <td>29.07</td>\n",
       "    </tr>\n",
       "    <tr>\n",
       "      <th>3</th>\n",
       "      <td>759029725</td>\n",
       "      <td>No</td>\n",
       "      <td>Silver</td>\n",
       "      <td>2021-02-01</td>\n",
       "      <td>4</td>\n",
       "      <td>1879.0</td>\n",
       "      <td>1486</td>\n",
       "      <td>393.0</td>\n",
       "      <td>0.791</td>\n",
       "      <td>37.0</td>\n",
       "      <td>F</td>\n",
       "      <td>Second level</td>\n",
       "      <td>Single</td>\n",
       "      <td>1</td>\n",
       "      <td>Less than €30K</td>\n",
       "      <td>5202.04</td>\n",
       "      <td>59.114091</td>\n",
       "      <td>35.04</td>\n",
       "    </tr>\n",
       "    <tr>\n",
       "      <th>4</th>\n",
       "      <td>764982590</td>\n",
       "      <td>No</td>\n",
       "      <td>Silver</td>\n",
       "      <td>2018-10-01</td>\n",
       "      <td>4</td>\n",
       "      <td>6036.0</td>\n",
       "      <td>1409</td>\n",
       "      <td>4627.0</td>\n",
       "      <td>0.233</td>\n",
       "      <td>56.0</td>\n",
       "      <td>M</td>\n",
       "      <td>PhD</td>\n",
       "      <td>Married</td>\n",
       "      <td>2</td>\n",
       "      <td>€50K - €80K</td>\n",
       "      <td>1741.00</td>\n",
       "      <td>38.688889</td>\n",
       "      <td>25.16</td>\n",
       "    </tr>\n",
       "  </tbody>\n",
       "</table>\n",
       "</div>"
      ],
      "text/plain": [
       "    Customer Churn    Card  Start_Date  Customer_Service_Calls  Credit_Limit  \\\n",
       "0  797197508    No  Silver  2020-06-01                       1        2315.0   \n",
       "1  812854728    No  Silver  2020-01-01                       1        7645.0   \n",
       "2  768000743    No  Silver  2020-01-01                       2        6394.0   \n",
       "3  759029725    No  Silver  2021-02-01                       4        1879.0   \n",
       "4  764982590    No  Silver  2018-10-01                       4        6036.0   \n",
       "\n",
       "   Total_Revolving_Balance  Average_Open_To_Buy  Average_Utilisation_Ratio  \\\n",
       "0                     1565                750.0                      0.676   \n",
       "1                     2076               5569.0                      0.272   \n",
       "2                        0               6394.0                      0.000   \n",
       "3                     1486                393.0                      0.791   \n",
       "4                     1409               4627.0                      0.233   \n",
       "\n",
       "    Age Gender     Education Marital_Status  Dependents          Income  \\\n",
       "0  48.0      F      Graduate        Married           2  Less than €30K   \n",
       "1  58.0      F  Second level         Single           5  Less than €30K   \n",
       "2  55.0      F  Second level         Single           2  Less than €30K   \n",
       "3  37.0      F  Second level         Single           1  Less than €30K   \n",
       "4  56.0      M           PhD        Married           2     €50K - €80K   \n",
       "\n",
       "   Amount_Sum  Amount_Mean  Amount_Median  \n",
       "0     4827.96    53.644000          40.20  \n",
       "1     7709.97   102.799600          44.11  \n",
       "2     3470.06    50.290725          29.07  \n",
       "3     5202.04    59.114091          35.04  \n",
       "4     1741.00    38.688889          25.16  "
      ]
     },
     "execution_count": 9,
     "metadata": {},
     "output_type": "execute_result"
    }
   ],
   "source": [
    "# https://ai.plainenglish.io/combining-and-merging-datasets-in-pandas-8e71e11b76fa\n",
    "\n",
    "df_training = pd.merge(df_customer_train, df_transactions_train_sum, on='Customer')\n",
    "df_training = pd.merge(df_training, df_transactions_train_mean, on='Customer')\n",
    "df_training = pd.merge(df_training, df_transactions_train_median, on='Customer')\n",
    "\n",
    "print(df_training.shape)\n",
    "df_training.head()"
   ]
  },
  {
   "cell_type": "markdown",
   "id": "75606d00-aa99-4d34-b6b2-a2f6e79aeb17",
   "metadata": {},
   "source": [
    "I then merged the df_training dataset with the df_accounts_train dataset"
   ]
  },
  {
   "cell_type": "code",
   "execution_count": 10,
   "id": "a38e97a3-848a-48f2-b2e2-d4662b70ad2d",
   "metadata": {},
   "outputs": [
    {
     "name": "stdout",
     "output_type": "stream",
     "text": [
      "(5831, 19)\n"
     ]
    },
    {
     "data": {
      "text/html": [
       "<div>\n",
       "<style scoped>\n",
       "    .dataframe tbody tr th:only-of-type {\n",
       "        vertical-align: middle;\n",
       "    }\n",
       "\n",
       "    .dataframe tbody tr th {\n",
       "        vertical-align: top;\n",
       "    }\n",
       "\n",
       "    .dataframe thead th {\n",
       "        text-align: right;\n",
       "    }\n",
       "</style>\n",
       "<table border=\"1\" class=\"dataframe\">\n",
       "  <thead>\n",
       "    <tr style=\"text-align: right;\">\n",
       "      <th></th>\n",
       "      <th>Customer</th>\n",
       "      <th>Churn</th>\n",
       "      <th>Card</th>\n",
       "      <th>Start_Date</th>\n",
       "      <th>Customer_Service_Calls</th>\n",
       "      <th>Credit_Limit</th>\n",
       "      <th>Total_Revolving_Balance</th>\n",
       "      <th>Average_Open_To_Buy</th>\n",
       "      <th>Average_Utilisation_Ratio</th>\n",
       "      <th>Age</th>\n",
       "      <th>Gender</th>\n",
       "      <th>Education</th>\n",
       "      <th>Marital_Status</th>\n",
       "      <th>Dependents</th>\n",
       "      <th>Income</th>\n",
       "      <th>Amount_Sum</th>\n",
       "      <th>Amount_Mean</th>\n",
       "      <th>Amount_Median</th>\n",
       "      <th>Account</th>\n",
       "    </tr>\n",
       "  </thead>\n",
       "  <tbody>\n",
       "    <tr>\n",
       "      <th>0</th>\n",
       "      <td>797197508</td>\n",
       "      <td>No</td>\n",
       "      <td>Silver</td>\n",
       "      <td>2020-06-01</td>\n",
       "      <td>1</td>\n",
       "      <td>2315.0</td>\n",
       "      <td>1565</td>\n",
       "      <td>750.0</td>\n",
       "      <td>0.676</td>\n",
       "      <td>48.0</td>\n",
       "      <td>F</td>\n",
       "      <td>Graduate</td>\n",
       "      <td>Married</td>\n",
       "      <td>2</td>\n",
       "      <td>Less than €30K</td>\n",
       "      <td>4827.96</td>\n",
       "      <td>53.644000</td>\n",
       "      <td>40.20</td>\n",
       "      <td>Credit Card</td>\n",
       "    </tr>\n",
       "    <tr>\n",
       "      <th>1</th>\n",
       "      <td>812854728</td>\n",
       "      <td>No</td>\n",
       "      <td>Silver</td>\n",
       "      <td>2020-01-01</td>\n",
       "      <td>1</td>\n",
       "      <td>7645.0</td>\n",
       "      <td>2076</td>\n",
       "      <td>5569.0</td>\n",
       "      <td>0.272</td>\n",
       "      <td>58.0</td>\n",
       "      <td>F</td>\n",
       "      <td>Second level</td>\n",
       "      <td>Single</td>\n",
       "      <td>5</td>\n",
       "      <td>Less than €30K</td>\n",
       "      <td>7709.97</td>\n",
       "      <td>102.799600</td>\n",
       "      <td>44.11</td>\n",
       "      <td>Credit Card</td>\n",
       "    </tr>\n",
       "    <tr>\n",
       "      <th>2</th>\n",
       "      <td>768000743</td>\n",
       "      <td>No</td>\n",
       "      <td>Silver</td>\n",
       "      <td>2020-01-01</td>\n",
       "      <td>2</td>\n",
       "      <td>6394.0</td>\n",
       "      <td>0</td>\n",
       "      <td>6394.0</td>\n",
       "      <td>0.000</td>\n",
       "      <td>55.0</td>\n",
       "      <td>F</td>\n",
       "      <td>Second level</td>\n",
       "      <td>Single</td>\n",
       "      <td>2</td>\n",
       "      <td>Less than €30K</td>\n",
       "      <td>3470.06</td>\n",
       "      <td>50.290725</td>\n",
       "      <td>29.07</td>\n",
       "      <td>Current</td>\n",
       "    </tr>\n",
       "    <tr>\n",
       "      <th>3</th>\n",
       "      <td>759029725</td>\n",
       "      <td>No</td>\n",
       "      <td>Silver</td>\n",
       "      <td>2021-02-01</td>\n",
       "      <td>4</td>\n",
       "      <td>1879.0</td>\n",
       "      <td>1486</td>\n",
       "      <td>393.0</td>\n",
       "      <td>0.791</td>\n",
       "      <td>37.0</td>\n",
       "      <td>F</td>\n",
       "      <td>Second level</td>\n",
       "      <td>Single</td>\n",
       "      <td>1</td>\n",
       "      <td>Less than €30K</td>\n",
       "      <td>5202.04</td>\n",
       "      <td>59.114091</td>\n",
       "      <td>35.04</td>\n",
       "      <td>Credit Card</td>\n",
       "    </tr>\n",
       "    <tr>\n",
       "      <th>4</th>\n",
       "      <td>764982590</td>\n",
       "      <td>No</td>\n",
       "      <td>Silver</td>\n",
       "      <td>2018-10-01</td>\n",
       "      <td>4</td>\n",
       "      <td>6036.0</td>\n",
       "      <td>1409</td>\n",
       "      <td>4627.0</td>\n",
       "      <td>0.233</td>\n",
       "      <td>56.0</td>\n",
       "      <td>M</td>\n",
       "      <td>PhD</td>\n",
       "      <td>Married</td>\n",
       "      <td>2</td>\n",
       "      <td>€50K - €80K</td>\n",
       "      <td>1741.00</td>\n",
       "      <td>38.688889</td>\n",
       "      <td>25.16</td>\n",
       "      <td>Mortgage</td>\n",
       "    </tr>\n",
       "  </tbody>\n",
       "</table>\n",
       "</div>"
      ],
      "text/plain": [
       "    Customer Churn    Card  Start_Date  Customer_Service_Calls  Credit_Limit  \\\n",
       "0  797197508    No  Silver  2020-06-01                       1        2315.0   \n",
       "1  812854728    No  Silver  2020-01-01                       1        7645.0   \n",
       "2  768000743    No  Silver  2020-01-01                       2        6394.0   \n",
       "3  759029725    No  Silver  2021-02-01                       4        1879.0   \n",
       "4  764982590    No  Silver  2018-10-01                       4        6036.0   \n",
       "\n",
       "   Total_Revolving_Balance  Average_Open_To_Buy  Average_Utilisation_Ratio  \\\n",
       "0                     1565                750.0                      0.676   \n",
       "1                     2076               5569.0                      0.272   \n",
       "2                        0               6394.0                      0.000   \n",
       "3                     1486                393.0                      0.791   \n",
       "4                     1409               4627.0                      0.233   \n",
       "\n",
       "    Age Gender     Education Marital_Status  Dependents          Income  \\\n",
       "0  48.0      F      Graduate        Married           2  Less than €30K   \n",
       "1  58.0      F  Second level         Single           5  Less than €30K   \n",
       "2  55.0      F  Second level         Single           2  Less than €30K   \n",
       "3  37.0      F  Second level         Single           1  Less than €30K   \n",
       "4  56.0      M           PhD        Married           2     €50K - €80K   \n",
       "\n",
       "   Amount_Sum  Amount_Mean  Amount_Median      Account  \n",
       "0     4827.96    53.644000          40.20  Credit Card  \n",
       "1     7709.97   102.799600          44.11  Credit Card  \n",
       "2     3470.06    50.290725          29.07      Current  \n",
       "3     5202.04    59.114091          35.04  Credit Card  \n",
       "4     1741.00    38.688889          25.16     Mortgage  "
      ]
     },
     "execution_count": 10,
     "metadata": {},
     "output_type": "execute_result"
    }
   ],
   "source": [
    "####\n",
    "\n",
    "df_training = pd.merge(df_training, df_accounts_train, on='Customer')\n",
    "print(df_training.shape)\n",
    "df_training.head()\n",
    "\n",
    "####"
   ]
  },
  {
   "cell_type": "markdown",
   "id": "f89090ce-1455-43c1-aa27-014928a4e146",
   "metadata": {},
   "source": [
    "I then started doing some EDA, the EDA I did in here was to visualize the unique values of the categorical columns and to check how many times they are present.\n",
    "\n",
    "The reason I wanted to check the unique values is that because I needed to convert these values from categorical to numerical (eg. M:1) so I can do the model building and to do that I had to know what are the unique categorical values so I can replace them with numbers"
   ]
  },
  {
   "cell_type": "markdown",
   "id": "01d6da27-59d0-4703-bfdd-0cfeba842cfb",
   "metadata": {},
   "source": [
    "I first looked at the unique values of Churn column which is the target, the most common value is No and the least common is Yes"
   ]
  },
  {
   "cell_type": "code",
   "execution_count": 11,
   "id": "87a2d963-b999-4b7d-98da-33de2699e22d",
   "metadata": {},
   "outputs": [
    {
     "data": {
      "text/plain": [
       "<AxesSubplot:>"
      ]
     },
     "execution_count": 11,
     "metadata": {},
     "output_type": "execute_result"
    },
    {
     "data": {
      "image/png": "[encoded data removed]",
      "text/plain": [
       "<Figure size 640x480 with 1 Axes>"
      ]
     },
     "metadata": {},
     "output_type": "display_data"
    }
   ],
   "source": [
    "df_training['Churn'].value_counts().plot(kind='bar')"
   ]
  },
  {
   "cell_type": "markdown",
   "id": "64ffb38d-4251-4d04-804a-ee6f9ecf7127",
   "metadata": {},
   "source": [
    "I then looked at the unique values of Gender column, the most common value is F and the least common is M"
   ]
  },
  {
   "cell_type": "code",
   "execution_count": 12,
   "id": "d6292332-f6ea-40a0-904f-7700f8f41e2c",
   "metadata": {},
   "outputs": [
    {
     "data": {
      "text/plain": [
       "<AxesSubplot:>"
      ]
     },
     "execution_count": 12,
     "metadata": {},
     "output_type": "execute_result"
    },
    {
     "data": {
      "image/png": "[encoded data removed]",
      "text/plain": [
       "<Figure size 640x480 with 1 Axes>"
      ]
     },
     "metadata": {},
     "output_type": "display_data"
    }
   ],
   "source": [
    "df_training['Gender'].value_counts().plot(kind='bar')"
   ]
  },
  {
   "cell_type": "markdown",
   "id": "efe17ad9-fc23-4d66-9f9b-a0610df19d8a",
   "metadata": {},
   "source": [
    "I then looked at the unique values of Marital_Status column, the most common value is Married and the least common is Divorced"
   ]
  },
  {
   "cell_type": "code",
   "execution_count": 13,
   "id": "efb1d1c2-c743-48df-8817-724c9e93aed9",
   "metadata": {},
   "outputs": [
    {
     "data": {
      "text/plain": [
       "<AxesSubplot:>"
      ]
     },
     "execution_count": 13,
     "metadata": {},
     "output_type": "execute_result"
    },
    {
     "data": {
      "image/png": "[encoded data removed]",
      "text/plain": [
       "<Figure size 640x480 with 1 Axes>"
      ]
     },
     "metadata": {},
     "output_type": "display_data"
    }
   ],
   "source": [
    "df_training['Marital_Status'].value_counts().plot(kind='bar')"
   ]
  },
  {
   "cell_type": "markdown",
   "id": "e8f179f8-18ed-4a02-80ca-c2a316550f69",
   "metadata": {},
   "source": [
    "I then looked at the unique values of Education column, the most common value is Graduate and the least common is PhD"
   ]
  },
  {
   "cell_type": "code",
   "execution_count": 14,
   "id": "cb0953a7-93f6-41fc-8d76-fd5009ed79c6",
   "metadata": {},
   "outputs": [
    {
     "data": {
      "text/plain": [
       "<AxesSubplot:>"
      ]
     },
     "execution_count": 14,
     "metadata": {},
     "output_type": "execute_result"
    },
    {
     "data": {
      "image/png": "[encoded data removed]",
      "text/plain": [
       "<Figure size 640x480 with 1 Axes>"
      ]
     },
     "metadata": {},
     "output_type": "display_data"
    }
   ],
   "source": [
    "df_training['Education'].value_counts().plot(kind='bar')"
   ]
  },
  {
   "cell_type": "markdown",
   "id": "9fb0eb0d-7bdc-419c-9cbb-2a68a16a5aa5",
   "metadata": {},
   "source": [
    "I then looked at the unique values of Income column, the most common value is Less than 30K and the least common is 100K+"
   ]
  },
  {
   "cell_type": "code",
   "execution_count": 15,
   "id": "3d253894-a73b-4d55-8e34-286baa4ba22b",
   "metadata": {},
   "outputs": [
    {
     "data": {
      "text/plain": [
       "<AxesSubplot:>"
      ]
     },
     "execution_count": 15,
     "metadata": {},
     "output_type": "execute_result"
    },
    {
     "data": {
      "image/png": "[encoded data removed]",
      "text/plain": [
       "<Figure size 640x480 with 1 Axes>"
      ]
     },
     "metadata": {},
     "output_type": "display_data"
    }
   ],
   "source": [
    "df_training['Income'].value_counts().plot(kind='bar')"
   ]
  },
  {
   "cell_type": "markdown",
   "id": "9c773e90-0714-4c3c-a2e4-1e0267a7d011",
   "metadata": {},
   "source": [
    "I then looked at the unique values of Card column, the most common value is Silver and the least common is Black"
   ]
  },
  {
   "cell_type": "code",
   "execution_count": 16,
   "id": "6df9a16e-222f-4f6a-b5a7-bd0b903e9286",
   "metadata": {},
   "outputs": [
    {
     "data": {
      "text/plain": [
       "<AxesSubplot:>"
      ]
     },
     "execution_count": 16,
     "metadata": {},
     "output_type": "execute_result"
    },
    {
     "data": {
      "image/png": "[encoded data removed]",
      "text/plain": [
       "<Figure size 640x480 with 1 Axes>"
      ]
     },
     "metadata": {},
     "output_type": "display_data"
    }
   ],
   "source": [
    "df_training['Card'].value_counts().plot(kind='bar')"
   ]
  },
  {
   "cell_type": "markdown",
   "id": "48f01f06-4092-416f-b4fb-2b3c8649d9a7",
   "metadata": {},
   "source": [
    "I then looked at the unique values of Account column, the most common value is Credit Card and the least common is Joint"
   ]
  },
  {
   "cell_type": "code",
   "execution_count": 17,
   "id": "74af5f73-9985-49fd-ba77-abf9618de77c",
   "metadata": {},
   "outputs": [
    {
     "data": {
      "text/plain": [
       "<AxesSubplot:>"
      ]
     },
     "execution_count": 17,
     "metadata": {},
     "output_type": "execute_result"
    },
    {
     "data": {
      "image/png": "[encoded data removed]",
      "text/plain": [
       "<Figure size 640x480 with 1 Axes>"
      ]
     },
     "metadata": {},
     "output_type": "display_data"
    }
   ],
   "source": [
    "df_training['Account'].value_counts().plot(kind='bar')"
   ]
  },
  {
   "cell_type": "markdown",
   "id": "443d5c6d-79f3-4f2f-9e3c-b5c253d21f56",
   "metadata": {},
   "source": [
    "I then replaced all the categorical values with numerical values\n",
    "\n",
    "I also derived a new column called Start_Year from the Start_Date column and dropped the Start_Date column to enhance the model score"
   ]
  },
  {
   "cell_type": "code",
   "execution_count": 18,
   "id": "4c65517c-47f6-4be8-b0c1-2f2bdb54715c",
   "metadata": {},
   "outputs": [
    {
     "data": {
      "text/html": [
       "<div>\n",
       "<style scoped>\n",
       "    .dataframe tbody tr th:only-of-type {\n",
       "        vertical-align: middle;\n",
       "    }\n",
       "\n",
       "    .dataframe tbody tr th {\n",
       "        vertical-align: top;\n",
       "    }\n",
       "\n",
       "    .dataframe thead th {\n",
       "        text-align: right;\n",
       "    }\n",
       "</style>\n",
       "<table border=\"1\" class=\"dataframe\">\n",
       "  <thead>\n",
       "    <tr style=\"text-align: right;\">\n",
       "      <th></th>\n",
       "      <th>Customer</th>\n",
       "      <th>Churn</th>\n",
       "      <th>Card</th>\n",
       "      <th>Customer_Service_Calls</th>\n",
       "      <th>Credit_Limit</th>\n",
       "      <th>Total_Revolving_Balance</th>\n",
       "      <th>Average_Open_To_Buy</th>\n",
       "      <th>Average_Utilisation_Ratio</th>\n",
       "      <th>Age</th>\n",
       "      <th>Gender</th>\n",
       "      <th>Education</th>\n",
       "      <th>Marital_Status</th>\n",
       "      <th>Dependents</th>\n",
       "      <th>Income</th>\n",
       "      <th>Amount_Sum</th>\n",
       "      <th>Amount_Mean</th>\n",
       "      <th>Amount_Median</th>\n",
       "      <th>Account</th>\n",
       "      <th>Start_Year</th>\n",
       "    </tr>\n",
       "  </thead>\n",
       "  <tbody>\n",
       "    <tr>\n",
       "      <th>0</th>\n",
       "      <td>797197508</td>\n",
       "      <td>0</td>\n",
       "      <td>1</td>\n",
       "      <td>1</td>\n",
       "      <td>2315.0</td>\n",
       "      <td>1565</td>\n",
       "      <td>750.0</td>\n",
       "      <td>0.676</td>\n",
       "      <td>48.0</td>\n",
       "      <td>2</td>\n",
       "      <td>1</td>\n",
       "      <td>1</td>\n",
       "      <td>2</td>\n",
       "      <td>29999</td>\n",
       "      <td>4827.96</td>\n",
       "      <td>53.644000</td>\n",
       "      <td>40.20</td>\n",
       "      <td>1</td>\n",
       "      <td>2020</td>\n",
       "    </tr>\n",
       "    <tr>\n",
       "      <th>1</th>\n",
       "      <td>812854728</td>\n",
       "      <td>0</td>\n",
       "      <td>1</td>\n",
       "      <td>1</td>\n",
       "      <td>7645.0</td>\n",
       "      <td>2076</td>\n",
       "      <td>5569.0</td>\n",
       "      <td>0.272</td>\n",
       "      <td>58.0</td>\n",
       "      <td>2</td>\n",
       "      <td>2</td>\n",
       "      <td>2</td>\n",
       "      <td>5</td>\n",
       "      <td>29999</td>\n",
       "      <td>7709.97</td>\n",
       "      <td>102.799600</td>\n",
       "      <td>44.11</td>\n",
       "      <td>1</td>\n",
       "      <td>2020</td>\n",
       "    </tr>\n",
       "    <tr>\n",
       "      <th>2</th>\n",
       "      <td>768000743</td>\n",
       "      <td>0</td>\n",
       "      <td>1</td>\n",
       "      <td>2</td>\n",
       "      <td>6394.0</td>\n",
       "      <td>0</td>\n",
       "      <td>6394.0</td>\n",
       "      <td>0.000</td>\n",
       "      <td>55.0</td>\n",
       "      <td>2</td>\n",
       "      <td>2</td>\n",
       "      <td>2</td>\n",
       "      <td>2</td>\n",
       "      <td>29999</td>\n",
       "      <td>3470.06</td>\n",
       "      <td>50.290725</td>\n",
       "      <td>29.07</td>\n",
       "      <td>2</td>\n",
       "      <td>2020</td>\n",
       "    </tr>\n",
       "    <tr>\n",
       "      <th>3</th>\n",
       "      <td>759029725</td>\n",
       "      <td>0</td>\n",
       "      <td>1</td>\n",
       "      <td>4</td>\n",
       "      <td>1879.0</td>\n",
       "      <td>1486</td>\n",
       "      <td>393.0</td>\n",
       "      <td>0.791</td>\n",
       "      <td>37.0</td>\n",
       "      <td>2</td>\n",
       "      <td>2</td>\n",
       "      <td>2</td>\n",
       "      <td>1</td>\n",
       "      <td>29999</td>\n",
       "      <td>5202.04</td>\n",
       "      <td>59.114091</td>\n",
       "      <td>35.04</td>\n",
       "      <td>1</td>\n",
       "      <td>2021</td>\n",
       "    </tr>\n",
       "    <tr>\n",
       "      <th>4</th>\n",
       "      <td>764982590</td>\n",
       "      <td>0</td>\n",
       "      <td>1</td>\n",
       "      <td>4</td>\n",
       "      <td>6036.0</td>\n",
       "      <td>1409</td>\n",
       "      <td>4627.0</td>\n",
       "      <td>0.233</td>\n",
       "      <td>56.0</td>\n",
       "      <td>1</td>\n",
       "      <td>7</td>\n",
       "      <td>1</td>\n",
       "      <td>2</td>\n",
       "      <td>50001</td>\n",
       "      <td>1741.00</td>\n",
       "      <td>38.688889</td>\n",
       "      <td>25.16</td>\n",
       "      <td>5</td>\n",
       "      <td>2018</td>\n",
       "    </tr>\n",
       "  </tbody>\n",
       "</table>\n",
       "</div>"
      ],
      "text/plain": [
       "    Customer  Churn  Card  Customer_Service_Calls  Credit_Limit  \\\n",
       "0  797197508      0     1                       1        2315.0   \n",
       "1  812854728      0     1                       1        7645.0   \n",
       "2  768000743      0     1                       2        6394.0   \n",
       "3  759029725      0     1                       4        1879.0   \n",
       "4  764982590      0     1                       4        6036.0   \n",
       "\n",
       "   Total_Revolving_Balance  Average_Open_To_Buy  Average_Utilisation_Ratio  \\\n",
       "0                     1565                750.0                      0.676   \n",
       "1                     2076               5569.0                      0.272   \n",
       "2                        0               6394.0                      0.000   \n",
       "3                     1486                393.0                      0.791   \n",
       "4                     1409               4627.0                      0.233   \n",
       "\n",
       "    Age  Gender  Education  Marital_Status  Dependents  Income  Amount_Sum  \\\n",
       "0  48.0       2          1               1           2   29999     4827.96   \n",
       "1  58.0       2          2               2           5   29999     7709.97   \n",
       "2  55.0       2          2               2           2   29999     3470.06   \n",
       "3  37.0       2          2               2           1   29999     5202.04   \n",
       "4  56.0       1          7               1           2   50001     1741.00   \n",
       "\n",
       "   Amount_Mean  Amount_Median  Account  Start_Year  \n",
       "0    53.644000          40.20        1        2020  \n",
       "1   102.799600          44.11        1        2020  \n",
       "2    50.290725          29.07        2        2020  \n",
       "3    59.114091          35.04        1        2021  \n",
       "4    38.688889          25.16        5        2018  "
      ]
     },
     "execution_count": 18,
     "metadata": {},
     "output_type": "execute_result"
    }
   ],
   "source": [
    "# https://towardsdatascience.com/how-to-replace-values-in-pandas-609ba7a031c9\n",
    "# https://note.nkmk.me/en/python-pandas-str-slice/\n",
    "\n",
    "df_training['Gender'] = df_training['Gender'].replace({'M':1, 'F': 2})\n",
    "df_training['Marital_Status'] = df_training['Marital_Status'].replace({'Married':1, 'Single': 2, 'Divorced': 3})\n",
    "df_training['Education'] = df_training['Education'].replace({'Graduate':1, 'Second level': 2, 'Unknown': 3,\n",
    "                                                             'Primary level': 4, 'Post LC': 5, 'MSc': 6, 'PhD': 7})\n",
    "df_training['Income'] = df_training['Income'].replace({'Less than €30K':29999, '€30K - €50K': 30001, '€80K - €100K': 80001, \n",
    "                                                       '€50K - €80K': 50001, 'Unknown':0, '€100K +':100001})\n",
    "df_training['Card'] = df_training['Card'].replace({'Silver':1, 'Gold': 2, 'Platinum': 3, 'Black': 4})\n",
    "df_training['Account'] = df_training['Account'].replace({'Credit Card':1, 'Current': 2, 'On Demand Deposit': 3, 'Deposit': 4, 'Mortgage': 5,\n",
    "                                                         'Investment': 6, 'Loan': 7, 'Joint': 8})\n",
    "df_training['Churn'] = df_training['Churn'].replace({'Yes':1, 'No': 0})\n",
    "df_training['Start_Year'] = df_training['Start_Date'].str[:4].astype(int)\n",
    "\n",
    "\n",
    "df_training = df_training.drop(columns=['Start_Date'])\n",
    "\n",
    "df_training.head()"
   ]
  },
  {
   "cell_type": "code",
   "execution_count": 19,
   "id": "f9218360-c2ea-4c94-bdaf-914f0d4e0c79",
   "metadata": {},
   "outputs": [],
   "source": [
    "##########\n",
    "\n",
    "##########\n",
    "##########\n",
    "\n",
    "##########"
   ]
  },
  {
   "cell_type": "markdown",
   "id": "b91cf621-5e36-4d57-89d9-30568d5c95f6",
   "metadata": {},
   "source": [
    "I then read the test datasets printed their shapes"
   ]
  },
  {
   "cell_type": "code",
   "execution_count": 20,
   "id": "7db15824-378d-4c92-8ff9-8d5b018c8852",
   "metadata": {},
   "outputs": [],
   "source": [
    "customers = f'{ROOT}/orig/customers_test.csv'\n",
    "accounts = f'{ROOT}/orig/accounts_test.csv'\n",
    "transactions = f'{ROOT}/orig/transactions_test.csv'"
   ]
  },
  {
   "cell_type": "code",
   "execution_count": 21,
   "id": "1711b010-5873-4de6-809b-383bf3d0356f",
   "metadata": {},
   "outputs": [
    {
     "name": "stdout",
     "output_type": "stream",
     "text": [
      "(3542, 14)\n",
      "(13575, 2)\n",
      "(227447, 3)\n"
     ]
    }
   ],
   "source": [
    "df_customer_test = pd.read_csv(customers)\n",
    "df_accounts_test = pd.read_csv(accounts)\n",
    "df_transactions_test = pd.read_csv(transactions)\n",
    "\n",
    "print(df_customer_test.shape)\n",
    "print(df_accounts_test.shape)\n",
    "print(df_transactions_test.shape)"
   ]
  },
  {
   "cell_type": "markdown",
   "id": "aadec15b-2988-45b2-83f9-f3438586c9c5",
   "metadata": {},
   "source": [
    "I then dropped the rowswith null values from the test datasets, as seen below the number of rows stayed the same in the datasets so there was no rows with null values"
   ]
  },
  {
   "cell_type": "code",
   "execution_count": 22,
   "id": "3d6c24b9-4157-44b2-ab17-4c7b0f797cfb",
   "metadata": {},
   "outputs": [
    {
     "name": "stdout",
     "output_type": "stream",
     "text": [
      "(3542, 14)\n",
      "(13575, 2)\n",
      "(227447, 3)\n"
     ]
    }
   ],
   "source": [
    "df_customer_test = df_customer_test.dropna()\n",
    "df_accounts_test = df_accounts_test.dropna()\n",
    "df_transactions_test = df_transactions_test.dropna()\n",
    "\n",
    "print(df_customer_test.shape)\n",
    "print(df_accounts_test.shape)\n",
    "print(df_transactions_test.shape)"
   ]
  },
  {
   "cell_type": "markdown",
   "id": "62c16c6c-3f89-4238-80a7-61c3496ff811",
   "metadata": {},
   "source": [
    "I then checked the number of duplicated rows based on the Customer column"
   ]
  },
  {
   "cell_type": "code",
   "execution_count": 23,
   "id": "ef9c966d-bce3-42a5-9a30-aa13f6741310",
   "metadata": {},
   "outputs": [
    {
     "name": "stdout",
     "output_type": "stream",
     "text": [
      "0\n",
      "10033\n",
      "223905\n"
     ]
    }
   ],
   "source": [
    "print(df_customer_test.duplicated(subset=['Customer']).sum())\n",
    "print(df_accounts_test.duplicated(subset=['Customer']).sum())\n",
    "print(df_transactions_test.duplicated(subset=['Customer']).sum())"
   ]
  },
  {
   "cell_type": "markdown",
   "id": "d7592a21-74e4-4275-9938-04a4c2bd1456",
   "metadata": {},
   "source": [
    "I then did the same merging process I did for the training datasets on the test datasets"
   ]
  },
  {
   "cell_type": "code",
   "execution_count": 24,
   "id": "fde85bcc-f69b-4dee-bab1-cd4d8aed15be",
   "metadata": {},
   "outputs": [
    {
     "name": "stdout",
     "output_type": "stream",
     "text": [
      "(3542, 14)\n",
      "(3542, 2)\n",
      "(3542, 2)\n",
      "(3542, 2)\n",
      "(3542, 2)\n"
     ]
    }
   ],
   "source": [
    "# https://pandas.pydata.org/docs/reference/api/pandas.DataFrame.drop_duplicates.html\n",
    "# https://www.easytweaks.com/pandas-groupby-to-dataframe/\n",
    "\n",
    "df_customer_test = df_customer_test.drop_duplicates(subset=['Customer'])\n",
    "df_accounts_test = df_accounts_test.drop_duplicates(subset=['Customer'])\n",
    "#df_transactions_test = df_transactions_test.drop_duplicates(subset=['Customer'])\n",
    "#df_transactions_test = df_transactions_test.groupby('Customer').agg('sum').reset_index()\n",
    "\n",
    "df_transactions_test_sum = df_transactions_test.groupby('Customer').agg('sum').reset_index()\n",
    "df_transactions_test_sum.rename(columns={\"Amount\": \"Amount_Sum\"}, inplace=True)\n",
    "\n",
    "df_transactions_test_mean = df_transactions_test.groupby('Customer').agg('mean').reset_index()\n",
    "df_transactions_test_mean.rename(columns={\"Amount\": \"Amount_Mean\"}, inplace=True)\n",
    "\n",
    "df_transactions_test_median = df_transactions_test.groupby('Customer').agg('median').reset_index()\n",
    "df_transactions_test_median.rename(columns={\"Amount\": \"Amount_Median\"}, inplace=True)\n",
    "\n",
    "print(df_customer_test.shape)\n",
    "print(df_accounts_test.shape)\n",
    "#print(df_transactions_train.shape)\n",
    "print(df_transactions_test_sum.shape)\n",
    "print(df_transactions_test_mean.shape)\n",
    "print(df_transactions_test_median.shape)"
   ]
  },
  {
   "cell_type": "code",
   "execution_count": 25,
   "id": "1585922b-9f09-4835-a1d4-97cedd0132f3",
   "metadata": {},
   "outputs": [
    {
     "name": "stdout",
     "output_type": "stream",
     "text": [
      "(3542, 17)\n"
     ]
    },
    {
     "data": {
      "text/html": [
       "<div>\n",
       "<style scoped>\n",
       "    .dataframe tbody tr th:only-of-type {\n",
       "        vertical-align: middle;\n",
       "    }\n",
       "\n",
       "    .dataframe tbody tr th {\n",
       "        vertical-align: top;\n",
       "    }\n",
       "\n",
       "    .dataframe thead th {\n",
       "        text-align: right;\n",
       "    }\n",
       "</style>\n",
       "<table border=\"1\" class=\"dataframe\">\n",
       "  <thead>\n",
       "    <tr style=\"text-align: right;\">\n",
       "      <th></th>\n",
       "      <th>Customer</th>\n",
       "      <th>Card</th>\n",
       "      <th>Start_Date</th>\n",
       "      <th>Customer_Service_Calls</th>\n",
       "      <th>Credit_Limit</th>\n",
       "      <th>Total_Revolving_Balance</th>\n",
       "      <th>Average_Open_To_Buy</th>\n",
       "      <th>Average_Utilisation_Ratio</th>\n",
       "      <th>Age</th>\n",
       "      <th>Gender</th>\n",
       "      <th>Education</th>\n",
       "      <th>Marital_Status</th>\n",
       "      <th>Dependents</th>\n",
       "      <th>Income</th>\n",
       "      <th>Amount_Sum</th>\n",
       "      <th>Amount_Mean</th>\n",
       "      <th>Amount_Median</th>\n",
       "    </tr>\n",
       "  </thead>\n",
       "  <tbody>\n",
       "    <tr>\n",
       "      <th>0</th>\n",
       "      <td>774663629</td>\n",
       "      <td>Gold</td>\n",
       "      <td>2020-01-01</td>\n",
       "      <td>2</td>\n",
       "      <td>29663.0</td>\n",
       "      <td>1743</td>\n",
       "      <td>27920.0</td>\n",
       "      <td>0.059</td>\n",
       "      <td>51</td>\n",
       "      <td>M</td>\n",
       "      <td>Graduate</td>\n",
       "      <td>Single</td>\n",
       "      <td>3</td>\n",
       "      <td>€50K - €80K</td>\n",
       "      <td>14638.00</td>\n",
       "      <td>157.397849</td>\n",
       "      <td>100.350</td>\n",
       "    </tr>\n",
       "    <tr>\n",
       "      <th>1</th>\n",
       "      <td>720420396</td>\n",
       "      <td>Silver</td>\n",
       "      <td>2020-11-01</td>\n",
       "      <td>2</td>\n",
       "      <td>2032.0</td>\n",
       "      <td>1195</td>\n",
       "      <td>837.0</td>\n",
       "      <td>0.588</td>\n",
       "      <td>45</td>\n",
       "      <td>F</td>\n",
       "      <td>Unknown</td>\n",
       "      <td>Divorced</td>\n",
       "      <td>3</td>\n",
       "      <td>€30K - €50K</td>\n",
       "      <td>4478.97</td>\n",
       "      <td>55.987125</td>\n",
       "      <td>32.380</td>\n",
       "    </tr>\n",
       "    <tr>\n",
       "      <th>2</th>\n",
       "      <td>815283379</td>\n",
       "      <td>Silver</td>\n",
       "      <td>2020-01-01</td>\n",
       "      <td>1</td>\n",
       "      <td>17268.0</td>\n",
       "      <td>1197</td>\n",
       "      <td>16071.0</td>\n",
       "      <td>0.069</td>\n",
       "      <td>57</td>\n",
       "      <td>M</td>\n",
       "      <td>Graduate</td>\n",
       "      <td>Single</td>\n",
       "      <td>3</td>\n",
       "      <td>€100K +</td>\n",
       "      <td>4077.01</td>\n",
       "      <td>45.300111</td>\n",
       "      <td>26.880</td>\n",
       "    </tr>\n",
       "    <tr>\n",
       "      <th>3</th>\n",
       "      <td>764861610</td>\n",
       "      <td>Silver</td>\n",
       "      <td>2020-05-01</td>\n",
       "      <td>3</td>\n",
       "      <td>2264.0</td>\n",
       "      <td>0</td>\n",
       "      <td>2264.0</td>\n",
       "      <td>0.000</td>\n",
       "      <td>38</td>\n",
       "      <td>F</td>\n",
       "      <td>Primary level</td>\n",
       "      <td>Single</td>\n",
       "      <td>2</td>\n",
       "      <td>Less than €30K</td>\n",
       "      <td>1204.02</td>\n",
       "      <td>43.000714</td>\n",
       "      <td>24.965</td>\n",
       "    </tr>\n",
       "    <tr>\n",
       "      <th>4</th>\n",
       "      <td>742798818</td>\n",
       "      <td>Silver</td>\n",
       "      <td>2020-01-01</td>\n",
       "      <td>1</td>\n",
       "      <td>2192.0</td>\n",
       "      <td>1464</td>\n",
       "      <td>728.0</td>\n",
       "      <td>0.668</td>\n",
       "      <td>45</td>\n",
       "      <td>F</td>\n",
       "      <td>MSc</td>\n",
       "      <td>Unknown</td>\n",
       "      <td>4</td>\n",
       "      <td>Less than €30K</td>\n",
       "      <td>4905.03</td>\n",
       "      <td>55.112697</td>\n",
       "      <td>34.660</td>\n",
       "    </tr>\n",
       "  </tbody>\n",
       "</table>\n",
       "</div>"
      ],
      "text/plain": [
       "    Customer    Card  Start_Date  Customer_Service_Calls  Credit_Limit  \\\n",
       "0  774663629    Gold  2020-01-01                       2       29663.0   \n",
       "1  720420396  Silver  2020-11-01                       2        2032.0   \n",
       "2  815283379  Silver  2020-01-01                       1       17268.0   \n",
       "3  764861610  Silver  2020-05-01                       3        2264.0   \n",
       "4  742798818  Silver  2020-01-01                       1        2192.0   \n",
       "\n",
       "   Total_Revolving_Balance  Average_Open_To_Buy  Average_Utilisation_Ratio  \\\n",
       "0                     1743              27920.0                      0.059   \n",
       "1                     1195                837.0                      0.588   \n",
       "2                     1197              16071.0                      0.069   \n",
       "3                        0               2264.0                      0.000   \n",
       "4                     1464                728.0                      0.668   \n",
       "\n",
       "   Age Gender      Education Marital_Status  Dependents          Income  \\\n",
       "0   51      M       Graduate         Single           3     €50K - €80K   \n",
       "1   45      F        Unknown       Divorced           3     €30K - €50K   \n",
       "2   57      M       Graduate         Single           3         €100K +   \n",
       "3   38      F  Primary level         Single           2  Less than €30K   \n",
       "4   45      F            MSc        Unknown           4  Less than €30K   \n",
       "\n",
       "   Amount_Sum  Amount_Mean  Amount_Median  \n",
       "0    14638.00   157.397849        100.350  \n",
       "1     4478.97    55.987125         32.380  \n",
       "2     4077.01    45.300111         26.880  \n",
       "3     1204.02    43.000714         24.965  \n",
       "4     4905.03    55.112697         34.660  "
      ]
     },
     "execution_count": 25,
     "metadata": {},
     "output_type": "execute_result"
    }
   ],
   "source": [
    "# https://ai.plainenglish.io/combining-and-merging-datasets-in-pandas-8e71e11b76fa\n",
    "\n",
    "df_testing = pd.merge(df_customer_test, df_transactions_test_sum, on='Customer')\n",
    "df_testing = pd.merge(df_testing, df_transactions_test_mean, on='Customer')\n",
    "df_testing = pd.merge(df_testing, df_transactions_test_median, on='Customer')\n",
    "\n",
    "print(df_testing.shape)\n",
    "df_testing.head()"
   ]
  },
  {
   "cell_type": "code",
   "execution_count": 26,
   "id": "5f6d5db5-220c-48a4-bb94-97c55ad01cb3",
   "metadata": {},
   "outputs": [
    {
     "name": "stdout",
     "output_type": "stream",
     "text": [
      "(3542, 18)\n"
     ]
    },
    {
     "data": {
      "text/html": [
       "<div>\n",
       "<style scoped>\n",
       "    .dataframe tbody tr th:only-of-type {\n",
       "        vertical-align: middle;\n",
       "    }\n",
       "\n",
       "    .dataframe tbody tr th {\n",
       "        vertical-align: top;\n",
       "    }\n",
       "\n",
       "    .dataframe thead th {\n",
       "        text-align: right;\n",
       "    }\n",
       "</style>\n",
       "<table border=\"1\" class=\"dataframe\">\n",
       "  <thead>\n",
       "    <tr style=\"text-align: right;\">\n",
       "      <th></th>\n",
       "      <th>Customer</th>\n",
       "      <th>Card</th>\n",
       "      <th>Start_Date</th>\n",
       "      <th>Customer_Service_Calls</th>\n",
       "      <th>Credit_Limit</th>\n",
       "      <th>Total_Revolving_Balance</th>\n",
       "      <th>Average_Open_To_Buy</th>\n",
       "      <th>Average_Utilisation_Ratio</th>\n",
       "      <th>Age</th>\n",
       "      <th>Gender</th>\n",
       "      <th>Education</th>\n",
       "      <th>Marital_Status</th>\n",
       "      <th>Dependents</th>\n",
       "      <th>Income</th>\n",
       "      <th>Amount_Sum</th>\n",
       "      <th>Amount_Mean</th>\n",
       "      <th>Amount_Median</th>\n",
       "      <th>Account</th>\n",
       "    </tr>\n",
       "  </thead>\n",
       "  <tbody>\n",
       "    <tr>\n",
       "      <th>0</th>\n",
       "      <td>774663629</td>\n",
       "      <td>Gold</td>\n",
       "      <td>2020-01-01</td>\n",
       "      <td>2</td>\n",
       "      <td>29663.0</td>\n",
       "      <td>1743</td>\n",
       "      <td>27920.0</td>\n",
       "      <td>0.059</td>\n",
       "      <td>51</td>\n",
       "      <td>M</td>\n",
       "      <td>Graduate</td>\n",
       "      <td>Single</td>\n",
       "      <td>3</td>\n",
       "      <td>€50K - €80K</td>\n",
       "      <td>14638.00</td>\n",
       "      <td>157.397849</td>\n",
       "      <td>100.350</td>\n",
       "      <td>Credit Card</td>\n",
       "    </tr>\n",
       "    <tr>\n",
       "      <th>1</th>\n",
       "      <td>720420396</td>\n",
       "      <td>Silver</td>\n",
       "      <td>2020-11-01</td>\n",
       "      <td>2</td>\n",
       "      <td>2032.0</td>\n",
       "      <td>1195</td>\n",
       "      <td>837.0</td>\n",
       "      <td>0.588</td>\n",
       "      <td>45</td>\n",
       "      <td>F</td>\n",
       "      <td>Unknown</td>\n",
       "      <td>Divorced</td>\n",
       "      <td>3</td>\n",
       "      <td>€30K - €50K</td>\n",
       "      <td>4478.97</td>\n",
       "      <td>55.987125</td>\n",
       "      <td>32.380</td>\n",
       "      <td>Credit Card</td>\n",
       "    </tr>\n",
       "    <tr>\n",
       "      <th>2</th>\n",
       "      <td>815283379</td>\n",
       "      <td>Silver</td>\n",
       "      <td>2020-01-01</td>\n",
       "      <td>1</td>\n",
       "      <td>17268.0</td>\n",
       "      <td>1197</td>\n",
       "      <td>16071.0</td>\n",
       "      <td>0.069</td>\n",
       "      <td>57</td>\n",
       "      <td>M</td>\n",
       "      <td>Graduate</td>\n",
       "      <td>Single</td>\n",
       "      <td>3</td>\n",
       "      <td>€100K +</td>\n",
       "      <td>4077.01</td>\n",
       "      <td>45.300111</td>\n",
       "      <td>26.880</td>\n",
       "      <td>Current</td>\n",
       "    </tr>\n",
       "    <tr>\n",
       "      <th>3</th>\n",
       "      <td>764861610</td>\n",
       "      <td>Silver</td>\n",
       "      <td>2020-05-01</td>\n",
       "      <td>3</td>\n",
       "      <td>2264.0</td>\n",
       "      <td>0</td>\n",
       "      <td>2264.0</td>\n",
       "      <td>0.000</td>\n",
       "      <td>38</td>\n",
       "      <td>F</td>\n",
       "      <td>Primary level</td>\n",
       "      <td>Single</td>\n",
       "      <td>2</td>\n",
       "      <td>Less than €30K</td>\n",
       "      <td>1204.02</td>\n",
       "      <td>43.000714</td>\n",
       "      <td>24.965</td>\n",
       "      <td>Investment</td>\n",
       "    </tr>\n",
       "    <tr>\n",
       "      <th>4</th>\n",
       "      <td>742798818</td>\n",
       "      <td>Silver</td>\n",
       "      <td>2020-01-01</td>\n",
       "      <td>1</td>\n",
       "      <td>2192.0</td>\n",
       "      <td>1464</td>\n",
       "      <td>728.0</td>\n",
       "      <td>0.668</td>\n",
       "      <td>45</td>\n",
       "      <td>F</td>\n",
       "      <td>MSc</td>\n",
       "      <td>Unknown</td>\n",
       "      <td>4</td>\n",
       "      <td>Less than €30K</td>\n",
       "      <td>4905.03</td>\n",
       "      <td>55.112697</td>\n",
       "      <td>34.660</td>\n",
       "      <td>Joint</td>\n",
       "    </tr>\n",
       "  </tbody>\n",
       "</table>\n",
       "</div>"
      ],
      "text/plain": [
       "    Customer    Card  Start_Date  Customer_Service_Calls  Credit_Limit  \\\n",
       "0  774663629    Gold  2020-01-01                       2       29663.0   \n",
       "1  720420396  Silver  2020-11-01                       2        2032.0   \n",
       "2  815283379  Silver  2020-01-01                       1       17268.0   \n",
       "3  764861610  Silver  2020-05-01                       3        2264.0   \n",
       "4  742798818  Silver  2020-01-01                       1        2192.0   \n",
       "\n",
       "   Total_Revolving_Balance  Average_Open_To_Buy  Average_Utilisation_Ratio  \\\n",
       "0                     1743              27920.0                      0.059   \n",
       "1                     1195                837.0                      0.588   \n",
       "2                     1197              16071.0                      0.069   \n",
       "3                        0               2264.0                      0.000   \n",
       "4                     1464                728.0                      0.668   \n",
       "\n",
       "   Age Gender      Education Marital_Status  Dependents          Income  \\\n",
       "0   51      M       Graduate         Single           3     €50K - €80K   \n",
       "1   45      F        Unknown       Divorced           3     €30K - €50K   \n",
       "2   57      M       Graduate         Single           3         €100K +   \n",
       "3   38      F  Primary level         Single           2  Less than €30K   \n",
       "4   45      F            MSc        Unknown           4  Less than €30K   \n",
       "\n",
       "   Amount_Sum  Amount_Mean  Amount_Median      Account  \n",
       "0    14638.00   157.397849        100.350  Credit Card  \n",
       "1     4478.97    55.987125         32.380  Credit Card  \n",
       "2     4077.01    45.300111         26.880      Current  \n",
       "3     1204.02    43.000714         24.965   Investment  \n",
       "4     4905.03    55.112697         34.660        Joint  "
      ]
     },
     "execution_count": 26,
     "metadata": {},
     "output_type": "execute_result"
    }
   ],
   "source": [
    "####\n",
    "\n",
    "df_testing = pd.merge(df_testing, df_accounts_test, on='Customer')\n",
    "print(df_testing.shape)\n",
    "df_testing.head()\n",
    "\n",
    "####"
   ]
  },
  {
   "cell_type": "markdown",
   "id": "ce72afb4-b147-4477-af4d-97edf690ed41",
   "metadata": {},
   "source": [
    "I then checked the unqiue categorical values in df_testing dataset so I can change those values to numerical values for model building"
   ]
  },
  {
   "cell_type": "code",
   "execution_count": 27,
   "id": "c1a76c69-0219-4395-83e9-2017ac340040",
   "metadata": {},
   "outputs": [
    {
     "data": {
      "text/plain": [
       "F    1839\n",
       "M    1703\n",
       "Name: Gender, dtype: int64"
      ]
     },
     "execution_count": 27,
     "metadata": {},
     "output_type": "execute_result"
    }
   ],
   "source": [
    "df_testing['Gender'].value_counts()"
   ]
  },
  {
   "cell_type": "code",
   "execution_count": 28,
   "id": "95b3954b-94fe-4f1a-bf8a-d4982d0ff4b3",
   "metadata": {},
   "outputs": [
    {
     "data": {
      "text/plain": [
       "Married     1642\n",
       "Single      1337\n",
       "Divorced     289\n",
       "Unknown      274\n",
       "Name: Marital_Status, dtype: int64"
      ]
     },
     "execution_count": 28,
     "metadata": {},
     "output_type": "execute_result"
    }
   ],
   "source": [
    "df_testing['Marital_Status'].value_counts()"
   ]
  },
  {
   "cell_type": "code",
   "execution_count": 29,
   "id": "9360c8ee-573f-4b83-aebd-de1dca4a4a9d",
   "metadata": {},
   "outputs": [
    {
     "data": {
      "text/plain": [
       "Graduate         1100\n",
       "Second level      673\n",
       "Primary level     542\n",
       "Unknown           538\n",
       "Post LC           367\n",
       "MSc               172\n",
       "PhD               150\n",
       "Name: Education, dtype: int64"
      ]
     },
     "execution_count": 29,
     "metadata": {},
     "output_type": "execute_result"
    }
   ],
   "source": [
    "df_testing['Education'].value_counts()"
   ]
  },
  {
   "cell_type": "code",
   "execution_count": 30,
   "id": "accae989-869b-4a77-b9fe-c89d4dc078c5",
   "metadata": {},
   "outputs": [
    {
     "data": {
      "text/plain": [
       "Less than €30K    1240\n",
       "€30K - €50K        625\n",
       "€80K - €100K       574\n",
       "€50K - €80K        471\n",
       "Unknown            372\n",
       "€100K +            260\n",
       "Name: Income, dtype: int64"
      ]
     },
     "execution_count": 30,
     "metadata": {},
     "output_type": "execute_result"
    }
   ],
   "source": [
    "df_testing['Income'].value_counts()"
   ]
  },
  {
   "cell_type": "code",
   "execution_count": 31,
   "id": "d7b6147e-63a7-4a61-9000-43e615282de4",
   "metadata": {},
   "outputs": [
    {
     "data": {
      "text/plain": [
       "Silver      3285\n",
       "Gold         209\n",
       "Platinum      42\n",
       "Black          6\n",
       "Name: Card, dtype: int64"
      ]
     },
     "execution_count": 31,
     "metadata": {},
     "output_type": "execute_result"
    }
   ],
   "source": [
    "df_testing['Card'].value_counts()"
   ]
  },
  {
   "cell_type": "code",
   "execution_count": 32,
   "id": "2d16ec7e-9344-4d7c-b26b-80c716e460e1",
   "metadata": {},
   "outputs": [
    {
     "data": {
      "text/plain": [
       "Credit Card          1169\n",
       "Current               814\n",
       "On Demand Deposit     386\n",
       "Deposit               363\n",
       "Investment            309\n",
       "Mortgage              275\n",
       "Loan                  136\n",
       "Joint                  90\n",
       "Name: Account, dtype: int64"
      ]
     },
     "execution_count": 32,
     "metadata": {},
     "output_type": "execute_result"
    }
   ],
   "source": [
    "df_testing['Account'].value_counts()"
   ]
  },
  {
   "cell_type": "markdown",
   "id": "e5ca08a9-0cc0-462c-84b2-122e4028cfb5",
   "metadata": {},
   "source": [
    "I then replaced all the categorical values with numerical values just as I did with the df_training dataset"
   ]
  },
  {
   "cell_type": "code",
   "execution_count": 33,
   "id": "8e1451ec-1952-4ddf-a9bc-323466b89bd5",
   "metadata": {},
   "outputs": [
    {
     "data": {
      "text/html": [
       "<div>\n",
       "<style scoped>\n",
       "    .dataframe tbody tr th:only-of-type {\n",
       "        vertical-align: middle;\n",
       "    }\n",
       "\n",
       "    .dataframe tbody tr th {\n",
       "        vertical-align: top;\n",
       "    }\n",
       "\n",
       "    .dataframe thead th {\n",
       "        text-align: right;\n",
       "    }\n",
       "</style>\n",
       "<table border=\"1\" class=\"dataframe\">\n",
       "  <thead>\n",
       "    <tr style=\"text-align: right;\">\n",
       "      <th></th>\n",
       "      <th>Customer</th>\n",
       "      <th>Card</th>\n",
       "      <th>Customer_Service_Calls</th>\n",
       "      <th>Credit_Limit</th>\n",
       "      <th>Total_Revolving_Balance</th>\n",
       "      <th>Average_Open_To_Buy</th>\n",
       "      <th>Average_Utilisation_Ratio</th>\n",
       "      <th>Age</th>\n",
       "      <th>Gender</th>\n",
       "      <th>Education</th>\n",
       "      <th>Marital_Status</th>\n",
       "      <th>Dependents</th>\n",
       "      <th>Income</th>\n",
       "      <th>Amount_Sum</th>\n",
       "      <th>Amount_Mean</th>\n",
       "      <th>Amount_Median</th>\n",
       "      <th>Account</th>\n",
       "      <th>Start_Year</th>\n",
       "    </tr>\n",
       "  </thead>\n",
       "  <tbody>\n",
       "    <tr>\n",
       "      <th>0</th>\n",
       "      <td>774663629</td>\n",
       "      <td>2</td>\n",
       "      <td>2</td>\n",
       "      <td>29663.0</td>\n",
       "      <td>1743</td>\n",
       "      <td>27920.0</td>\n",
       "      <td>0.059</td>\n",
       "      <td>51</td>\n",
       "      <td>1</td>\n",
       "      <td>1</td>\n",
       "      <td>2</td>\n",
       "      <td>3</td>\n",
       "      <td>50001</td>\n",
       "      <td>14638.00</td>\n",
       "      <td>157.397849</td>\n",
       "      <td>100.350</td>\n",
       "      <td>1</td>\n",
       "      <td>2020</td>\n",
       "    </tr>\n",
       "    <tr>\n",
       "      <th>1</th>\n",
       "      <td>720420396</td>\n",
       "      <td>1</td>\n",
       "      <td>2</td>\n",
       "      <td>2032.0</td>\n",
       "      <td>1195</td>\n",
       "      <td>837.0</td>\n",
       "      <td>0.588</td>\n",
       "      <td>45</td>\n",
       "      <td>2</td>\n",
       "      <td>3</td>\n",
       "      <td>3</td>\n",
       "      <td>3</td>\n",
       "      <td>30001</td>\n",
       "      <td>4478.97</td>\n",
       "      <td>55.987125</td>\n",
       "      <td>32.380</td>\n",
       "      <td>1</td>\n",
       "      <td>2020</td>\n",
       "    </tr>\n",
       "    <tr>\n",
       "      <th>2</th>\n",
       "      <td>815283379</td>\n",
       "      <td>1</td>\n",
       "      <td>1</td>\n",
       "      <td>17268.0</td>\n",
       "      <td>1197</td>\n",
       "      <td>16071.0</td>\n",
       "      <td>0.069</td>\n",
       "      <td>57</td>\n",
       "      <td>1</td>\n",
       "      <td>1</td>\n",
       "      <td>2</td>\n",
       "      <td>3</td>\n",
       "      <td>100001</td>\n",
       "      <td>4077.01</td>\n",
       "      <td>45.300111</td>\n",
       "      <td>26.880</td>\n",
       "      <td>2</td>\n",
       "      <td>2020</td>\n",
       "    </tr>\n",
       "    <tr>\n",
       "      <th>3</th>\n",
       "      <td>764861610</td>\n",
       "      <td>1</td>\n",
       "      <td>3</td>\n",
       "      <td>2264.0</td>\n",
       "      <td>0</td>\n",
       "      <td>2264.0</td>\n",
       "      <td>0.000</td>\n",
       "      <td>38</td>\n",
       "      <td>2</td>\n",
       "      <td>4</td>\n",
       "      <td>2</td>\n",
       "      <td>2</td>\n",
       "      <td>29999</td>\n",
       "      <td>1204.02</td>\n",
       "      <td>43.000714</td>\n",
       "      <td>24.965</td>\n",
       "      <td>6</td>\n",
       "      <td>2020</td>\n",
       "    </tr>\n",
       "    <tr>\n",
       "      <th>4</th>\n",
       "      <td>742798818</td>\n",
       "      <td>1</td>\n",
       "      <td>1</td>\n",
       "      <td>2192.0</td>\n",
       "      <td>1464</td>\n",
       "      <td>728.0</td>\n",
       "      <td>0.668</td>\n",
       "      <td>45</td>\n",
       "      <td>2</td>\n",
       "      <td>6</td>\n",
       "      <td>0</td>\n",
       "      <td>4</td>\n",
       "      <td>29999</td>\n",
       "      <td>4905.03</td>\n",
       "      <td>55.112697</td>\n",
       "      <td>34.660</td>\n",
       "      <td>8</td>\n",
       "      <td>2020</td>\n",
       "    </tr>\n",
       "  </tbody>\n",
       "</table>\n",
       "</div>"
      ],
      "text/plain": [
       "    Customer  Card  Customer_Service_Calls  Credit_Limit  \\\n",
       "0  774663629     2                       2       29663.0   \n",
       "1  720420396     1                       2        2032.0   \n",
       "2  815283379     1                       1       17268.0   \n",
       "3  764861610     1                       3        2264.0   \n",
       "4  742798818     1                       1        2192.0   \n",
       "\n",
       "   Total_Revolving_Balance  Average_Open_To_Buy  Average_Utilisation_Ratio  \\\n",
       "0                     1743              27920.0                      0.059   \n",
       "1                     1195                837.0                      0.588   \n",
       "2                     1197              16071.0                      0.069   \n",
       "3                        0               2264.0                      0.000   \n",
       "4                     1464                728.0                      0.668   \n",
       "\n",
       "   Age  Gender  Education  Marital_Status  Dependents  Income  Amount_Sum  \\\n",
       "0   51       1          1               2           3   50001    14638.00   \n",
       "1   45       2          3               3           3   30001     4478.97   \n",
       "2   57       1          1               2           3  100001     4077.01   \n",
       "3   38       2          4               2           2   29999     1204.02   \n",
       "4   45       2          6               0           4   29999     4905.03   \n",
       "\n",
       "   Amount_Mean  Amount_Median  Account  Start_Year  \n",
       "0   157.397849        100.350        1        2020  \n",
       "1    55.987125         32.380        1        2020  \n",
       "2    45.300111         26.880        2        2020  \n",
       "3    43.000714         24.965        6        2020  \n",
       "4    55.112697         34.660        8        2020  "
      ]
     },
     "execution_count": 33,
     "metadata": {},
     "output_type": "execute_result"
    }
   ],
   "source": [
    "# https://towardsdatascience.com/how-to-replace-values-in-pandas-609ba7a031c9\n",
    "# https://note.nkmk.me/en/python-pandas-str-slice/\n",
    "\n",
    "df_testing['Gender'] = df_testing['Gender'].replace({'M':1, 'F': 2})\n",
    "df_testing['Marital_Status'] = df_testing['Marital_Status'].replace({'Married':1, 'Single': 2, 'Divorced': 3, 'Unknown': 0})\n",
    "df_testing['Education'] = df_testing['Education'].replace({'Graduate':1, 'Second level': 2, 'Unknown': 3,\n",
    "                                                             'Primary level': 4, 'Post LC': 5, 'MSc': 6, 'PhD': 7})\n",
    "df_testing['Income'] = df_testing['Income'].replace({'Less than €30K':29999, '€30K - €50K': 30001, '€80K - €100K': 80001, \n",
    "                                                       '€50K - €80K': 50001, 'Unknown':0, '€100K +':100001})\n",
    "df_testing['Card'] = df_testing['Card'].replace({'Silver':1, 'Gold': 2, 'Platinum': 3, 'Black': 4})\n",
    "df_testing['Account'] = df_testing['Account'].replace({'Credit Card':1, 'Current': 2, 'On Demand Deposit': 3, 'Deposit': 4, 'Mortgage': 5,\n",
    "                                                         'Investment': 6, 'Loan': 7, 'Joint': 8})\n",
    "\n",
    "df_testing['Start_Year'] = df_testing['Start_Date'].str[:4].astype(int)\n",
    "\n",
    "\n",
    "df_testing = df_testing.drop(columns=['Start_Date'])\n",
    "\n",
    "df_testing.head()"
   ]
  },
  {
   "cell_type": "markdown",
   "id": "b8f93667-f244-4c1c-8c09-090821d5178e",
   "metadata": {},
   "source": [
    "I then printed the shape of the df_training and df_testing datasets"
   ]
  },
  {
   "cell_type": "code",
   "execution_count": 34,
   "id": "5005506e-f562-4d6f-9342-fecbf4172f5d",
   "metadata": {},
   "outputs": [
    {
     "name": "stdout",
     "output_type": "stream",
     "text": [
      "(5831, 19)\n",
      "(3542, 18)\n"
     ]
    }
   ],
   "source": [
    "print(df_training.shape)\n",
    "print(df_testing.shape)"
   ]
  },
  {
   "cell_type": "code",
   "execution_count": 35,
   "id": "cd65a0bc-56a3-472b-abd4-7015b35effed",
   "metadata": {},
   "outputs": [],
   "source": [
    "###################\n",
    "##\n",
    "###################"
   ]
  },
  {
   "cell_type": "markdown",
   "id": "8e623859-aaef-40c5-90fa-33a25f4174b4",
   "metadata": {},
   "source": [
    "I then did more EDA to compare between the target column (Churn) and some other columns\n",
    "\n",
    "The countplot below shows that the number of people who didn't churn is higher than the number of people who churned"
   ]
  },
  {
   "cell_type": "code",
   "execution_count": 36,
   "id": "6cba90a3-bd5a-4bf7-a01c-3f79ca6efa0f",
   "metadata": {},
   "outputs": [
    {
     "data": {
      "text/plain": [
       "<AxesSubplot:xlabel='Churn', ylabel='count'>"
      ]
     },
     "execution_count": 36,
     "metadata": {},
     "output_type": "execute_result"
    },
    {
     "data": {
      "image/png": "[encoded data removed]",
      "text/plain": [
       "<Figure size 640x480 with 1 Axes>"
      ]
     },
     "metadata": {},
     "output_type": "display_data"
    }
   ],
   "source": [
    "sns.countplot(x=\"Churn\", data=df_training)"
   ]
  },
  {
   "cell_type": "markdown",
   "id": "c1d454b4-f07c-439f-a965-cea7326f7875",
   "metadata": {},
   "source": [
    "The countplot below shows that the number of females who churned and didn't churn is higher than the number of men who churned and didn't churn"
   ]
  },
  {
   "cell_type": "code",
   "execution_count": 37,
   "id": "1cc5140f-b215-4358-924b-4cbddc7fe133",
   "metadata": {},
   "outputs": [
    {
     "data": {
      "text/plain": [
       "<AxesSubplot:xlabel='Churn', ylabel='count'>"
      ]
     },
     "execution_count": 37,
     "metadata": {},
     "output_type": "execute_result"
    },
    {
     "data": {
      "image/png": "[encoded data removed]",
      "text/plain": [
       "<Figure size 640x480 with 1 Axes>"
      ]
     },
     "metadata": {},
     "output_type": "display_data"
    }
   ],
   "source": [
    "sns.countplot(data=df_training, x=\"Churn\", hue=\"Gender\")"
   ]
  },
  {
   "cell_type": "markdown",
   "id": "af4bae89-f3ae-4b3a-8bca-392b181d35b9",
   "metadata": {},
   "source": [
    "The countplot below shows that the most used account by churners and non churners is Credit Card and the least used account by churners and non churners is Joint"
   ]
  },
  {
   "cell_type": "code",
   "execution_count": 38,
   "id": "346339f6-e853-4c4d-9dc6-eb0276879943",
   "metadata": {},
   "outputs": [
    {
     "data": {
      "text/plain": [
       "<AxesSubplot:xlabel='Churn', ylabel='count'>"
      ]
     },
     "execution_count": 38,
     "metadata": {},
     "output_type": "execute_result"
    },
    {
     "data": {
      "image/png": "[encoded data removed]",
      "text/plain": [
       "<Figure size 640x480 with 1 Axes>"
      ]
     },
     "metadata": {},
     "output_type": "display_data"
    }
   ],
   "source": [
    "sns.countplot(data=df_training, x=\"Churn\", hue=\"Account\")"
   ]
  },
  {
   "cell_type": "markdown",
   "id": "8a4c810c-cd52-4b84-8761-710b777ef968",
   "metadata": {},
   "source": [
    "The countplot below shows that the most used card by churners and non churners is Silver"
   ]
  },
  {
   "cell_type": "code",
   "execution_count": 39,
   "id": "3a421b17-e7c4-4066-a33c-9bd511784544",
   "metadata": {},
   "outputs": [
    {
     "data": {
      "text/plain": [
       "<AxesSubplot:xlabel='Churn', ylabel='count'>"
      ]
     },
     "execution_count": 39,
     "metadata": {},
     "output_type": "execute_result"
    },
    {
     "data": {
      "image/png": "[encoded data removed]",
      "text/plain": [
       "<Figure size 640x480 with 1 Axes>"
      ]
     },
     "metadata": {},
     "output_type": "display_data"
    }
   ],
   "source": [
    "sns.countplot(data=df_training, x=\"Churn\", hue=\"Card\")"
   ]
  },
  {
   "cell_type": "markdown",
   "id": "d9438f40-115a-4f92-9cd9-e236dc733d79",
   "metadata": {},
   "source": [
    "The countplot below shows that most of churners and non churners are Married"
   ]
  },
  {
   "cell_type": "code",
   "execution_count": 40,
   "id": "4df5ebf7-62e1-4a38-9632-73d90ac2049a",
   "metadata": {},
   "outputs": [
    {
     "data": {
      "text/plain": [
       "<AxesSubplot:xlabel='Churn', ylabel='count'>"
      ]
     },
     "execution_count": 40,
     "metadata": {},
     "output_type": "execute_result"
    },
    {
     "data": {
      "image/png": "[encoded data removed]",
      "text/plain": [
       "<Figure size 640x480 with 1 Axes>"
      ]
     },
     "metadata": {},
     "output_type": "display_data"
    }
   ],
   "source": [
    "sns.countplot(data=df_training, x=\"Churn\", hue=\"Marital_Status\")"
   ]
  },
  {
   "cell_type": "markdown",
   "id": "4384ad80-c68e-42b1-ab63-ee03c8756bee",
   "metadata": {},
   "source": [
    "The countplot below shows that most of churners and non churners are Graduates"
   ]
  },
  {
   "cell_type": "code",
   "execution_count": 41,
   "id": "e247bfd9-f99f-45e4-b3d7-2a22cf4bd7e8",
   "metadata": {},
   "outputs": [
    {
     "data": {
      "text/plain": [
       "<AxesSubplot:xlabel='Churn', ylabel='count'>"
      ]
     },
     "execution_count": 41,
     "metadata": {},
     "output_type": "execute_result"
    },
    {
     "data": {
      "image/png": "[encoded data removed]",
      "text/plain": [
       "<Figure size 640x480 with 1 Axes>"
      ]
     },
     "metadata": {},
     "output_type": "display_data"
    }
   ],
   "source": [
    "sns.countplot(data=df_training, x=\"Churn\", hue=\"Education\")"
   ]
  },
  {
   "cell_type": "markdown",
   "id": "7c313f3f-9963-4eb7-854f-f2f3539ab4cf",
   "metadata": {},
   "source": [
    "The countplot below shows that most of churners and non churners have income less than 30K"
   ]
  },
  {
   "cell_type": "code",
   "execution_count": 42,
   "id": "86467d36-337f-4dde-bd42-606ae6d02921",
   "metadata": {},
   "outputs": [
    {
     "data": {
      "text/plain": [
       "<AxesSubplot:xlabel='Churn', ylabel='count'>"
      ]
     },
     "execution_count": 42,
     "metadata": {},
     "output_type": "execute_result"
    },
    {
     "data": {
      "image/png": "[encoded data removed]",
      "text/plain": [
       "<Figure size 640x480 with 1 Axes>"
      ]
     },
     "metadata": {},
     "output_type": "display_data"
    }
   ],
   "source": [
    "sns.countplot(data=df_training, x=\"Churn\", hue=\"Income\")"
   ]
  },
  {
   "cell_type": "markdown",
   "id": "ce9433fa-c0e8-4f47-8c50-14f3fe965747",
   "metadata": {},
   "source": [
    "The boxplot below shows that the maximum age for churners is higher than the maximum age for non churners but they both have the same median age"
   ]
  },
  {
   "cell_type": "code",
   "execution_count": 43,
   "id": "09ef2922-f409-489e-81b9-41b1fba13b6c",
   "metadata": {},
   "outputs": [
    {
     "data": {
      "image/png": "[encoded data removed]",
      "text/plain": [
       "<Figure size 640x480 with 1 Axes>"
      ]
     },
     "metadata": {},
     "output_type": "display_data"
    }
   ],
   "source": [
    "sns.boxplot( y=df_training[\"Age\"], x=df_training[\"Churn\"] );"
   ]
  },
  {
   "cell_type": "markdown",
   "id": "33aac218-3f3b-457a-b833-5a9a86d01cfe",
   "metadata": {},
   "source": [
    "The boxplot below shows that the maximum Amount_Sum for non churners is higher than the maximum Amount_Sum for churners and its median is higher"
   ]
  },
  {
   "cell_type": "code",
   "execution_count": 44,
   "id": "13db2d4a-d681-4f8e-b6a0-76a0c3ab4171",
   "metadata": {},
   "outputs": [
    {
     "data": {
      "image/png": "[encoded data removed]",
      "text/plain": [
       "<Figure size 640x480 with 1 Axes>"
      ]
     },
     "metadata": {},
     "output_type": "display_data"
    }
   ],
   "source": [
    "sns.boxplot( y=df_training[\"Amount_Sum\"], x=df_training[\"Churn\"] );"
   ]
  },
  {
   "cell_type": "markdown",
   "id": "c1f15fc9-f718-48d0-a063-600f3c70ba1c",
   "metadata": {},
   "source": [
    "The boxplot below shows that the maximum number of Customer_Service_Calls for churners is higher than the maximum number of Customer_Service_Calls for non churners but they both have the same minimum number"
   ]
  },
  {
   "cell_type": "code",
   "execution_count": 45,
   "id": "aef482b0-f746-494a-bcbf-45a6549b63b5",
   "metadata": {},
   "outputs": [
    {
     "data": {
      "image/png": "[encoded data removed]",
      "text/plain": [
       "<Figure size 640x480 with 1 Axes>"
      ]
     },
     "metadata": {},
     "output_type": "display_data"
    }
   ],
   "source": [
    "sns.boxplot( y=df_training[\"Customer_Service_Calls\"], x=df_training[\"Churn\"] );"
   ]
  },
  {
   "cell_type": "markdown",
   "id": "d100d816-53bd-41c8-8a18-7d710ce5132c",
   "metadata": {},
   "source": [
    "The boxplot below shows that churners and non churners have the same maximum, minimum and median number of Dependents"
   ]
  },
  {
   "cell_type": "code",
   "execution_count": 46,
   "id": "bc0f2fcf-02b9-4410-b365-84b16b2a0a3e",
   "metadata": {},
   "outputs": [
    {
     "data": {
      "image/png": "[encoded data removed]",
      "text/plain": [
       "<Figure size 640x480 with 1 Axes>"
      ]
     },
     "metadata": {},
     "output_type": "display_data"
    }
   ],
   "source": [
    "sns.boxplot( y=df_training[\"Dependents\"], x=df_training[\"Churn\"] );"
   ]
  },
  {
   "cell_type": "markdown",
   "id": "b2b878f8-7b48-4744-99cd-7da8360c8ede",
   "metadata": {},
   "source": [
    "The boxplot below shows that the median for Credit_Limit is higher for non churners than for churners but they have the same maximum Credit_Limit"
   ]
  },
  {
   "cell_type": "code",
   "execution_count": 47,
   "id": "29c0a714-8845-4b96-b9ae-fd3ebefb8eef",
   "metadata": {},
   "outputs": [
    {
     "data": {
      "image/png": "[encoded data removed]",
      "text/plain": [
       "<Figure size 640x480 with 1 Axes>"
      ]
     },
     "metadata": {},
     "output_type": "display_data"
    }
   ],
   "source": [
    "sns.boxplot( y=df_training[\"Credit_Limit\"], x=df_training[\"Churn\"] );"
   ]
  },
  {
   "cell_type": "markdown",
   "id": "19ebb182-f8bf-4e06-b7ac-92731e057d3b",
   "metadata": {},
   "source": [
    "I then outputted the df_training and df_testing datasets to csv files called train.csv and test.csv"
   ]
  },
  {
   "cell_type": "code",
   "execution_count": 48,
   "id": "9cb4eb4b-75e8-40a3-b387-5996ac1999a3",
   "metadata": {},
   "outputs": [],
   "source": [
    "df_training.to_csv(f\"{ROOT}/output/train.csv\", index= False)\n",
    "df_testing.to_csv(f\"{ROOT}/output/test.csv\", index= False)"
   ]
  }
 ],
 "metadata": {
  "kernelspec": {
   "display_name": "Python 3 (ipykernel)",
   "language": "python",
   "name": "python3"
  },
  "language_info": {
   "codemirror_mode": {
    "name": "ipython",
    "version": 3
   },
   "file_extension": ".py",
   "mimetype": "text/x-python",
   "name": "python",
   "nbconvert_exporter": "python",
   "pygments_lexer": "ipython3",
   "version": "3.9.13"
  }
 },
 "nbformat": 4,
 "nbformat_minor": 5
}
